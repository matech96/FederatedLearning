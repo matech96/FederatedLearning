{
 "cells": [
  {
   "cell_type": "code",
   "execution_count": 1,
   "metadata": {
    "ExecuteTime": {
     "end_time": "2020-09-07T10:11:47.228938Z",
     "start_time": "2020-09-07T10:11:47.224635Z"
    }
   },
   "outputs": [],
   "source": [
    "import os\n",
    "os.chdir('../..')"
   ]
  },
  {
   "cell_type": "code",
   "execution_count": 2,
   "metadata": {
    "ExecuteTime": {
     "end_time": "2020-09-07T10:11:50.221136Z",
     "start_time": "2020-09-07T10:11:47.236752Z"
    }
   },
   "outputs": [],
   "source": [
    "import comet_ml\n",
    "from PIL import Image\n",
    "from torchvision import transforms\n",
    "import matplotlib.pyplot as plt\n",
    "\n",
    "from FLF.TorchFederatedLearnerCIFAR100 import TorchFederatedLearnerCIFAR100Config, TorchFederatedLearnerCIFAR100\n",
    "from FLF.TorchFederatedLearner import TorchFederatedLearnerTechnicalConfig"
   ]
  },
  {
   "cell_type": "code",
   "execution_count": 3,
   "metadata": {
    "ExecuteTime": {
     "end_time": "2020-09-07T10:11:50.226304Z",
     "start_time": "2020-09-07T10:11:50.223261Z"
    }
   },
   "outputs": [],
   "source": [
    "class Empty:\n",
    "    def __getattribute__(self, key):\n",
    "        return empty\n",
    "    \n",
    "def empty(*args, **kwargs):\n",
    "    return None"
   ]
  },
  {
   "cell_type": "code",
   "execution_count": 4,
   "metadata": {
    "ExecuteTime": {
     "end_time": "2020-09-07T10:24:55.355308Z",
     "start_time": "2020-09-07T10:24:37.751946Z"
    }
   },
   "outputs": [],
   "source": [
    "learner = TorchFederatedLearnerCIFAR100(\n",
    "    Empty(), \n",
    "    TorchFederatedLearnerCIFAR100Config(\n",
    "        N_CLIENTS=500,\n",
    "        IS_IID_DATA=False, \n",
    "        IMAGE_NORM=\"recordwise\",\n",
    "        SHUFFLE=False,\n",
    "        AUG=\"basic\"\n",
    "    ), \n",
    "    TorchFederatedLearnerTechnicalConfig())"
   ]
  },
  {
   "cell_type": "code",
   "execution_count": 5,
   "metadata": {
    "ExecuteTime": {
     "end_time": "2020-09-07T10:24:55.360260Z",
     "start_time": "2020-09-07T10:24:55.357399Z"
    }
   },
   "outputs": [],
   "source": [
    "dl = learner.clients[0].dataloader"
   ]
  },
  {
   "cell_type": "code",
   "execution_count": 6,
   "metadata": {
    "ExecuteTime": {
     "end_time": "2020-09-07T10:24:55.426014Z",
     "start_time": "2020-09-07T10:24:55.362371Z"
    }
   },
   "outputs": [],
   "source": [
    "b = next(iter(dl))"
   ]
  },
  {
   "cell_type": "code",
   "execution_count": 7,
   "metadata": {
    "ExecuteTime": {
     "end_time": "2020-09-07T10:24:55.431716Z",
     "start_time": "2020-09-07T10:24:55.428584Z"
    }
   },
   "outputs": [],
   "source": [
    "data, target = b"
   ]
  },
  {
   "cell_type": "code",
   "execution_count": 8,
   "metadata": {
    "ExecuteTime": {
     "end_time": "2020-09-07T10:24:55.438019Z",
     "start_time": "2020-09-07T10:24:55.434096Z"
    }
   },
   "outputs": [
    {
     "data": {
      "text/plain": [
       "(torch.Size([64, 3, 24, 24]), torch.Size([64]))"
      ]
     },
     "execution_count": 8,
     "metadata": {},
     "output_type": "execute_result"
    }
   ],
   "source": [
    "data.shape, target.shape"
   ]
  },
  {
   "cell_type": "code",
   "execution_count": 9,
   "metadata": {
    "ExecuteTime": {
     "end_time": "2020-09-07T10:24:55.446031Z",
     "start_time": "2020-09-07T10:24:55.439792Z"
    }
   },
   "outputs": [
    {
     "data": {
      "text/plain": [
       "(tensor(-4.3203e-08), tensor(0.9991), tensor(-5.1055), tensor(4.8324))"
      ]
     },
     "execution_count": 9,
     "metadata": {},
     "output_type": "execute_result"
    }
   ],
   "source": [
    "data.mean(), data.std(), data.min(), data.max()"
   ]
  },
  {
   "cell_type": "code",
   "execution_count": 10,
   "metadata": {
    "ExecuteTime": {
     "end_time": "2020-09-07T10:20:13.383181Z",
     "start_time": "2020-09-07T10:20:13.378252Z"
    }
   },
   "outputs": [],
   "source": [
    "img = transforms.ToPILImage()((data[4, ] + 1)/ 2)"
   ]
  },
  {
   "cell_type": "code",
   "execution_count": 11,
   "metadata": {
    "ExecuteTime": {
     "end_time": "2020-09-07T10:20:57.285799Z",
     "start_time": "2020-09-07T10:20:57.114931Z"
    }
   },
   "outputs": [
    {
     "data": {
      "text/plain": [
       "<matplotlib.image.AxesImage at 0x7f167b0dde90>"
      ]
     },
     "execution_count": 11,
     "metadata": {},
     "output_type": "execute_result"
    },
    {
     "data": {
      "image/png": "[encoded data removed]",
      "text/plain": [
       "<Figure size 432x288 with 1 Axes>"
      ]
     },
     "metadata": {
      "needs_background": "light"
     },
     "output_type": "display_data"
    }
   ],
   "source": [
    "plt.imshow(transforms.RandomHorizontalFlip()(img))"
   ]
  },
  {
   "cell_type": "code",
   "execution_count": 12,
   "metadata": {
    "ExecuteTime": {
     "end_time": "2020-09-07T10:21:33.585537Z",
     "start_time": "2020-09-07T10:21:33.417282Z"
    }
   },
   "outputs": [
    {
     "data": {
      "text/plain": [
       "<matplotlib.image.AxesImage at 0x7f167d0ed450>"
      ]
     },
     "execution_count": 12,
     "metadata": {},
     "output_type": "execute_result"
    },
    {
     "data": {
      "image/png": "[encoded data removed]",
      "text/plain": [
       "<Figure size 432x288 with 1 Axes>"
      ]
     },
     "metadata": {
      "needs_background": "light"
     },
     "output_type": "display_data"
    }
   ],
   "source": [
    "plt.imshow(transforms.RandomVerticalFlip()(img))"
   ]
  },
  {
   "cell_type": "code",
   "execution_count": 13,
   "metadata": {
    "ExecuteTime": {
     "end_time": "2020-09-07T10:17:14.273514Z",
     "start_time": "2020-09-07T10:17:14.268943Z"
    }
   },
   "outputs": [
    {
     "data": {
      "text/plain": [
       "tensor([44, 33, 75, 27, 49, 29, 33, 49, 60, 93, 49, 60, 93, 60, 63, 63, 60, 60,\n",
       "        71, 60, 29, 23, 63, 71, 34, 33, 33, 71, 23, 93, 33, 63, 44, 34, 88, 44,\n",
       "        49, 23, 93, 34, 93, 27, 15, 60, 21, 71, 23, 75, 49, 63, 49, 77, 75, 71,\n",
       "        93, 49, 29,  0, 23, 99, 29, 45, 93, 93])"
      ]
     },
     "execution_count": 13,
     "metadata": {},
     "output_type": "execute_result"
    }
   ],
   "source": [
    "target"
   ]
  },
  {
   "cell_type": "code",
   "execution_count": 14,
   "metadata": {
    "ExecuteTime": {
     "end_time": "2020-09-07T10:17:14.281482Z",
     "start_time": "2020-09-07T10:17:14.275205Z"
    }
   },
   "outputs": [
    {
     "name": "stdout",
     "output_type": "stream",
     "text": [
      "tensor([93, 63, 64, 60, 49, 75, 21, 23, 33, 99, 60, 33, 33, 77, 49, 60, 45, 99,\n",
      "        93, 71, 34, 51, 93, 34, 33, 71, 44, 93, 71, 45, 29, 27, 49, 27, 44, 33,\n",
      "         0, 23, 93, 93, 27, 49, 44, 49, 75, 75, 23, 29, 29, 44, 27, 23, 63, 63,\n",
      "        38, 49, 45, 23, 33, 71, 77, 33, 60, 49])\n",
      "tensor([23, 23, 93, 71, 93, 29, 33, 33, 27, 93, 33, 63, 49, 33, 71, 15, 88, 51,\n",
      "        93, 71, 60, 60, 34, 60, 29, 75, 49, 60, 33, 63, 49, 93, 23, 29, 71, 34])\n"
     ]
    }
   ],
   "source": [
    "for i, d in dl:\n",
    "    print(d)"
   ]
  },
  {
   "cell_type": "code",
   "execution_count": null,
   "metadata": {},
   "outputs": [],
   "source": []
  }
 ],
 "metadata": {
  "kernelspec": {
   "display_name": "Python 3",
   "language": "python",
   "name": "python3"
  },
  "language_info": {
   "codemirror_mode": {
    "name": "ipython",
    "version": 3
   },
   "file_extension": ".py",
   "mimetype": "text/x-python",
   "name": "python",
   "nbconvert_exporter": "python",
   "pygments_lexer": "ipython3",
   "version": "3.7.6"
  },
  "toc": {
   "base_numbering": 1,
   "nav_menu": {},
   "number_sections": false,
   "sideBar": true,
   "skip_h1_title": false,
   "title_cell": "Table of Contents",
   "title_sidebar": "Contents",
   "toc_cell": false,
   "toc_position": {},
   "toc_section_display": true,
   "toc_window_display": false
  }
 },
 "nbformat": 4,
 "nbformat_minor": 4
}
