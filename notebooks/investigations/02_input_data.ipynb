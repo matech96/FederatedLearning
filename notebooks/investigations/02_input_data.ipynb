{
 "cells": [
  {
   "cell_type": "code",
   "execution_count": 1,
   "metadata": {
    "ExecuteTime": {
     "end_time": "2020-09-07T10:11:47.228938Z",
     "start_time": "2020-09-07T10:11:47.224635Z"
    }
   },
   "outputs": [],
   "source": [
    "import os\n",
    "os.chdir('../..')"
   ]
  },
  {
   "cell_type": "code",
   "execution_count": 2,
   "metadata": {
    "ExecuteTime": {
     "end_time": "2020-09-07T10:11:50.221136Z",
     "start_time": "2020-09-07T10:11:47.236752Z"
    }
   },
   "outputs": [],
   "source": [
    "import comet_ml\n",
    "from PIL import Image\n",
    "from torchvision import transforms\n",
    "import matplotlib.pyplot as plt\n",
    "\n",
    "from FLF.TorchFederatedLearnerCIFAR100 import TorchFederatedLearnerCIFAR100Config, TorchFederatedLearnerCIFAR100\n",
    "from FLF.TorchFederatedLearner import TorchFederatedLearnerTechnicalConfig"
   ]
  },
  {
   "cell_type": "code",
   "execution_count": 3,
   "metadata": {
    "ExecuteTime": {
     "end_time": "2020-09-07T10:11:50.226304Z",
     "start_time": "2020-09-07T10:11:50.223261Z"
    }
   },
   "outputs": [],
   "source": [
    "class Empty:\n",
    "    def __getattribute__(self, key):\n",
    "        return empty\n",
    "    \n",
    "def empty(*args, **kwargs):\n",
    "    return None"
   ]
  },
  {
   "cell_type": "code",
   "execution_count": 108,
   "metadata": {
    "ExecuteTime": {
     "end_time": "2020-09-07T10:24:55.355308Z",
     "start_time": "2020-09-07T10:24:37.751946Z"
    }
   },
   "outputs": [],
   "source": [
    "learner = TorchFederatedLearnerCIFAR100(\n",
    "    Empty(), \n",
    "    TorchFederatedLearnerCIFAR100Config(\n",
    "        N_CLIENTS=500,\n",
    "        IS_IID_DATA=False, \n",
    "        IMAGE_NORM=\"recordwise\",\n",
    "        SHUFFLE=False,\n",
    "        AUG=\"basic\"\n",
    "    ), \n",
    "    TorchFederatedLearnerTechnicalConfig())"
   ]
  },
  {
   "cell_type": "code",
   "execution_count": 109,
   "metadata": {
    "ExecuteTime": {
     "end_time": "2020-09-07T10:24:55.360260Z",
     "start_time": "2020-09-07T10:24:55.357399Z"
    }
   },
   "outputs": [],
   "source": [
    "dl = learner.clients[0].dataloader"
   ]
  },
  {
   "cell_type": "code",
   "execution_count": 110,
   "metadata": {
    "ExecuteTime": {
     "end_time": "2020-09-07T10:24:55.426014Z",
     "start_time": "2020-09-07T10:24:55.362371Z"
    }
   },
   "outputs": [],
   "source": [
    "b = next(iter(dl))"
   ]
  },
  {
   "cell_type": "code",
   "execution_count": 111,
   "metadata": {
    "ExecuteTime": {
     "end_time": "2020-09-07T10:24:55.431716Z",
     "start_time": "2020-09-07T10:24:55.428584Z"
    }
   },
   "outputs": [],
   "source": [
    "data, target = b"
   ]
  },
  {
   "cell_type": "code",
   "execution_count": 112,
   "metadata": {
    "ExecuteTime": {
     "end_time": "2020-09-07T10:24:55.438019Z",
     "start_time": "2020-09-07T10:24:55.434096Z"
    }
   },
   "outputs": [
    {
     "data": {
      "text/plain": [
       "(torch.Size([64, 3, 24, 24]), torch.Size([64]))"
      ]
     },
     "execution_count": 112,
     "metadata": {},
     "output_type": "execute_result"
    }
   ],
   "source": [
    "data.shape, target.shape"
   ]
  },
  {
   "cell_type": "code",
   "execution_count": 113,
   "metadata": {
    "ExecuteTime": {
     "end_time": "2020-09-07T10:24:55.446031Z",
     "start_time": "2020-09-07T10:24:55.439792Z"
    }
   },
   "outputs": [
    {
     "data": {
      "text/plain": [
       "(tensor(-1.3108e-09), tensor(0.9991), tensor(-7.5573), tensor(4.5070))"
      ]
     },
     "execution_count": 113,
     "metadata": {},
     "output_type": "execute_result"
    }
   ],
   "source": [
    "data.mean(), data.std(), data.min(), data.max()"
   ]
  },
  {
   "cell_type": "code",
   "execution_count": 82,
   "metadata": {
    "ExecuteTime": {
     "end_time": "2020-09-07T10:20:13.383181Z",
     "start_time": "2020-09-07T10:20:13.378252Z"
    }
   },
   "outputs": [],
   "source": [
    "img = transforms.ToPILImage()((data[4, ] + 1)/ 2)"
   ]
  },
  {
   "cell_type": "code",
   "execution_count": 97,
   "metadata": {
    "ExecuteTime": {
     "end_time": "2020-09-07T10:20:57.285799Z",
     "start_time": "2020-09-07T10:20:57.114931Z"
    }
   },
   "outputs": [
    {
     "data": {
      "text/plain": [
       "<matplotlib.image.AxesImage at 0x7f140fc14d50>"
      ]
     },
     "execution_count": 97,
     "metadata": {},
     "output_type": "execute_result"
    },
    {
     "data": {
      "image/png": "[encoded data removed]",
      "text/plain": [
       "<Figure size 432x288 with 1 Axes>"
      ]
     },
     "metadata": {
      "needs_background": "light"
     },
     "output_type": "display_data"
    }
   ],
   "source": [
    "plt.imshow(transforms.RandomHorizontalFlip()(img))"
   ]
  },
  {
   "cell_type": "code",
   "execution_count": 101,
   "metadata": {
    "ExecuteTime": {
     "end_time": "2020-09-07T10:21:33.585537Z",
     "start_time": "2020-09-07T10:21:33.417282Z"
    }
   },
   "outputs": [
    {
     "data": {
      "text/plain": [
       "<matplotlib.image.AxesImage at 0x7f140ba29390>"
      ]
     },
     "execution_count": 101,
     "metadata": {},
     "output_type": "execute_result"
    },
    {
     "data": {
      "image/png": "[encoded data removed]",
      "text/plain": [
       "<Figure size 432x288 with 1 Axes>"
      ]
     },
     "metadata": {
      "needs_background": "light"
     },
     "output_type": "display_data"
    }
   ],
   "source": [
    "plt.imshow(transforms.RandomVerticalFlip()(img))"
   ]
  },
  {
   "cell_type": "code",
   "execution_count": 50,
   "metadata": {
    "ExecuteTime": {
     "end_time": "2020-09-07T10:17:14.273514Z",
     "start_time": "2020-09-07T10:17:14.268943Z"
    }
   },
   "outputs": [
    {
     "data": {
      "text/plain": [
       "tensor([60, 27, 93, 49, 60, 29, 75, 93, 34, 29, 23, 27, 44, 75, 23, 63, 49, 49,\n",
       "        33, 63, 23, 99, 33, 60, 29, 45, 33, 27, 99, 51, 93, 33, 15, 93, 60, 44,\n",
       "        33, 63, 27, 77, 23, 34, 71, 60, 71, 93, 23, 21, 93, 45, 71, 93, 71, 71,\n",
       "        93, 77, 88, 49, 64, 45, 63, 23, 93, 75])"
      ]
     },
     "execution_count": 50,
     "metadata": {},
     "output_type": "execute_result"
    }
   ],
   "source": [
    "target"
   ]
  },
  {
   "cell_type": "code",
   "execution_count": 51,
   "metadata": {
    "ExecuteTime": {
     "end_time": "2020-09-07T10:17:14.281482Z",
     "start_time": "2020-09-07T10:17:14.275205Z"
    }
   },
   "outputs": [
    {
     "name": "stdout",
     "output_type": "stream",
     "text": [
      "tensor([60, 45, 75, 71, 63, 71, 49, 23, 27, 33, 99, 33, 49, 38, 75, 63, 44, 29,\n",
      "        33,  0, 93, 33, 49, 34, 93, 93, 75, 29, 88, 44, 33, 23, 93, 60, 93, 60,\n",
      "        49, 34, 27, 51, 23, 60, 27, 49, 49, 64, 23, 29, 27, 49, 63, 71, 63, 51,\n",
      "        93, 49, 44, 27, 71, 33, 29, 33, 49, 71])\n",
      "tensor([29, 45, 93, 99, 33, 34, 71, 33, 29, 60, 60, 60, 60, 93, 49, 45, 23, 23,\n",
      "        77, 71, 23, 33, 71, 21, 77, 34, 93, 93, 33, 15, 33, 23, 93, 63, 75, 44])\n"
     ]
    }
   ],
   "source": [
    "for i, d in dl:\n",
    "    print(d)"
   ]
  },
  {
   "cell_type": "code",
   "execution_count": null,
   "metadata": {},
   "outputs": [],
   "source": []
  }
 ],
 "metadata": {
  "kernelspec": {
   "display_name": "Python 3",
   "language": "python",
   "name": "python3"
  },
  "language_info": {
   "codemirror_mode": {
    "name": "ipython",
    "version": 3
   },
   "file_extension": ".py",
   "mimetype": "text/x-python",
   "name": "python",
   "nbconvert_exporter": "python",
   "pygments_lexer": "ipython3",
   "version": "3.7.6"
  },
  "toc": {
   "base_numbering": 1,
   "nav_menu": {},
   "number_sections": false,
   "sideBar": true,
   "skip_h1_title": false,
   "title_cell": "Table of Contents",
   "title_sidebar": "Contents",
   "toc_cell": false,
   "toc_position": {},
   "toc_section_display": true,
   "toc_window_display": false
  }
 },
 "nbformat": 4,
 "nbformat_minor": 2
}
