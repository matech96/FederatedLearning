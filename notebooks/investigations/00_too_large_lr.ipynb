{
 "cells": [
  {
   "cell_type": "code",
   "execution_count": null,
   "metadata": {},
   "outputs": [],
   "source": [
    "import comet_ml\n",
    "import pandas as pd\n",
    "import numpy as np\n",
    "from statistics import variance, mean"
   ]
  },
  {
   "cell_type": "code",
   "execution_count": null,
   "metadata": {},
   "outputs": [],
   "source": [
    "comet_api = comet_ml.api.API()\n",
    "exps = comet_api.get('federated-learning', 'both-side-opt')"
   ]
  },
  {
   "cell_type": "code",
   "execution_count": null,
   "metadata": {},
   "outputs": [],
   "source": [
    "def get_curve(exp, metric):\n",
    "    dict_acc = exp.get_metrics(metric)\n",
    "    return [float(record['metricValue']) for record in dict_acc]"
   ]
  },
  {
   "cell_type": "code",
   "execution_count": null,
   "metadata": {},
   "outputs": [],
   "source": [
    "test_accs = [get_curve(exp,'test_acc') for exp in exps]\n",
    "losses = [get_curve(exp,'test_loss') for exp in exps]\n",
    "ids = [exp.id for exp in exps]\n",
    "urls = [f\"https://www.comet.ml/federated-learning/both-side-opt/{i}\" for i in ids]"
   ]
  },
  {
   "cell_type": "code",
   "execution_count": 85,
   "metadata": {},
   "outputs": [
    {
     "data": {
      "text/html": [
       "<a href=\"https://www.comet.ml/federated-learning/both-side-opt/cf473c9bec684f16a723161ea8f0ff9b\">a:_1.00 - s:2.738099e-03 - la:4.594491e-02 - ls:1.036284e-06 </a> - cf473c9bec684f16a723161ea8f0ff9b"
      ],
      "text/plain": [
       "<IPython.core.display.HTML object>"
      ]
     },
     "metadata": {},
     "output_type": "display_data"
    },
    {
     "data": {
      "text/html": [
       "<a href=\"https://www.comet.ml/federated-learning/both-side-opt/cf473c9bec684f16a723161ea8f0ff9b\">a:_1.00 - s:2.738099e-03 - la:4.594491e-02 - ls:1.036284e-06 </a> - cf473c9bec684f16a723161ea8f0ff9b"
      ],
      "text/plain": [
       "<IPython.core.display.HTML object>"
      ]
     },
     "metadata": {},
     "output_type": "display_data"
    },
    {
     "data": {
      "text/html": [
       "<a href=\"https://www.comet.ml/federated-learning/both-side-opt/cf473c9bec684f16a723161ea8f0ff9b\">a:_1.00 - s:2.729989e-03 - la:4.594491e-02 - ls:1.036284e-06 </a> - cf473c9bec684f16a723161ea8f0ff9b"
      ],
      "text/plain": [
       "<IPython.core.display.HTML object>"
      ]
     },
     "metadata": {},
     "output_type": "display_data"
    },
    {
     "data": {
      "text/html": [
       "<a href=\"https://www.comet.ml/federated-learning/both-side-opt/cf473c9bec684f16a723161ea8f0ff9b\">a:_1.00 - s:2.729989e-03 - la:4.594491e-02 - ls:1.036284e-06 </a> - cf473c9bec684f16a723161ea8f0ff9b"
      ],
      "text/plain": [
       "<IPython.core.display.HTML object>"
      ]
     },
     "metadata": {},
     "output_type": "display_data"
    },
    {
     "data": {
      "text/html": [
       "<a href=\"https://www.comet.ml/federated-learning/both-side-opt/cf473c9bec684f16a723161ea8f0ff9b\">a:_1.00 - s:2.689876e-03 - la:4.594491e-02 - ls:1.036284e-06 </a> - cf473c9bec684f16a723161ea8f0ff9b"
      ],
      "text/plain": [
       "<IPython.core.display.HTML object>"
      ]
     },
     "metadata": {},
     "output_type": "display_data"
    },
    {
     "data": {
      "text/html": [
       "<a href=\"https://www.comet.ml/federated-learning/both-side-opt/cf473c9bec684f16a723161ea8f0ff9b\">a:_1.00 - s:2.180268e-03 - la:4.594491e-02 - ls:1.036284e-06 </a> - cf473c9bec684f16a723161ea8f0ff9b"
      ],
      "text/plain": [
       "<IPython.core.display.HTML object>"
      ]
     },
     "metadata": {},
     "output_type": "display_data"
    },
    {
     "data": {
      "text/html": [
       "<a href=\"https://www.comet.ml/federated-learning/both-side-opt/cf473c9bec684f16a723161ea8f0ff9b\">a:_1.00 - s:2.183468e-03 - la:4.594491e-02 - ls:1.036284e-06 </a> - cf473c9bec684f16a723161ea8f0ff9b"
      ],
      "text/plain": [
       "<IPython.core.display.HTML object>"
      ]
     },
     "metadata": {},
     "output_type": "display_data"
    },
    {
     "data": {
      "text/html": [
       "<a href=\"https://www.comet.ml/federated-learning/both-side-opt/cf473c9bec684f16a723161ea8f0ff9b\">a:_1.00 - s:2.183468e-03 - la:4.594491e-02 - ls:1.036284e-06 </a> - cf473c9bec684f16a723161ea8f0ff9b"
      ],
      "text/plain": [
       "<IPython.core.display.HTML object>"
      ]
     },
     "metadata": {},
     "output_type": "display_data"
    },
    {
     "data": {
      "text/html": [
       "<a href=\"https://www.comet.ml/federated-learning/both-side-opt/cf473c9bec684f16a723161ea8f0ff9b\">a:_1.00 - s:2.183468e-03 - la:4.594491e-02 - ls:1.036284e-06 </a> - cf473c9bec684f16a723161ea8f0ff9b"
      ],
      "text/plain": [
       "<IPython.core.display.HTML object>"
      ]
     },
     "metadata": {},
     "output_type": "display_data"
    },
    {
     "data": {
      "text/html": [
       "<a href=\"https://www.comet.ml/federated-learning/both-side-opt/cf473c9bec684f16a723161ea8f0ff9b\">a:_1.00 - s:2.183468e-03 - la:4.594491e-02 - ls:1.036284e-06 </a> - cf473c9bec684f16a723161ea8f0ff9b"
      ],
      "text/plain": [
       "<IPython.core.display.HTML object>"
      ]
     },
     "metadata": {},
     "output_type": "display_data"
    },
    {
     "data": {
      "text/html": [
       "<a href=\"https://www.comet.ml/federated-learning/both-side-opt/cf473c9bec684f16a723161ea8f0ff9b\">a:_1.00 - s:2.183468e-03 - la:4.594491e-02 - ls:1.036284e-06 </a> - cf473c9bec684f16a723161ea8f0ff9b"
      ],
      "text/plain": [
       "<IPython.core.display.HTML object>"
      ]
     },
     "metadata": {},
     "output_type": "display_data"
    },
    {
     "data": {
      "text/html": [
       "<a href=\"https://www.comet.ml/federated-learning/both-side-opt/cf473c9bec684f16a723161ea8f0ff9b\">a:_1.00 - s:2.183468e-03 - la:4.594491e-02 - ls:1.036284e-06 </a> - cf473c9bec684f16a723161ea8f0ff9b"
      ],
      "text/plain": [
       "<IPython.core.display.HTML object>"
      ]
     },
     "metadata": {},
     "output_type": "display_data"
    },
    {
     "data": {
      "text/html": [
       "<a href=\"https://www.comet.ml/federated-learning/both-side-opt/cf473c9bec684f16a723161ea8f0ff9b\">a:_1.00 - s:2.183072e-03 - la:4.594491e-02 - ls:1.036284e-06 </a> - cf473c9bec684f16a723161ea8f0ff9b"
      ],
      "text/plain": [
       "<IPython.core.display.HTML object>"
      ]
     },
     "metadata": {},
     "output_type": "display_data"
    },
    {
     "data": {
      "text/html": [
       "<a href=\"https://www.comet.ml/federated-learning/both-side-opt/cf473c9bec684f16a723161ea8f0ff9b\">a:_1.00 - s:2.183072e-03 - la:4.594491e-02 - ls:1.036284e-06 </a> - cf473c9bec684f16a723161ea8f0ff9b"
      ],
      "text/plain": [
       "<IPython.core.display.HTML object>"
      ]
     },
     "metadata": {},
     "output_type": "display_data"
    },
    {
     "data": {
      "text/html": [
       "<a href=\"https://www.comet.ml/federated-learning/both-side-opt/cf473c9bec684f16a723161ea8f0ff9b\">a:_1.00 - s:2.183072e-03 - la:4.594491e-02 - ls:1.036284e-06 </a> - cf473c9bec684f16a723161ea8f0ff9b"
      ],
      "text/plain": [
       "<IPython.core.display.HTML object>"
      ]
     },
     "metadata": {},
     "output_type": "display_data"
    },
    {
     "data": {
      "text/html": [
       "<a href=\"https://www.comet.ml/federated-learning/both-side-opt/cf473c9bec684f16a723161ea8f0ff9b\">a:_1.00 - s:2.183072e-03 - la:4.594491e-02 - ls:1.036284e-06 </a> - cf473c9bec684f16a723161ea8f0ff9b"
      ],
      "text/plain": [
       "<IPython.core.display.HTML object>"
      ]
     },
     "metadata": {},
     "output_type": "display_data"
    },
    {
     "data": {
      "text/html": [
       "<a href=\"https://www.comet.ml/federated-learning/both-side-opt/cf473c9bec684f16a723161ea8f0ff9b\">a:_1.00 - s:2.328761e-03 - la:4.594491e-02 - ls:1.036284e-06 </a> - cf473c9bec684f16a723161ea8f0ff9b"
      ],
      "text/plain": [
       "<IPython.core.display.HTML object>"
      ]
     },
     "metadata": {},
     "output_type": "display_data"
    },
    {
     "data": {
      "text/html": [
       "<a href=\"https://www.comet.ml/federated-learning/both-side-opt/cf473c9bec684f16a723161ea8f0ff9b\">a:_1.00 - s:2.402123e-03 - la:4.594491e-02 - ls:1.036284e-06 </a> - cf473c9bec684f16a723161ea8f0ff9b"
      ],
      "text/plain": [
       "<IPython.core.display.HTML object>"
      ]
     },
     "metadata": {},
     "output_type": "display_data"
    },
    {
     "data": {
      "text/html": [
       "<a href=\"https://www.comet.ml/federated-learning/both-side-opt/cf473c9bec684f16a723161ea8f0ff9b\">a:_1.00 - s:2.401930e-03 - la:4.594491e-02 - ls:1.036284e-06 </a> - cf473c9bec684f16a723161ea8f0ff9b"
      ],
      "text/plain": [
       "<IPython.core.display.HTML object>"
      ]
     },
     "metadata": {},
     "output_type": "display_data"
    },
    {
     "data": {
      "text/html": [
       "<a href=\"https://www.comet.ml/federated-learning/both-side-opt/cf473c9bec684f16a723161ea8f0ff9b\">a:_1.00 - s:2.397123e-03 - la:4.594491e-02 - ls:1.036284e-06 </a> - cf473c9bec684f16a723161ea8f0ff9b"
      ],
      "text/plain": [
       "<IPython.core.display.HTML object>"
      ]
     },
     "metadata": {},
     "output_type": "display_data"
    },
    {
     "data": {
      "text/html": [
       "<a href=\"https://www.comet.ml/federated-learning/both-side-opt/cf473c9bec684f16a723161ea8f0ff9b\">a:_1.00 - s:2.397123e-03 - la:4.594491e-02 - ls:1.036284e-06 </a> - cf473c9bec684f16a723161ea8f0ff9b"
      ],
      "text/plain": [
       "<IPython.core.display.HTML object>"
      ]
     },
     "metadata": {},
     "output_type": "display_data"
    },
    {
     "data": {
      "text/html": [
       "<a href=\"https://www.comet.ml/federated-learning/both-side-opt/cf473c9bec684f16a723161ea8f0ff9b\">a:_1.00 - s:2.397123e-03 - la:4.594491e-02 - ls:1.036284e-06 </a> - cf473c9bec684f16a723161ea8f0ff9b"
      ],
      "text/plain": [
       "<IPython.core.display.HTML object>"
      ]
     },
     "metadata": {},
     "output_type": "display_data"
    },
    {
     "data": {
      "text/html": [
       "<a href=\"https://www.comet.ml/federated-learning/both-side-opt/cf473c9bec684f16a723161ea8f0ff9b\">a:_1.00 - s:2.397324e-03 - la:4.594491e-02 - ls:1.036284e-06 </a> - cf473c9bec684f16a723161ea8f0ff9b"
      ],
      "text/plain": [
       "<IPython.core.display.HTML object>"
      ]
     },
     "metadata": {},
     "output_type": "display_data"
    },
    {
     "data": {
      "text/html": [
       "<a href=\"https://www.comet.ml/federated-learning/both-side-opt/cf473c9bec684f16a723161ea8f0ff9b\">a:_1.00 - s:2.520200e-03 - la:4.594491e-02 - ls:1.036284e-06 </a> - cf473c9bec684f16a723161ea8f0ff9b"
      ],
      "text/plain": [
       "<IPython.core.display.HTML object>"
      ]
     },
     "metadata": {},
     "output_type": "display_data"
    },
    {
     "data": {
      "text/html": [
       "<a href=\"https://www.comet.ml/federated-learning/both-side-opt/cf473c9bec684f16a723161ea8f0ff9b\">a:_1.00 - s:2.520200e-03 - la:4.594491e-02 - ls:1.036284e-06 </a> - cf473c9bec684f16a723161ea8f0ff9b"
      ],
      "text/plain": [
       "<IPython.core.display.HTML object>"
      ]
     },
     "metadata": {},
     "output_type": "display_data"
    },
    {
     "data": {
      "text/html": [
       "<a href=\"https://www.comet.ml/federated-learning/both-side-opt/cf473c9bec684f16a723161ea8f0ff9b\">a:_1.00 - s:2.532748e-03 - la:4.594491e-02 - ls:1.036284e-06 </a> - cf473c9bec684f16a723161ea8f0ff9b"
      ],
      "text/plain": [
       "<IPython.core.display.HTML object>"
      ]
     },
     "metadata": {},
     "output_type": "display_data"
    },
    {
     "data": {
      "text/html": [
       "<a href=\"https://www.comet.ml/federated-learning/both-side-opt/cf473c9bec684f16a723161ea8f0ff9b\">a:_1.00 - s:2.581685e-03 - la:4.594491e-02 - ls:1.036284e-06 </a> - cf473c9bec684f16a723161ea8f0ff9b"
      ],
      "text/plain": [
       "<IPython.core.display.HTML object>"
      ]
     },
     "metadata": {},
     "output_type": "display_data"
    },
    {
     "data": {
      "text/html": [
       "<a href=\"https://www.comet.ml/federated-learning/both-side-opt/cf473c9bec684f16a723161ea8f0ff9b\">a:_1.00 - s:2.788736e-03 - la:4.594491e-02 - ls:1.036284e-06 </a> - cf473c9bec684f16a723161ea8f0ff9b"
      ],
      "text/plain": [
       "<IPython.core.display.HTML object>"
      ]
     },
     "metadata": {},
     "output_type": "display_data"
    },
    {
     "data": {
      "text/html": [
       "<a href=\"https://www.comet.ml/federated-learning/both-side-opt/cf473c9bec684f16a723161ea8f0ff9b\">a:_1.00 - s:2.978167e-03 - la:4.594491e-02 - ls:1.036284e-06 </a> - cf473c9bec684f16a723161ea8f0ff9b"
      ],
      "text/plain": [
       "<IPython.core.display.HTML object>"
      ]
     },
     "metadata": {},
     "output_type": "display_data"
    },
    {
     "data": {
      "text/html": [
       "<a href=\"https://www.comet.ml/federated-learning/both-side-opt/cf473c9bec684f16a723161ea8f0ff9b\">a:_1.00 - s:2.978167e-03 - la:4.594491e-02 - ls:1.036284e-06 </a> - cf473c9bec684f16a723161ea8f0ff9b"
      ],
      "text/plain": [
       "<IPython.core.display.HTML object>"
      ]
     },
     "metadata": {},
     "output_type": "display_data"
    },
    {
     "data": {
      "text/html": [
       "<a href=\"https://www.comet.ml/federated-learning/both-side-opt/cf473c9bec684f16a723161ea8f0ff9b\">a:_1.00 - s:3.335870e-03 - la:4.594491e-02 - ls:1.036284e-06 </a> - cf473c9bec684f16a723161ea8f0ff9b"
      ],
      "text/plain": [
       "<IPython.core.display.HTML object>"
      ]
     },
     "metadata": {},
     "output_type": "display_data"
    },
    {
     "data": {
      "text/html": [
       "<a href=\"https://www.comet.ml/federated-learning/both-side-opt/cf473c9bec684f16a723161ea8f0ff9b\">a:_1.00 - s:3.413167e-03 - la:4.594491e-02 - ls:1.036284e-06 </a> - cf473c9bec684f16a723161ea8f0ff9b"
      ],
      "text/plain": [
       "<IPython.core.display.HTML object>"
      ]
     },
     "metadata": {},
     "output_type": "display_data"
    },
    {
     "data": {
      "text/html": [
       "<a href=\"https://www.comet.ml/federated-learning/both-side-opt/cf473c9bec684f16a723161ea8f0ff9b\">a:_1.00 - s:3.413240e-03 - la:4.594491e-02 - ls:1.036284e-06 </a> - cf473c9bec684f16a723161ea8f0ff9b"
      ],
      "text/plain": [
       "<IPython.core.display.HTML object>"
      ]
     },
     "metadata": {},
     "output_type": "display_data"
    },
    {
     "data": {
      "text/html": [
       "<a href=\"https://www.comet.ml/federated-learning/both-side-opt/cf473c9bec684f16a723161ea8f0ff9b\">a:_1.00 - s:3.413240e-03 - la:4.594491e-02 - ls:1.036284e-06 </a> - cf473c9bec684f16a723161ea8f0ff9b"
      ],
      "text/plain": [
       "<IPython.core.display.HTML object>"
      ]
     },
     "metadata": {},
     "output_type": "display_data"
    },
    {
     "data": {
      "text/html": [
       "<a href=\"https://www.comet.ml/federated-learning/both-side-opt/cf473c9bec684f16a723161ea8f0ff9b\">a:_1.00 - s:3.078042e-03 - la:4.594491e-02 - ls:1.036284e-06 </a> - cf473c9bec684f16a723161ea8f0ff9b"
      ],
      "text/plain": [
       "<IPython.core.display.HTML object>"
      ]
     },
     "metadata": {},
     "output_type": "display_data"
    },
    {
     "data": {
      "text/html": [
       "<a href=\"https://www.comet.ml/federated-learning/both-side-opt/cf473c9bec684f16a723161ea8f0ff9b\">a:_1.00 - s:3.078042e-03 - la:4.594491e-02 - ls:1.036284e-06 </a> - cf473c9bec684f16a723161ea8f0ff9b"
      ],
      "text/plain": [
       "<IPython.core.display.HTML object>"
      ]
     },
     "metadata": {},
     "output_type": "display_data"
    },
    {
     "data": {
      "text/html": [
       "<a href=\"https://www.comet.ml/federated-learning/both-side-opt/cf473c9bec684f16a723161ea8f0ff9b\">a:_1.00 - s:3.078042e-03 - la:4.594491e-02 - ls:1.036284e-06 </a> - cf473c9bec684f16a723161ea8f0ff9b"
      ],
      "text/plain": [
       "<IPython.core.display.HTML object>"
      ]
     },
     "metadata": {},
     "output_type": "display_data"
    },
    {
     "data": {
      "text/html": [
       "<a href=\"https://www.comet.ml/federated-learning/both-side-opt/cf473c9bec684f16a723161ea8f0ff9b\">a:_1.00 - s:3.078042e-03 - la:4.594491e-02 - ls:1.036284e-06 </a> - cf473c9bec684f16a723161ea8f0ff9b"
      ],
      "text/plain": [
       "<IPython.core.display.HTML object>"
      ]
     },
     "metadata": {},
     "output_type": "display_data"
    },
    {
     "data": {
      "text/html": [
       "<a href=\"https://www.comet.ml/federated-learning/both-side-opt/cf473c9bec684f16a723161ea8f0ff9b\">a:_1.00 - s:3.078042e-03 - la:4.594491e-02 - ls:1.036284e-06 </a> - cf473c9bec684f16a723161ea8f0ff9b"
      ],
      "text/plain": [
       "<IPython.core.display.HTML object>"
      ]
     },
     "metadata": {},
     "output_type": "display_data"
    },
    {
     "data": {
      "text/html": [
       "<a href=\"https://www.comet.ml/federated-learning/both-side-opt/cf473c9bec684f16a723161ea8f0ff9b\">a:_1.00 - s:3.093033e-03 - la:4.594491e-02 - ls:1.036284e-06 </a> - cf473c9bec684f16a723161ea8f0ff9b"
      ],
      "text/plain": [
       "<IPython.core.display.HTML object>"
      ]
     },
     "metadata": {},
     "output_type": "display_data"
    },
    {
     "data": {
      "text/html": [
       "<a href=\"https://www.comet.ml/federated-learning/both-side-opt/cf473c9bec684f16a723161ea8f0ff9b\">a:_1.00 - s:3.093033e-03 - la:4.594491e-02 - ls:1.036284e-06 </a> - cf473c9bec684f16a723161ea8f0ff9b"
      ],
      "text/plain": [
       "<IPython.core.display.HTML object>"
      ]
     },
     "metadata": {},
     "output_type": "display_data"
    },
    {
     "data": {
      "text/html": [
       "<a href=\"https://www.comet.ml/federated-learning/both-side-opt/cf473c9bec684f16a723161ea8f0ff9b\">a:_1.00 - s:3.093033e-03 - la:4.594491e-02 - ls:1.036284e-06 </a> - cf473c9bec684f16a723161ea8f0ff9b"
      ],
      "text/plain": [
       "<IPython.core.display.HTML object>"
      ]
     },
     "metadata": {},
     "output_type": "display_data"
    },
    {
     "data": {
      "text/html": [
       "<a href=\"https://www.comet.ml/federated-learning/both-side-opt/cf473c9bec684f16a723161ea8f0ff9b\">a:_1.00 - s:3.093033e-03 - la:4.594491e-02 - ls:1.036284e-06 </a> - cf473c9bec684f16a723161ea8f0ff9b"
      ],
      "text/plain": [
       "<IPython.core.display.HTML object>"
      ]
     },
     "metadata": {},
     "output_type": "display_data"
    },
    {
     "data": {
      "text/html": [
       "<a href=\"https://www.comet.ml/federated-learning/both-side-opt/cf473c9bec684f16a723161ea8f0ff9b\">a:_1.00 - s:3.093033e-03 - la:4.594491e-02 - ls:1.036284e-06 </a> - cf473c9bec684f16a723161ea8f0ff9b"
      ],
      "text/plain": [
       "<IPython.core.display.HTML object>"
      ]
     },
     "metadata": {},
     "output_type": "display_data"
    },
    {
     "data": {
      "text/html": [
       "<a href=\"https://www.comet.ml/federated-learning/both-side-opt/cf473c9bec684f16a723161ea8f0ff9b\">a:_1.00 - s:3.086835e-03 - la:4.594491e-02 - ls:1.036284e-06 </a> - cf473c9bec684f16a723161ea8f0ff9b"
      ],
      "text/plain": [
       "<IPython.core.display.HTML object>"
      ]
     },
     "metadata": {},
     "output_type": "display_data"
    },
    {
     "data": {
      "text/html": [
       "<a href=\"https://www.comet.ml/federated-learning/both-side-opt/cf473c9bec684f16a723161ea8f0ff9b\">a:_1.00 - s:3.132240e-03 - la:4.594491e-02 - ls:1.036284e-06 </a> - cf473c9bec684f16a723161ea8f0ff9b"
      ],
      "text/plain": [
       "<IPython.core.display.HTML object>"
      ]
     },
     "metadata": {},
     "output_type": "display_data"
    },
    {
     "data": {
      "text/html": [
       "<a href=\"https://www.comet.ml/federated-learning/both-side-opt/cf473c9bec684f16a723161ea8f0ff9b\">a:_1.00 - s:3.132240e-03 - la:4.594491e-02 - ls:1.036284e-06 </a> - cf473c9bec684f16a723161ea8f0ff9b"
      ],
      "text/plain": [
       "<IPython.core.display.HTML object>"
      ]
     },
     "metadata": {},
     "output_type": "display_data"
    },
    {
     "data": {
      "text/html": [
       "<a href=\"https://www.comet.ml/federated-learning/both-side-opt/cf473c9bec684f16a723161ea8f0ff9b\">a:_1.00 - s:3.132240e-03 - la:4.594491e-02 - ls:1.036284e-06 </a> - cf473c9bec684f16a723161ea8f0ff9b"
      ],
      "text/plain": [
       "<IPython.core.display.HTML object>"
      ]
     },
     "metadata": {},
     "output_type": "display_data"
    },
    {
     "data": {
      "text/html": [
       "<a href=\"https://www.comet.ml/federated-learning/both-side-opt/cf473c9bec684f16a723161ea8f0ff9b\">a:_1.00 - s:3.424949e-03 - la:4.594491e-02 - ls:1.036284e-06 </a> - cf473c9bec684f16a723161ea8f0ff9b"
      ],
      "text/plain": [
       "<IPython.core.display.HTML object>"
      ]
     },
     "metadata": {},
     "output_type": "display_data"
    },
    {
     "data": {
      "text/html": [
       "<a href=\"https://www.comet.ml/federated-learning/both-side-opt/cf473c9bec684f16a723161ea8f0ff9b\">a:_1.01 - s:4.242786e-03 - la:4.594491e-02 - ls:1.036284e-06 </a> - cf473c9bec684f16a723161ea8f0ff9b"
      ],
      "text/plain": [
       "<IPython.core.display.HTML object>"
      ]
     },
     "metadata": {},
     "output_type": "display_data"
    },
    {
     "data": {
      "text/html": [
       "<a href=\"https://www.comet.ml/federated-learning/both-side-opt/cf473c9bec684f16a723161ea8f0ff9b\">a:_1.01 - s:4.242786e-03 - la:4.594491e-02 - ls:1.036284e-06 </a> - cf473c9bec684f16a723161ea8f0ff9b"
      ],
      "text/plain": [
       "<IPython.core.display.HTML object>"
      ]
     },
     "metadata": {},
     "output_type": "display_data"
    },
    {
     "data": {
      "text/html": [
       "<a href=\"https://www.comet.ml/federated-learning/both-side-opt/cf473c9bec684f16a723161ea8f0ff9b\">a:_1.01 - s:4.242786e-03 - la:4.594491e-02 - ls:1.036284e-06 </a> - cf473c9bec684f16a723161ea8f0ff9b"
      ],
      "text/plain": [
       "<IPython.core.display.HTML object>"
      ]
     },
     "metadata": {},
     "output_type": "display_data"
    },
    {
     "data": {
      "text/html": [
       "<a href=\"https://www.comet.ml/federated-learning/both-side-opt/cf473c9bec684f16a723161ea8f0ff9b\">a:_1.01 - s:4.242786e-03 - la:4.594491e-02 - ls:1.036284e-06 </a> - cf473c9bec684f16a723161ea8f0ff9b"
      ],
      "text/plain": [
       "<IPython.core.display.HTML object>"
      ]
     },
     "metadata": {},
     "output_type": "display_data"
    },
    {
     "data": {
      "text/html": [
       "<a href=\"https://www.comet.ml/federated-learning/both-side-opt/cf473c9bec684f16a723161ea8f0ff9b\">a:_1.01 - s:4.242786e-03 - la:4.594491e-02 - ls:1.036284e-06 </a> - cf473c9bec684f16a723161ea8f0ff9b"
      ],
      "text/plain": [
       "<IPython.core.display.HTML object>"
      ]
     },
     "metadata": {},
     "output_type": "display_data"
    },
    {
     "data": {
      "text/html": [
       "<a href=\"https://www.comet.ml/federated-learning/both-side-opt/cf473c9bec684f16a723161ea8f0ff9b\">a:_1.01 - s:4.331955e-03 - la:4.594491e-02 - ls:1.036284e-06 </a> - cf473c9bec684f16a723161ea8f0ff9b"
      ],
      "text/plain": [
       "<IPython.core.display.HTML object>"
      ]
     },
     "metadata": {},
     "output_type": "display_data"
    },
    {
     "data": {
      "text/html": [
       "<a href=\"https://www.comet.ml/federated-learning/both-side-opt/cf473c9bec684f16a723161ea8f0ff9b\">a:_1.01 - s:5.426649e-03 - la:4.594491e-02 - ls:1.036284e-06 </a> - cf473c9bec684f16a723161ea8f0ff9b"
      ],
      "text/plain": [
       "<IPython.core.display.HTML object>"
      ]
     },
     "metadata": {},
     "output_type": "display_data"
    },
    {
     "data": {
      "text/html": [
       "<a href=\"https://www.comet.ml/federated-learning/both-side-opt/4b78e556435d49c4abe3d3e7d803d169\">a:_1.01 - s:2.684992e-03 - la:8.668166e-02 - ls:2.579777e-07 </a> - 4b78e556435d49c4abe3d3e7d803d169"
      ],
      "text/plain": [
       "<IPython.core.display.HTML object>"
      ]
     },
     "metadata": {},
     "output_type": "display_data"
    },
    {
     "ename": "StatisticsError",
     "evalue": "variance requires at least two data points",
     "output_type": "error",
     "traceback": [
      "\u001b[0;31m---------------------------------------------------------------------------\u001b[0m",
      "\u001b[0;31mStatisticsError\u001b[0m                           Traceback (most recent call last)",
      "\u001b[0;32m<ipython-input-85-165b2fbe8e29>\u001b[0m in \u001b[0;36m<module>\u001b[0;34m\u001b[0m\n\u001b[1;32m      9\u001b[0m \u001b[0;32mfor\u001b[0m \u001b[0mstart_round\u001b[0m \u001b[0;32min\u001b[0m \u001b[0mrange\u001b[0m\u001b[0;34m(\u001b[0m\u001b[0;36m200\u001b[0m\u001b[0;34m)\u001b[0m\u001b[0;34m:\u001b[0m\u001b[0;34m\u001b[0m\u001b[0;34m\u001b[0m\u001b[0m\n\u001b[1;32m     10\u001b[0m     \u001b[0mwindow\u001b[0m \u001b[0;34m=\u001b[0m \u001b[0;36m300\u001b[0m\u001b[0;34m\u001b[0m\u001b[0;34m\u001b[0m\u001b[0m\n\u001b[0;32m---> 11\u001b[0;31m     \u001b[0mstds\u001b[0m \u001b[0;34m=\u001b[0m \u001b[0;34m[\u001b[0m\u001b[0mvariance\u001b[0m\u001b[0;34m(\u001b[0m\u001b[0mc\u001b[0m\u001b[0;34m[\u001b[0m\u001b[0mstart_round\u001b[0m\u001b[0;34m:\u001b[0m\u001b[0mstart_round\u001b[0m\u001b[0;34m+\u001b[0m\u001b[0mwindow\u001b[0m\u001b[0;34m]\u001b[0m\u001b[0;34m)\u001b[0m \u001b[0;32mfor\u001b[0m \u001b[0mc\u001b[0m \u001b[0;32min\u001b[0m \u001b[0mtest_accs\u001b[0m\u001b[0;34m]\u001b[0m\u001b[0;34m\u001b[0m\u001b[0;34m\u001b[0m\u001b[0m\n\u001b[0m\u001b[1;32m     12\u001b[0m     \u001b[0mavgs\u001b[0m \u001b[0;34m=\u001b[0m \u001b[0;34m[\u001b[0m\u001b[0mmean\u001b[0m\u001b[0;34m(\u001b[0m\u001b[0mc\u001b[0m\u001b[0;34m[\u001b[0m\u001b[0mstart_round\u001b[0m\u001b[0;34m:\u001b[0m\u001b[0mstart_round\u001b[0m\u001b[0;34m+\u001b[0m\u001b[0mwindow\u001b[0m\u001b[0;34m]\u001b[0m\u001b[0;34m)\u001b[0m \u001b[0;32mfor\u001b[0m \u001b[0mc\u001b[0m \u001b[0;32min\u001b[0m \u001b[0mtest_accs\u001b[0m\u001b[0;34m]\u001b[0m\u001b[0;34m\u001b[0m\u001b[0;34m\u001b[0m\u001b[0m\n\u001b[1;32m     13\u001b[0m     \u001b[0;32mfor\u001b[0m \u001b[0mu\u001b[0m\u001b[0;34m,\u001b[0m \u001b[0ma\u001b[0m\u001b[0;34m,\u001b[0m \u001b[0ms\u001b[0m\u001b[0;34m,\u001b[0m \u001b[0mla\u001b[0m\u001b[0;34m,\u001b[0m \u001b[0mls\u001b[0m\u001b[0;34m,\u001b[0m \u001b[0mi\u001b[0m \u001b[0;32min\u001b[0m \u001b[0mzip\u001b[0m\u001b[0;34m(\u001b[0m\u001b[0murls\u001b[0m\u001b[0;34m,\u001b[0m \u001b[0mavgs\u001b[0m\u001b[0;34m,\u001b[0m \u001b[0mstds\u001b[0m\u001b[0;34m,\u001b[0m \u001b[0mloss_avgs\u001b[0m\u001b[0;34m,\u001b[0m \u001b[0mloss_stds\u001b[0m\u001b[0;34m,\u001b[0m \u001b[0mids\u001b[0m\u001b[0;34m)\u001b[0m\u001b[0;34m:\u001b[0m\u001b[0;34m\u001b[0m\u001b[0;34m\u001b[0m\u001b[0m\n",
      "\u001b[0;32m<ipython-input-85-165b2fbe8e29>\u001b[0m in \u001b[0;36m<listcomp>\u001b[0;34m(.0)\u001b[0m\n\u001b[1;32m      9\u001b[0m \u001b[0;32mfor\u001b[0m \u001b[0mstart_round\u001b[0m \u001b[0;32min\u001b[0m \u001b[0mrange\u001b[0m\u001b[0;34m(\u001b[0m\u001b[0;36m200\u001b[0m\u001b[0;34m)\u001b[0m\u001b[0;34m:\u001b[0m\u001b[0;34m\u001b[0m\u001b[0;34m\u001b[0m\u001b[0m\n\u001b[1;32m     10\u001b[0m     \u001b[0mwindow\u001b[0m \u001b[0;34m=\u001b[0m \u001b[0;36m300\u001b[0m\u001b[0;34m\u001b[0m\u001b[0;34m\u001b[0m\u001b[0m\n\u001b[0;32m---> 11\u001b[0;31m     \u001b[0mstds\u001b[0m \u001b[0;34m=\u001b[0m \u001b[0;34m[\u001b[0m\u001b[0mvariance\u001b[0m\u001b[0;34m(\u001b[0m\u001b[0mc\u001b[0m\u001b[0;34m[\u001b[0m\u001b[0mstart_round\u001b[0m\u001b[0;34m:\u001b[0m\u001b[0mstart_round\u001b[0m\u001b[0;34m+\u001b[0m\u001b[0mwindow\u001b[0m\u001b[0;34m]\u001b[0m\u001b[0;34m)\u001b[0m \u001b[0;32mfor\u001b[0m \u001b[0mc\u001b[0m \u001b[0;32min\u001b[0m \u001b[0mtest_accs\u001b[0m\u001b[0;34m]\u001b[0m\u001b[0;34m\u001b[0m\u001b[0;34m\u001b[0m\u001b[0m\n\u001b[0m\u001b[1;32m     12\u001b[0m     \u001b[0mavgs\u001b[0m \u001b[0;34m=\u001b[0m \u001b[0;34m[\u001b[0m\u001b[0mmean\u001b[0m\u001b[0;34m(\u001b[0m\u001b[0mc\u001b[0m\u001b[0;34m[\u001b[0m\u001b[0mstart_round\u001b[0m\u001b[0;34m:\u001b[0m\u001b[0mstart_round\u001b[0m\u001b[0;34m+\u001b[0m\u001b[0mwindow\u001b[0m\u001b[0;34m]\u001b[0m\u001b[0;34m)\u001b[0m \u001b[0;32mfor\u001b[0m \u001b[0mc\u001b[0m \u001b[0;32min\u001b[0m \u001b[0mtest_accs\u001b[0m\u001b[0;34m]\u001b[0m\u001b[0;34m\u001b[0m\u001b[0;34m\u001b[0m\u001b[0m\n\u001b[1;32m     13\u001b[0m     \u001b[0;32mfor\u001b[0m \u001b[0mu\u001b[0m\u001b[0;34m,\u001b[0m \u001b[0ma\u001b[0m\u001b[0;34m,\u001b[0m \u001b[0ms\u001b[0m\u001b[0;34m,\u001b[0m \u001b[0mla\u001b[0m\u001b[0;34m,\u001b[0m \u001b[0mls\u001b[0m\u001b[0;34m,\u001b[0m \u001b[0mi\u001b[0m \u001b[0;32min\u001b[0m \u001b[0mzip\u001b[0m\u001b[0;34m(\u001b[0m\u001b[0murls\u001b[0m\u001b[0;34m,\u001b[0m \u001b[0mavgs\u001b[0m\u001b[0;34m,\u001b[0m \u001b[0mstds\u001b[0m\u001b[0;34m,\u001b[0m \u001b[0mloss_avgs\u001b[0m\u001b[0;34m,\u001b[0m \u001b[0mloss_stds\u001b[0m\u001b[0;34m,\u001b[0m \u001b[0mids\u001b[0m\u001b[0;34m)\u001b[0m\u001b[0;34m:\u001b[0m\u001b[0;34m\u001b[0m\u001b[0;34m\u001b[0m\u001b[0m\n",
      "\u001b[0;32m/opt/conda/lib/python3.7/statistics.py\u001b[0m in \u001b[0;36mvariance\u001b[0;34m(data, xbar)\u001b[0m\n\u001b[1;32m    585\u001b[0m     \u001b[0mn\u001b[0m \u001b[0;34m=\u001b[0m \u001b[0mlen\u001b[0m\u001b[0;34m(\u001b[0m\u001b[0mdata\u001b[0m\u001b[0;34m)\u001b[0m\u001b[0;34m\u001b[0m\u001b[0;34m\u001b[0m\u001b[0m\n\u001b[1;32m    586\u001b[0m     \u001b[0;32mif\u001b[0m \u001b[0mn\u001b[0m \u001b[0;34m<\u001b[0m \u001b[0;36m2\u001b[0m\u001b[0;34m:\u001b[0m\u001b[0;34m\u001b[0m\u001b[0;34m\u001b[0m\u001b[0m\n\u001b[0;32m--> 587\u001b[0;31m         \u001b[0;32mraise\u001b[0m \u001b[0mStatisticsError\u001b[0m\u001b[0;34m(\u001b[0m\u001b[0;34m'variance requires at least two data points'\u001b[0m\u001b[0;34m)\u001b[0m\u001b[0;34m\u001b[0m\u001b[0;34m\u001b[0m\u001b[0m\n\u001b[0m\u001b[1;32m    588\u001b[0m     \u001b[0mT\u001b[0m\u001b[0;34m,\u001b[0m \u001b[0mss\u001b[0m \u001b[0;34m=\u001b[0m \u001b[0m_ss\u001b[0m\u001b[0;34m(\u001b[0m\u001b[0mdata\u001b[0m\u001b[0;34m,\u001b[0m \u001b[0mxbar\u001b[0m\u001b[0;34m)\u001b[0m\u001b[0;34m\u001b[0m\u001b[0;34m\u001b[0m\u001b[0m\n\u001b[1;32m    589\u001b[0m     \u001b[0;32mreturn\u001b[0m \u001b[0m_convert\u001b[0m\u001b[0;34m(\u001b[0m\u001b[0mss\u001b[0m\u001b[0;34m/\u001b[0m\u001b[0;34m(\u001b[0m\u001b[0mn\u001b[0m\u001b[0;34m-\u001b[0m\u001b[0;36m1\u001b[0m\u001b[0;34m)\u001b[0m\u001b[0;34m,\u001b[0m \u001b[0mT\u001b[0m\u001b[0;34m)\u001b[0m\u001b[0;34m\u001b[0m\u001b[0;34m\u001b[0m\u001b[0m\n",
      "\u001b[0;31mStatisticsError\u001b[0m: variance requires at least two data points"
     ]
    }
   ],
   "source": [
    "from IPython.core.display import HTML, display\n",
    "\n",
    "verified_ids = ['34f462d57e9242fb84e2577d4df64a78',\n",
    "'4bafc377cfb94d338405cf46e7a9254c',\n",
    "'35d23107df35493ab7aca1e28f6576f5',\n",
    "'b1020c3fe23d49a3b6405e4383a734f7',\n",
    "'fc2087ac36e245bda3a945922e50c572']\n",
    "\n",
    "for start_round in range(200):\n",
    "    window = 300\n",
    "    stds = [variance(c[start_round:start_round+window]) for c in test_accs]\n",
    "    avgs = [mean(c[start_round:start_round+window]) for c in test_accs]\n",
    "    for u, a, s, la, ls, i in zip(urls, avgs, stds, loss_avgs, loss_stds, ids):\n",
    "        if (abs(a - 1.0) < 1e-2) and (i not in verified_ids):\n",
    "            display(HTML(f'<a href=\"{u}\">a:{a:_>5.2f} - s:{s:e} - la:{la:e} - ls:{ls:e} </a> - {i}'))"
   ]
  },
  {
   "cell_type": "code",
   "execution_count": 91,
   "metadata": {},
   "outputs": [
    {
     "name": "stdout",
     "output_type": "stream",
     "text": [
      "acc - std\n"
     ]
    },
    {
     "data": {
      "text/html": [
       "<a href=\"https://www.comet.ml/federated-learning/both-side-opt/34f462d57e9242fb84e2577d4df64a78\">a:_1.00 - s:0.000000e+00 - la:7.233170e-02 - ls:2.988207e-14 </a> - 34f462d57e9242fb84e2577d4df64a78"
      ],
      "text/plain": [
       "<IPython.core.display.HTML object>"
      ]
     },
     "metadata": {},
     "output_type": "display_data"
    },
    {
     "data": {
      "text/html": [
       "<a href=\"https://www.comet.ml/federated-learning/both-side-opt/4bafc377cfb94d338405cf46e7a9254c\">a:_1.00 - s:9.454545e-06 - la:7.238925e-02 - ls:8.562006e-11 </a> - 4bafc377cfb94d338405cf46e7a9254c"
      ],
      "text/plain": [
       "<IPython.core.display.HTML object>"
      ]
     },
     "metadata": {},
     "output_type": "display_data"
    },
    {
     "data": {
      "text/html": [
       "<a href=\"https://www.comet.ml/federated-learning/both-side-opt/35d23107df35493ab7aca1e28f6576f5\">a:_1.00 - s:0.000000e+00 - la:7.257356e-02 - ls:1.011059e-08 </a> - 35d23107df35493ab7aca1e28f6576f5"
      ],
      "text/plain": [
       "<IPython.core.display.HTML object>"
      ]
     },
     "metadata": {},
     "output_type": "display_data"
    },
    {
     "data": {
      "text/html": [
       "<a href=\"https://www.comet.ml/federated-learning/both-side-opt/b1020c3fe23d49a3b6405e4383a734f7\">a:_1.00 - s:0.000000e+00 - la:7.247494e-02 - ls:2.512089e-09 </a> - b1020c3fe23d49a3b6405e4383a734f7"
      ],
      "text/plain": [
       "<IPython.core.display.HTML object>"
      ]
     },
     "metadata": {},
     "output_type": "display_data"
    },
    {
     "data": {
      "text/html": [
       "<a href=\"https://www.comet.ml/federated-learning/both-side-opt/fc2087ac36e245bda3a945922e50c572\">a:_1.00 - s:0.000000e+00 - la:7.253231e-02 - ls:6.688308e-10 </a> - fc2087ac36e245bda3a945922e50c572"
      ],
      "text/plain": [
       "<IPython.core.display.HTML object>"
      ]
     },
     "metadata": {},
     "output_type": "display_data"
    }
   ],
   "source": [
    "from IPython.core.display import HTML, display\n",
    "\n",
    "last = 100\n",
    "stds = [variance(c[-last:]) for c in test_accs]\n",
    "avgs = [mean(c[-last:]) for c in test_accs]\n",
    "loss_stds = [variance(c[-last:][10:-10]) for c in losses]\n",
    "loss_avgs = [mean(c[-last:][10:-10]) for c in losses]\n",
    "\n",
    "print('acc - std')\n",
    "for u, a, s, la, ls, i in zip(urls, avgs, stds, loss_avgs, loss_stds, ids):\n",
    "    if (abs(a - 1.0) < 1e-2):\n",
    "        display(HTML(f'<a href=\"{u}\">a:{a:_>5.2f} - s:{s:e} - la:{la:e} - ls:{ls:e} </a> - {i}'))"
   ]
  },
  {
   "cell_type": "code",
   "execution_count": null,
   "metadata": {},
   "outputs": [],
   "source": [
    "mean(losses[0][10:-10])"
   ]
  },
  {
   "cell_type": "code",
   "execution_count": 92,
   "metadata": {},
   "outputs": [
    {
     "data": {
      "text/html": [
       "<a href=\"https://www.comet.ml/federated-learning/both-side-opt/cf473c9bec684f16a723161ea8f0ff9b\">a:_0.99 - s:5.460776e-03 - la:7.433136e-02 - ls:3.480077e-07 </a> - cf473c9bec684f16a723161ea8f0ff9b"
      ],
      "text/plain": [
       "<IPython.core.display.HTML object>"
      ]
     },
     "metadata": {},
     "output_type": "display_data"
    }
   ],
   "source": [
    "long_1_idx = ids.index('cf473c9bec684f16a723161ea8f0ff9b')\n",
    "start_round = 50\n",
    "window = 50\n",
    "stds = [variance(c[start_round:start_round+window]) for c in test_accs]\n",
    "avgs = [mean(c[start_round:start_round+window]) for c in test_accs]\n",
    "loss_stds = [variance(c[start_round:start_round+window][10:-10]) for c in losses]\n",
    "loss_avgs = [mean(c[start_round:start_round+window][10:-10]) for c in losses]\n",
    "u, a, s, la, ls, i = list(zip(urls, avgs, stds, loss_avgs, loss_stds, ids))[long_1_idx]\n",
    "display(HTML(f'<a href=\"{u}\">a:{a:_>5.2f} - s:{s:e} - la:{la:e} - ls:{ls:e} </a> - {i}'))"
   ]
  },
  {
   "cell_type": "code",
   "execution_count": 95,
   "metadata": {},
   "outputs": [
    {
     "ename": "StatisticsError",
     "evalue": "variance requires at least two data points",
     "output_type": "error",
     "traceback": [
      "\u001b[0;31m---------------------------------------------------------------------------\u001b[0m",
      "\u001b[0;31mStatisticsError\u001b[0m                           Traceback (most recent call last)",
      "\u001b[0;32m<ipython-input-95-147b66deb0da>\u001b[0m in \u001b[0;36m<module>\u001b[0;34m\u001b[0m\n\u001b[1;32m      2\u001b[0m \u001b[0mstart_round\u001b[0m \u001b[0;34m=\u001b[0m \u001b[0;36m100\u001b[0m\u001b[0;34m\u001b[0m\u001b[0;34m\u001b[0m\u001b[0m\n\u001b[1;32m      3\u001b[0m \u001b[0mwindow\u001b[0m \u001b[0;34m=\u001b[0m \u001b[0;36m50\u001b[0m\u001b[0;34m\u001b[0m\u001b[0;34m\u001b[0m\u001b[0m\n\u001b[0;32m----> 4\u001b[0;31m \u001b[0mstds\u001b[0m \u001b[0;34m=\u001b[0m \u001b[0;34m[\u001b[0m\u001b[0mvariance\u001b[0m\u001b[0;34m(\u001b[0m\u001b[0mc\u001b[0m\u001b[0;34m[\u001b[0m\u001b[0mstart_round\u001b[0m\u001b[0;34m:\u001b[0m\u001b[0mstart_round\u001b[0m\u001b[0;34m+\u001b[0m\u001b[0mwindow\u001b[0m\u001b[0;34m]\u001b[0m\u001b[0;34m)\u001b[0m \u001b[0;32mfor\u001b[0m \u001b[0mc\u001b[0m \u001b[0;32min\u001b[0m \u001b[0mtest_accs\u001b[0m\u001b[0;34m]\u001b[0m\u001b[0;34m\u001b[0m\u001b[0;34m\u001b[0m\u001b[0m\n\u001b[0m\u001b[1;32m      5\u001b[0m \u001b[0mavgs\u001b[0m \u001b[0;34m=\u001b[0m \u001b[0;34m[\u001b[0m\u001b[0mmean\u001b[0m\u001b[0;34m(\u001b[0m\u001b[0mc\u001b[0m\u001b[0;34m[\u001b[0m\u001b[0mstart_round\u001b[0m\u001b[0;34m:\u001b[0m\u001b[0mstart_round\u001b[0m\u001b[0;34m+\u001b[0m\u001b[0mwindow\u001b[0m\u001b[0;34m]\u001b[0m\u001b[0;34m)\u001b[0m \u001b[0;32mfor\u001b[0m \u001b[0mc\u001b[0m \u001b[0;32min\u001b[0m \u001b[0mtest_accs\u001b[0m\u001b[0;34m]\u001b[0m\u001b[0;34m\u001b[0m\u001b[0;34m\u001b[0m\u001b[0m\n\u001b[1;32m      6\u001b[0m \u001b[0mloss_stds\u001b[0m \u001b[0;34m=\u001b[0m \u001b[0;34m[\u001b[0m\u001b[0mvariance\u001b[0m\u001b[0;34m(\u001b[0m\u001b[0mc\u001b[0m\u001b[0;34m[\u001b[0m\u001b[0mstart_round\u001b[0m\u001b[0;34m:\u001b[0m\u001b[0mstart_round\u001b[0m\u001b[0;34m+\u001b[0m\u001b[0mwindow\u001b[0m\u001b[0;34m]\u001b[0m\u001b[0;34m)\u001b[0m \u001b[0;32mfor\u001b[0m \u001b[0mc\u001b[0m \u001b[0;32min\u001b[0m \u001b[0mlosses\u001b[0m\u001b[0;34m]\u001b[0m\u001b[0;34m\u001b[0m\u001b[0;34m\u001b[0m\u001b[0m\n",
      "\u001b[0;32m<ipython-input-95-147b66deb0da>\u001b[0m in \u001b[0;36m<listcomp>\u001b[0;34m(.0)\u001b[0m\n\u001b[1;32m      2\u001b[0m \u001b[0mstart_round\u001b[0m \u001b[0;34m=\u001b[0m \u001b[0;36m100\u001b[0m\u001b[0;34m\u001b[0m\u001b[0;34m\u001b[0m\u001b[0m\n\u001b[1;32m      3\u001b[0m \u001b[0mwindow\u001b[0m \u001b[0;34m=\u001b[0m \u001b[0;36m50\u001b[0m\u001b[0;34m\u001b[0m\u001b[0;34m\u001b[0m\u001b[0m\n\u001b[0;32m----> 4\u001b[0;31m \u001b[0mstds\u001b[0m \u001b[0;34m=\u001b[0m \u001b[0;34m[\u001b[0m\u001b[0mvariance\u001b[0m\u001b[0;34m(\u001b[0m\u001b[0mc\u001b[0m\u001b[0;34m[\u001b[0m\u001b[0mstart_round\u001b[0m\u001b[0;34m:\u001b[0m\u001b[0mstart_round\u001b[0m\u001b[0;34m+\u001b[0m\u001b[0mwindow\u001b[0m\u001b[0;34m]\u001b[0m\u001b[0;34m)\u001b[0m \u001b[0;32mfor\u001b[0m \u001b[0mc\u001b[0m \u001b[0;32min\u001b[0m \u001b[0mtest_accs\u001b[0m\u001b[0;34m]\u001b[0m\u001b[0;34m\u001b[0m\u001b[0;34m\u001b[0m\u001b[0m\n\u001b[0m\u001b[1;32m      5\u001b[0m \u001b[0mavgs\u001b[0m \u001b[0;34m=\u001b[0m \u001b[0;34m[\u001b[0m\u001b[0mmean\u001b[0m\u001b[0;34m(\u001b[0m\u001b[0mc\u001b[0m\u001b[0;34m[\u001b[0m\u001b[0mstart_round\u001b[0m\u001b[0;34m:\u001b[0m\u001b[0mstart_round\u001b[0m\u001b[0;34m+\u001b[0m\u001b[0mwindow\u001b[0m\u001b[0;34m]\u001b[0m\u001b[0;34m)\u001b[0m \u001b[0;32mfor\u001b[0m \u001b[0mc\u001b[0m \u001b[0;32min\u001b[0m \u001b[0mtest_accs\u001b[0m\u001b[0;34m]\u001b[0m\u001b[0;34m\u001b[0m\u001b[0;34m\u001b[0m\u001b[0m\n\u001b[1;32m      6\u001b[0m \u001b[0mloss_stds\u001b[0m \u001b[0;34m=\u001b[0m \u001b[0;34m[\u001b[0m\u001b[0mvariance\u001b[0m\u001b[0;34m(\u001b[0m\u001b[0mc\u001b[0m\u001b[0;34m[\u001b[0m\u001b[0mstart_round\u001b[0m\u001b[0;34m:\u001b[0m\u001b[0mstart_round\u001b[0m\u001b[0;34m+\u001b[0m\u001b[0mwindow\u001b[0m\u001b[0;34m]\u001b[0m\u001b[0;34m)\u001b[0m \u001b[0;32mfor\u001b[0m \u001b[0mc\u001b[0m \u001b[0;32min\u001b[0m \u001b[0mlosses\u001b[0m\u001b[0;34m]\u001b[0m\u001b[0;34m\u001b[0m\u001b[0;34m\u001b[0m\u001b[0m\n",
      "\u001b[0;32m/opt/conda/lib/python3.7/statistics.py\u001b[0m in \u001b[0;36mvariance\u001b[0;34m(data, xbar)\u001b[0m\n\u001b[1;32m    585\u001b[0m     \u001b[0mn\u001b[0m \u001b[0;34m=\u001b[0m \u001b[0mlen\u001b[0m\u001b[0;34m(\u001b[0m\u001b[0mdata\u001b[0m\u001b[0;34m)\u001b[0m\u001b[0;34m\u001b[0m\u001b[0;34m\u001b[0m\u001b[0m\n\u001b[1;32m    586\u001b[0m     \u001b[0;32mif\u001b[0m \u001b[0mn\u001b[0m \u001b[0;34m<\u001b[0m \u001b[0;36m2\u001b[0m\u001b[0;34m:\u001b[0m\u001b[0;34m\u001b[0m\u001b[0;34m\u001b[0m\u001b[0m\n\u001b[0;32m--> 587\u001b[0;31m         \u001b[0;32mraise\u001b[0m \u001b[0mStatisticsError\u001b[0m\u001b[0;34m(\u001b[0m\u001b[0;34m'variance requires at least two data points'\u001b[0m\u001b[0;34m)\u001b[0m\u001b[0;34m\u001b[0m\u001b[0;34m\u001b[0m\u001b[0m\n\u001b[0m\u001b[1;32m    588\u001b[0m     \u001b[0mT\u001b[0m\u001b[0;34m,\u001b[0m \u001b[0mss\u001b[0m \u001b[0;34m=\u001b[0m \u001b[0m_ss\u001b[0m\u001b[0;34m(\u001b[0m\u001b[0mdata\u001b[0m\u001b[0;34m,\u001b[0m \u001b[0mxbar\u001b[0m\u001b[0;34m)\u001b[0m\u001b[0;34m\u001b[0m\u001b[0;34m\u001b[0m\u001b[0m\n\u001b[1;32m    589\u001b[0m     \u001b[0;32mreturn\u001b[0m \u001b[0m_convert\u001b[0m\u001b[0;34m(\u001b[0m\u001b[0mss\u001b[0m\u001b[0;34m/\u001b[0m\u001b[0;34m(\u001b[0m\u001b[0mn\u001b[0m\u001b[0;34m-\u001b[0m\u001b[0;36m1\u001b[0m\u001b[0;34m)\u001b[0m\u001b[0;34m,\u001b[0m \u001b[0mT\u001b[0m\u001b[0;34m)\u001b[0m\u001b[0;34m\u001b[0m\u001b[0;34m\u001b[0m\u001b[0m\n",
      "\u001b[0;31mStatisticsError\u001b[0m: variance requires at least two data points"
     ]
    }
   ],
   "source": [
    "long_1_idx = ids.index('cf473c9bec684f16a723161ea8f0ff9b')\n",
    "start_round = 100\n",
    "window = 50\n",
    "stds = [variance(c[start_round:start_round+window]) for c in test_accs]\n",
    "avgs = [mean(c[start_round:start_round+window]) for c in test_accs]\n",
    "loss_stds = [variance(c[start_round:start_round+window]) for c in losses]\n",
    "loss_avgs = [mean(c[start_round:start_round+window]) for c in losses]\n",
    "u, a, s, la, ls, i = list(zip(urls, avgs, stds, loss_avgs, loss_stds, ids))[long_1_idx]\n",
    "display(HTML(f'<a href=\"{u}\">a:{a:_>5.2f} - s:{s:e} - la:{la:e} - ls:{ls:e} </a> - {i}'))"
   ]
  },
  {
   "cell_type": "code",
   "execution_count": null,
   "metadata": {},
   "outputs": [],
   "source": []
  },
  {
   "cell_type": "code",
   "execution_count": null,
   "metadata": {},
   "outputs": [],
   "source": [
    "import plotly.express as px\n",
    "fig = px.line(curves[0])\n",
    "fig.show()"
   ]
  }
 ],
 "metadata": {
  "kernelspec": {
   "display_name": "Python 3",
   "language": "python",
   "name": "python3"
  },
  "language_info": {
   "codemirror_mode": {
    "name": "ipython",
    "version": 3
   },
   "file_extension": ".py",
   "mimetype": "text/x-python",
   "name": "python",
   "nbconvert_exporter": "python",
   "pygments_lexer": "ipython3",
   "version": "3.7.6"
  }
 },
 "nbformat": 4,
 "nbformat_minor": 4
}
