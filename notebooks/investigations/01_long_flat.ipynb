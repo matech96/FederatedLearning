{
 "cells": [
  {
   "cell_type": "code",
   "execution_count": 3,
   "metadata": {},
   "outputs": [],
   "source": [
    "import os\n",
    "os.chdir('../..')"
   ]
  },
  {
   "cell_type": "code",
   "execution_count": 2,
   "metadata": {},
   "outputs": [],
   "source": [
    "import comet_ml"
   ]
  },
  {
   "cell_type": "code",
   "execution_count": 22,
   "metadata": {},
   "outputs": [],
   "source": [
    "import torch as th\n",
    "import matplotlib.pyplot as plt\n",
    "from statistics import stdev, mean\n",
    "\n",
    "from FLF.model.TorchResNetFactory import TorchResNetFactory"
   ]
  },
  {
   "cell_type": "code",
   "execution_count": 6,
   "metadata": {},
   "outputs": [],
   "source": [
    "model = TorchResNetFactory(\"group\")()"
   ]
  },
  {
   "cell_type": "code",
   "execution_count": 16,
   "metadata": {},
   "outputs": [],
   "source": [
    "state_dict_init = th.load('tmp/b4c0cfa8bc92439bb3be312e9fb08a12_checkpoints/0.pt')\n",
    "state_dict_final = th.load('tmp/b4c0cfa8bc92439bb3be312e9fb08a12_checkpoints/199.pt')"
   ]
  },
  {
   "cell_type": "code",
   "execution_count": 30,
   "metadata": {},
   "outputs": [
    {
     "data": {
      "text/plain": [
       "(tensor(0.0117), tensor(0.0264))"
      ]
     },
     "execution_count": 30,
     "metadata": {},
     "output_type": "execute_result"
    }
   ],
   "source": [
    "th.std(state_dict_init['fc.weight'].flatten()), th.std(state_dict_final['fc.weight'].flatten())"
   ]
  },
  {
   "cell_type": "code",
   "execution_count": 31,
   "metadata": {},
   "outputs": [
    {
     "data": {
      "text/plain": [
       "(tensor(9.7083e-05), tensor(9.7083e-05))"
      ]
     },
     "execution_count": 31,
     "metadata": {},
     "output_type": "execute_result"
    }
   ],
   "source": [
    "th.mean(state_dict_init['fc.weight'].flatten()), th.mean(state_dict_final['fc.weight'].flatten())"
   ]
  },
  {
   "cell_type": "code",
   "execution_count": 33,
   "metadata": {},
   "outputs": [
    {
     "data": {
      "text/plain": [
       "(tensor(0.0034), tensor(0.0256))"
      ]
     },
     "execution_count": 33,
     "metadata": {},
     "output_type": "execute_result"
    }
   ],
   "source": [
    "th.std(state_dict_init['fc.bias'].flatten()), th.std(state_dict_final['fc.bias'].flatten())"
   ]
  },
  {
   "cell_type": "code",
   "execution_count": 32,
   "metadata": {},
   "outputs": [
    {
     "data": {
      "text/plain": [
       "(tensor(-1.5767e-10), tensor(-2.2203e-08))"
      ]
     },
     "execution_count": 32,
     "metadata": {},
     "output_type": "execute_result"
    }
   ],
   "source": [
    "th.mean(state_dict_init['fc.bias'].flatten()), th.mean(state_dict_final['fc.bias'].flatten())"
   ]
  },
  {
   "cell_type": "code",
   "execution_count": 44,
   "metadata": {},
   "outputs": [],
   "source": [
    "from FLF.model import torchinit\n",
    "from inspect import getmembers, isfunction"
   ]
  },
  {
   "cell_type": "code",
   "execution_count": 46,
   "metadata": {},
   "outputs": [
    {
     "data": {
      "text/plain": [
       "{'book': <function FLF.model.torchinit.book(m)>,\n",
       " 'fcdebug': <function FLF.model.torchinit.fcdebug(m)>,\n",
       " 'kaiming_normal': <function FLF.model.torchinit.kaiming_normal(m)>,\n",
       " 'kaiming_normal_fan_out': <function FLF.model.torchinit.kaiming_normal_fan_out(m)>,\n",
       " 'kaiming_uniform': <function FLF.model.torchinit.kaiming_uniform(m)>,\n",
       " 'kaiming_uniform_fan_out': <function FLF.model.torchinit.kaiming_uniform_fan_out(m)>,\n",
       " 'keras': <function FLF.model.torchinit.keras(m)>,\n",
       " 'tffed': <function FLF.model.torchinit.tffed(m)>,\n",
       " 'xavier_normal': <function FLF.model.torchinit.xavier_normal(m)>,\n",
       " 'xavier_uniform': <function FLF.model.torchinit.xavier_uniform(m)>}"
      ]
     },
     "execution_count": 46,
     "metadata": {},
     "output_type": "execute_result"
    }
   ],
   "source": [
    "{f[0]: f[1] for f in getmembers(torchinit) if isfunction(f[1])}\n",
    "# [f for f in dir(torchinit) if not f.startswith('__')]"
   ]
  },
  {
   "cell_type": "code",
   "execution_count": 43,
   "metadata": {},
   "outputs": [
    {
     "ename": "TypeError",
     "evalue": "list indices must be integers or slices, not str",
     "output_type": "error",
     "traceback": [
      "\u001b[0;31m---------------------------------------------------------------------------\u001b[0m",
      "\u001b[0;31mTypeError\u001b[0m                                 Traceback (most recent call last)",
      "\u001b[0;32m<ipython-input-43-179d5c84a65c>\u001b[0m in \u001b[0;36m<module>\u001b[0;34m\u001b[0m\n\u001b[0;32m----> 1\u001b[0;31m \u001b[0mdir\u001b[0m\u001b[0;34m(\u001b[0m\u001b[0mtorchinit\u001b[0m\u001b[0;34m)\u001b[0m\u001b[0;34m[\u001b[0m\u001b[0;34m'tffed'\u001b[0m\u001b[0;34m]\u001b[0m\u001b[0;34m\u001b[0m\u001b[0;34m\u001b[0m\u001b[0m\n\u001b[0m",
      "\u001b[0;31mTypeError\u001b[0m: list indices must be integers or slices, not str"
     ]
    }
   ],
   "source": [
    "dir(torchinit)['tffed']"
   ]
  }
 ],
 "metadata": {
  "kernelspec": {
   "display_name": "Python 3",
   "language": "python",
   "name": "python3"
  },
  "language_info": {
   "codemirror_mode": {
    "name": "ipython",
    "version": 3
   },
   "file_extension": ".py",
   "mimetype": "text/x-python",
   "name": "python",
   "nbconvert_exporter": "python",
   "pygments_lexer": "ipython3",
   "version": "3.7.6"
  }
 },
 "nbformat": 4,
 "nbformat_minor": 4
}
