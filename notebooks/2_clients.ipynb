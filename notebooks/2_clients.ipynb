{
 "cells": [
  {
   "cell_type": "code",
   "execution_count": 29,
   "metadata": {},
   "outputs": [],
   "source": [
    "import comet_ml\n",
    "import matplotlib.pyplot as plt\n",
    "import numpy as np"
   ]
  },
  {
   "cell_type": "code",
   "execution_count": 8,
   "metadata": {},
   "outputs": [],
   "source": [
    "comet_api = comet_ml.api.API()"
   ]
  },
  {
   "cell_type": "code",
   "execution_count": 9,
   "metadata": {},
   "outputs": [],
   "source": [
    "exps = comet_api.get('federated-learning/2-clients')"
   ]
  },
  {
   "cell_type": "code",
   "execution_count": 10,
   "metadata": {},
   "outputs": [],
   "source": [
    "exp = exps[0]"
   ]
  },
  {
   "cell_type": "code",
   "execution_count": 22,
   "metadata": {},
   "outputs": [],
   "source": [
    "nepcs = [int(exp.get_parameters_summary('N_EPOCH_PER_CLIENT')['valueMax']) for exp in exps]\n",
    "crs = [int(exp.get_parameters_summary('curr_round')['valueMax']) for exp in exps]\n",
    "tes = [float(exp.get_parameters_summary('TOTAL_EPOCH')['valueMax']) for exp in exps]"
   ]
  },
  {
   "cell_type": "code",
   "execution_count": 42,
   "metadata": {},
   "outputs": [
    {
     "data": {
      "image/png": "[encoded data removed]",
      "text/plain": [
       "<Figure size 432x288 with 1 Axes>"
      ]
     },
     "metadata": {
      "needs_background": "light"
     },
     "output_type": "display_data"
    }
   ],
   "source": [
    "plt.scatter(nepcs, crs)\n",
    "plt.xlabel('N_EPOCH_PER_CLIENT')\n",
    "plt.ylabel('curr_round')\n",
    "plt.title('Communication cost')\n",
    "plt.savefig(\"cc.svg\")"
   ]
  },
  {
   "cell_type": "code",
   "execution_count": 43,
   "metadata": {},
   "outputs": [
    {
     "data": {
      "image/png": "[encoded data removed]",
      "text/plain": [
       "<Figure size 432x288 with 1 Axes>"
      ]
     },
     "metadata": {
      "needs_background": "light"
     },
     "output_type": "display_data"
    }
   ],
   "source": [
    "plt.scatter(nepcs, tes)\n",
    "z = np.polyfit(nepcs, tes, 1)\n",
    "p = np.poly1d(z)\n",
    "plt.plot(nepcs, p(nepcs), \"r\")\n",
    "plt.xlabel('N_EPOCH_PER_CLIENT')\n",
    "plt.ylabel('TOTAL_EPOCH')\n",
    "plt.title('Total computational power cost')\n",
    "plt.savefig(\"tcpc.svg\")"
   ]
  },
  {
   "cell_type": "code",
   "execution_count": 11,
   "metadata": {},
   "outputs": [
    {
     "data": {
      "text/plain": [
       "['_ATTR_FIELD_MAP',\n",
       " '__class__',\n",
       " '__delattr__',\n",
       " '__dict__',\n",
       " '__dir__',\n",
       " '__doc__',\n",
       " '__eq__',\n",
       " '__format__',\n",
       " '__ge__',\n",
       " '__getattribute__',\n",
       " '__gt__',\n",
       " '__hash__',\n",
       " '__init__',\n",
       " '__init_subclass__',\n",
       " '__le__',\n",
       " '__lt__',\n",
       " '__module__',\n",
       " '__ne__',\n",
       " '__new__',\n",
       " '__reduce__',\n",
       " '__reduce_ex__',\n",
       " '__repr__',\n",
       " '__setattr__',\n",
       " '__sizeof__',\n",
       " '__str__',\n",
       " '__subclasshook__',\n",
       " '__weakref__',\n",
       " '_api',\n",
       " '_check_results',\n",
       " '_get_experiment_url',\n",
       " '_in_jupyter_environment',\n",
       " '_set_from_metadata',\n",
       " '_update_from_metadata',\n",
       " 'add_tags',\n",
       " 'archived',\n",
       " 'create_symlink',\n",
       " 'display',\n",
       " 'download_model',\n",
       " 'duration_millis',\n",
       " 'end',\n",
       " 'end_server_timestamp',\n",
       " 'get_additional_system_info',\n",
       " 'get_asset',\n",
       " 'get_asset_list',\n",
       " 'get_code',\n",
       " 'get_command',\n",
       " 'get_environment_details',\n",
       " 'get_executable',\n",
       " 'get_git_metadata',\n",
       " 'get_git_patch',\n",
       " 'get_gpu_static_info',\n",
       " 'get_hostname',\n",
       " 'get_html',\n",
       " 'get_installed_packages',\n",
       " 'get_ip',\n",
       " 'get_max_memory',\n",
       " 'get_metrics',\n",
       " 'get_metrics_summary',\n",
       " 'get_model_asset_list',\n",
       " 'get_model_data',\n",
       " 'get_model_graph',\n",
       " 'get_model_names',\n",
       " 'get_network_interface_ips',\n",
       " 'get_os',\n",
       " 'get_os_packages',\n",
       " 'get_os_type',\n",
       " 'get_others_summary',\n",
       " 'get_output',\n",
       " 'get_parameters_summary',\n",
       " 'get_pid',\n",
       " 'get_python_version',\n",
       " 'get_python_version_verbose',\n",
       " 'get_system_details',\n",
       " 'get_system_metric_names',\n",
       " 'get_tags',\n",
       " 'get_total_memory',\n",
       " 'get_user',\n",
       " 'id',\n",
       " 'log_additional_system_info',\n",
       " 'log_asset',\n",
       " 'log_cpu_metrics',\n",
       " 'log_gpu_metrics',\n",
       " 'log_html',\n",
       " 'log_image',\n",
       " 'log_load_metrics',\n",
       " 'log_metric',\n",
       " 'log_other',\n",
       " 'log_output',\n",
       " 'log_parameter',\n",
       " 'log_ram_metrics',\n",
       " 'name',\n",
       " 'optimization_id',\n",
       " 'project_name',\n",
       " 'register_model',\n",
       " 'set_code',\n",
       " 'set_command',\n",
       " 'set_end_time',\n",
       " 'set_executable',\n",
       " 'set_git_metadata',\n",
       " 'set_git_patch',\n",
       " 'set_gpu_static_info',\n",
       " 'set_hostname',\n",
       " 'set_installed_packages',\n",
       " 'set_ip',\n",
       " 'set_model_graph',\n",
       " 'set_name',\n",
       " 'set_network_interface_ips',\n",
       " 'set_os',\n",
       " 'set_os_packages',\n",
       " 'set_os_type',\n",
       " 'set_pid',\n",
       " 'set_python_version',\n",
       " 'set_python_version_verbose',\n",
       " 'set_start_time',\n",
       " 'set_user',\n",
       " 'start_server_timestamp',\n",
       " 'to_json',\n",
       " 'update_status',\n",
       " 'url',\n",
       " 'workspace']"
      ]
     },
     "execution_count": 11,
     "metadata": {},
     "output_type": "execute_result"
    }
   ],
   "source": [
    "dir(exp)"
   ]
  }
 ],
 "metadata": {
  "kernelspec": {
   "display_name": "Python 3",
   "language": "python",
   "name": "python3"
  },
  "language_info": {
   "codemirror_mode": {
    "name": "ipython",
    "version": 3
   },
   "file_extension": ".py",
   "mimetype": "text/x-python",
   "name": "python",
   "nbconvert_exporter": "python",
   "pygments_lexer": "ipython3",
   "version": "3.7.6"
  }
 },
 "nbformat": 4,
 "nbformat_minor": 4
}
