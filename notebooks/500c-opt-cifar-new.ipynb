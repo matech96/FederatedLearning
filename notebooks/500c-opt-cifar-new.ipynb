{
 "cells": [
  {
   "cell_type": "code",
   "execution_count": 1,
   "metadata": {},
   "outputs": [],
   "source": [
    "import comet_ml\n",
    "import matplotlib.pyplot as plt\n",
    "import numpy as np\n",
    "import pandas as pd\n",
    "import os"
   ]
  },
  {
   "cell_type": "code",
   "execution_count": 2,
   "metadata": {},
   "outputs": [],
   "source": [
    "comet_api = comet_ml.api.API()"
   ]
  },
  {
   "cell_type": "code",
   "execution_count": 3,
   "metadata": {},
   "outputs": [],
   "source": [
    "exps = comet_api.get('federated-learning/500c-opt-cifar-new')"
   ]
  },
  {
   "cell_type": "code",
   "execution_count": 4,
   "metadata": {},
   "outputs": [],
   "source": [
    "lrs = [float(exp.get_parameters_summary('LEARNING_RATE')['valueMax']) for exp in exps]\n",
    "teas = [float(exp.get_metrics_summary('test_acc')['valueMax']) for exp in exps]\n",
    "opts = [exp.get_parameters_summary('OPT')['valueMax'] for exp in exps]\n",
    "opt_strats = [exp.get_parameters_summary('OPT_STRATEGY')['valueMax'] for exp in exps]\n",
    "ids = [exp.id for exp in exps]"
   ]
  },
  {
   "cell_type": "code",
   "execution_count": 5,
   "metadata": {},
   "outputs": [],
   "source": [
    "df = pd.DataFrame({'id': ids, 'lr': lrs, 'test_acc': teas, 'opt': opts, 'opt_str': opt_strats})\n",
    "# df_fin = df[df['test_acc'] > 99]\n",
    "# [float(d['metricValue']) for d in exp.get_metrics('test_acc')]"
   ]
  },
  {
   "cell_type": "code",
   "execution_count": 6,
   "metadata": {},
   "outputs": [
    {
     "data": {
      "text/html": [
       "<div>\n",
       "<style scoped>\n",
       "    .dataframe tbody tr th:only-of-type {\n",
       "        vertical-align: middle;\n",
       "    }\n",
       "\n",
       "    .dataframe tbody tr th {\n",
       "        vertical-align: top;\n",
       "    }\n",
       "\n",
       "    .dataframe thead th {\n",
       "        text-align: right;\n",
       "    }\n",
       "</style>\n",
       "<table border=\"1\" class=\"dataframe\">\n",
       "  <thead>\n",
       "    <tr style=\"text-align: right;\">\n",
       "      <th></th>\n",
       "      <th>id</th>\n",
       "      <th>lr</th>\n",
       "      <th>test_acc</th>\n",
       "      <th>opt</th>\n",
       "      <th>opt_str</th>\n",
       "    </tr>\n",
       "  </thead>\n",
       "  <tbody>\n",
       "    <tr>\n",
       "      <th>6</th>\n",
       "      <td>77d5367536b449198dd4f3934988afac</td>\n",
       "      <td>0.100</td>\n",
       "      <td>13.58</td>\n",
       "      <td>ASGD</td>\n",
       "      <td>avg</td>\n",
       "    </tr>\n",
       "    <tr>\n",
       "      <th>23</th>\n",
       "      <td>f2738be511b3466cbfeb760a68e2a130</td>\n",
       "      <td>0.100</td>\n",
       "      <td>14.60</td>\n",
       "      <td>ASGD</td>\n",
       "      <td>nothing</td>\n",
       "    </tr>\n",
       "    <tr>\n",
       "      <th>19</th>\n",
       "      <td>a8cad24bab474a22963fd3f580f7aca3</td>\n",
       "      <td>0.100</td>\n",
       "      <td>14.01</td>\n",
       "      <td>ASGD</td>\n",
       "      <td>reinit</td>\n",
       "    </tr>\n",
       "    <tr>\n",
       "      <th>63</th>\n",
       "      <td>0baabf993d624f638fc0741a63a30096</td>\n",
       "      <td>1.000</td>\n",
       "      <td>21.16</td>\n",
       "      <td>Adadelta</td>\n",
       "      <td>avg</td>\n",
       "    </tr>\n",
       "    <tr>\n",
       "      <th>71</th>\n",
       "      <td>564578ac55804a20b635a31f1f94db51</td>\n",
       "      <td>1.000</td>\n",
       "      <td>17.68</td>\n",
       "      <td>Adadelta</td>\n",
       "      <td>nothing</td>\n",
       "    </tr>\n",
       "    <tr>\n",
       "      <th>67</th>\n",
       "      <td>0c407d9c67d64dcf9efa3a2fd43cbccc</td>\n",
       "      <td>1.000</td>\n",
       "      <td>17.55</td>\n",
       "      <td>Adadelta</td>\n",
       "      <td>reinit</td>\n",
       "    </tr>\n",
       "    <tr>\n",
       "      <th>38</th>\n",
       "      <td>b945ff4fc9e84f56b88b96607b09227a</td>\n",
       "      <td>0.001</td>\n",
       "      <td>20.25</td>\n",
       "      <td>Adam</td>\n",
       "      <td>avg</td>\n",
       "    </tr>\n",
       "    <tr>\n",
       "      <th>46</th>\n",
       "      <td>87081dabb1ed45f4a205135629c3be8a</td>\n",
       "      <td>0.001</td>\n",
       "      <td>17.42</td>\n",
       "      <td>Adam</td>\n",
       "      <td>nothing</td>\n",
       "    </tr>\n",
       "    <tr>\n",
       "      <th>42</th>\n",
       "      <td>48d20f08dfae4d1c89f954cacf69ab70</td>\n",
       "      <td>0.001</td>\n",
       "      <td>18.39</td>\n",
       "      <td>Adam</td>\n",
       "      <td>reinit</td>\n",
       "    </tr>\n",
       "    <tr>\n",
       "      <th>8</th>\n",
       "      <td>280b4026a9794873973d746d9589153f</td>\n",
       "      <td>0.100</td>\n",
       "      <td>14.46</td>\n",
       "      <td>SGD</td>\n",
       "      <td>avg</td>\n",
       "    </tr>\n",
       "    <tr>\n",
       "      <th>25</th>\n",
       "      <td>25adc312d2eb4733b0ad959560a9cb7e</td>\n",
       "      <td>0.100</td>\n",
       "      <td>13.12</td>\n",
       "      <td>SGD</td>\n",
       "      <td>nothing</td>\n",
       "    </tr>\n",
       "    <tr>\n",
       "      <th>21</th>\n",
       "      <td>185bb406a66f4aafb2923b2c4e4a9056</td>\n",
       "      <td>0.100</td>\n",
       "      <td>13.70</td>\n",
       "      <td>SGD</td>\n",
       "      <td>reinit</td>\n",
       "    </tr>\n",
       "  </tbody>\n",
       "</table>\n",
       "</div>"
      ],
      "text/plain": [
       "                                  id     lr  test_acc       opt  opt_str\n",
       "6   77d5367536b449198dd4f3934988afac  0.100     13.58      ASGD      avg\n",
       "23  f2738be511b3466cbfeb760a68e2a130  0.100     14.60      ASGD  nothing\n",
       "19  a8cad24bab474a22963fd3f580f7aca3  0.100     14.01      ASGD   reinit\n",
       "63  0baabf993d624f638fc0741a63a30096  1.000     21.16  Adadelta      avg\n",
       "71  564578ac55804a20b635a31f1f94db51  1.000     17.68  Adadelta  nothing\n",
       "67  0c407d9c67d64dcf9efa3a2fd43cbccc  1.000     17.55  Adadelta   reinit\n",
       "38  b945ff4fc9e84f56b88b96607b09227a  0.001     20.25      Adam      avg\n",
       "46  87081dabb1ed45f4a205135629c3be8a  0.001     17.42      Adam  nothing\n",
       "42  48d20f08dfae4d1c89f954cacf69ab70  0.001     18.39      Adam   reinit\n",
       "8   280b4026a9794873973d746d9589153f  0.100     14.46       SGD      avg\n",
       "25  25adc312d2eb4733b0ad959560a9cb7e  0.100     13.12       SGD  nothing\n",
       "21  185bb406a66f4aafb2923b2c4e4a9056  0.100     13.70       SGD   reinit"
      ]
     },
     "execution_count": 6,
     "metadata": {},
     "output_type": "execute_result"
    }
   ],
   "source": [
    "df.iloc[df.groupby(['opt', 'opt_str']).idxmax()['test_acc']]"
   ]
  }
 ],
 "metadata": {
  "kernelspec": {
   "display_name": "Python 3",
   "language": "python",
   "name": "python3"
  },
  "language_info": {
   "codemirror_mode": {
    "name": "ipython",
    "version": 3
   },
   "file_extension": ".py",
   "mimetype": "text/x-python",
   "name": "python",
   "nbconvert_exporter": "python",
   "pygments_lexer": "ipython3",
   "version": "3.7.6"
  }
 },
 "nbformat": 4,
 "nbformat_minor": 4
}
