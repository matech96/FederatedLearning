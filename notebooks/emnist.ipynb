{
 "cells": [
  {
   "cell_type": "code",
   "execution_count": 11,
   "metadata": {},
   "outputs": [],
   "source": [
    "import os\n",
    "os.chdir('..')"
   ]
  },
  {
   "cell_type": "code",
   "execution_count": 12,
   "metadata": {},
   "outputs": [],
   "source": [
    "import logging\n",
    "from pathlib import Path\n",
    "import h5py\n",
    "\n",
    "import numpy as np\n",
    "import tensorflow as tf"
   ]
  },
  {
   "cell_type": "code",
   "execution_count": 13,
   "metadata": {},
   "outputs": [],
   "source": [
    "data_dir = Path(\"data/emnist_dig_fed\")\n",
    "is_extract = not data_dir.exists()\n",
    "# if not is_extract:\n",
    "#     return\n",
    "\n",
    "logging.info(f\"Data extration: {is_extract} ...\")\n",
    "filename = 'fed_emnist_digitsonly.tar.bz2'\n",
    "path = tf.keras.utils.get_file(\n",
    "  filename,\n",
    "  origin='https://storage.googleapis.com/tff-datasets-public/' + filename,\n",
    "  file_hash='55333deb8546765427c385710ca5e7301e16f4ed8b60c1dc5ae224b42bd5b14b',\n",
    "  hash_algorithm='sha256',\n",
    "  extract=True,\n",
    "  archive_format='tar')\n",
    "logging.info(f\"Data extrated\")\n",
    "\n",
    "dir_path = os.path.dirname(path)\n",
    "\n",
    "def download_split(data_set):\n",
    "    split_dir = data_dir / data_set\n",
    "    try:\n",
    "        os.makedirs(split_dir)\n",
    "    except FileExistsError:\n",
    "        return\n",
    "    h5 = h5py.File(os.path.join(dir_path, f\"fed_emnist_digitsonly_{data_set}.h5\"), \"r\")[\n",
    "        \"examples\"\n",
    "    ]\n",
    "\n",
    "    for client_id in h5.keys():\n",
    "        images = np.expand_dims(h5[client_id]['pixels'], axis=1)\n",
    "        labels = np.array(h5[client_id]['label'])\n",
    "        np.save(split_dir / f\"{client_id}_img\", images)\n",
    "        np.save(split_dir / f\"{client_id}_label\", labels)\n",
    "\n",
    "download_split(\"train\")\n",
    "download_split(\"test\")"
   ]
  },
  {
   "cell_type": "code",
   "execution_count": 14,
   "metadata": {},
   "outputs": [],
   "source": [
    "def get_client_data(data_set, client_id):\n",
    "    data_dir = Path(\"data/emnist_dig_fed\")\n",
    "    split_dir = data_dir / data_set\n",
    "\n",
    "    images = np.load(split_dir / f\"{client_id}_img.npy\")\n",
    "    labels = np.load(split_dir / f\"{client_id}_label.npy\")\n",
    "    return images, labels\n",
    "\n",
    "\n",
    "def get_data(split):\n",
    "    data_dir = Path(\"data/emnist_dig_fed\")\n",
    "    if isinstance(split, str) and split == \"test\":\n",
    "        data_set = \"test\"\n",
    "        ext = '_img.npy'\n",
    "        client_ids = [f[:-len(ext)] for f in os.listdir(data_dir/data_set) if f.endswith(ext)]\n",
    "    else:\n",
    "        data_set = \"train\"\n",
    "        client_ids = split\n",
    "\n",
    "    images = []\n",
    "    labels = []\n",
    "    for c in client_ids:\n",
    "        i, l = get_client_data(data_set, c)\n",
    "        images.append(i)\n",
    "        labels.append(l)\n",
    "\n",
    "    return np.concatenate(images), np.concatenate(labels)"
   ]
  },
  {
   "cell_type": "code",
   "execution_count": 15,
   "metadata": {},
   "outputs": [],
   "source": [
    "img, l = get_data([\"f0000_14\"])"
   ]
  },
  {
   "cell_type": "code",
   "execution_count": 16,
   "metadata": {},
   "outputs": [
    {
     "data": {
      "text/plain": [
       "(93, 1, 28, 28)"
      ]
     },
     "execution_count": 16,
     "metadata": {},
     "output_type": "execute_result"
    }
   ],
   "source": [
    "img.shape"
   ]
  },
  {
   "cell_type": "code",
   "execution_count": null,
   "metadata": {},
   "outputs": [],
   "source": [
    "len(h5.keys())"
   ]
  },
  {
   "cell_type": "code",
   "execution_count": null,
   "metadata": {},
   "outputs": [],
   "source": [
    "from torchvision import datasets\n",
    "train_ds = datasets.EMNIST(\"data/emnist\", \"byclass\", download=True,)"
   ]
  },
  {
   "cell_type": "code",
   "execution_count": null,
   "metadata": {},
   "outputs": [],
   "source": [
    "train_ds"
   ]
  },
  {
   "cell_type": "code",
   "execution_count": null,
   "metadata": {},
   "outputs": [],
   "source": [
    "len(np.unique(train_ds.train_labels))"
   ]
  },
  {
   "cell_type": "code",
   "execution_count": 3,
   "metadata": {},
   "outputs": [],
   "source": [
    "from FLF.data.TorchEMNISTFed import TorchEMNISTFed"
   ]
  },
  {
   "cell_type": "code",
   "execution_count": 4,
   "metadata": {},
   "outputs": [],
   "source": [
    "ds = TorchEMNISTFed(\"test\")"
   ]
  },
  {
   "cell_type": "code",
   "execution_count": 5,
   "metadata": {},
   "outputs": [],
   "source": [
    "ids = TorchEMNISTFed.get_client_ids('train')"
   ]
  },
  {
   "cell_type": "code",
   "execution_count": null,
   "metadata": {},
   "outputs": [],
   "source": [
    "len(ids)"
   ]
  },
  {
   "cell_type": "code",
   "execution_count": 10,
   "metadata": {},
   "outputs": [
    {
     "data": {
      "text/plain": [
       "671585"
      ]
     },
     "execution_count": 10,
     "metadata": {},
     "output_type": "execute_result"
    }
   ],
   "source": [
    "len(TorchEMNISTFed(ids))"
   ]
  },
  {
   "cell_type": "code",
   "execution_count": null,
   "metadata": {},
   "outputs": [],
   "source": []
  }
 ],
 "metadata": {
  "kernelspec": {
   "display_name": "Python 3",
   "language": "python",
   "name": "python3"
  },
  "language_info": {
   "codemirror_mode": {
    "name": "ipython",
    "version": 3
   },
   "file_extension": ".py",
   "mimetype": "text/x-python",
   "name": "python",
   "nbconvert_exporter": "python",
   "pygments_lexer": "ipython3",
   "version": "3.7.6"
  }
 },
 "nbformat": 4,
 "nbformat_minor": 4
}
