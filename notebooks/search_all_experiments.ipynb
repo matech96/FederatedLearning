{
 "cells": [
  {
   "cell_type": "code",
   "execution_count": 2,
   "metadata": {},
   "outputs": [],
   "source": [
    "import os\n",
    "os.chdir('..')"
   ]
  },
  {
   "cell_type": "code",
   "execution_count": 30,
   "metadata": {},
   "outputs": [],
   "source": [
    "import comet_ml\n",
    "from comet_ml.query import Parameter\n",
    "import pandas as pd\n",
    "\n",
    "from mutil.cometml.apiquery import exp_metrics2list, exp_params2list"
   ]
  },
  {
   "cell_type": "code",
   "execution_count": 4,
   "metadata": {},
   "outputs": [],
   "source": [
    "comet_api = comet_ml.api.API(\"cgss7piePhyFPXRw1J2uUEjkQ\")"
   ]
  },
  {
   "cell_type": "code",
   "execution_count": 5,
   "metadata": {},
   "outputs": [],
   "source": [
    "exps = comet_api.get_experiments('federated-learning')"
   ]
  },
  {
   "cell_type": "code",
   "execution_count": 9,
   "metadata": {},
   "outputs": [
    {
     "name": "stdout",
     "output_type": "stream",
     "text": [
      "There are a total of 1557 experiments.\n"
     ]
    }
   ],
   "source": [
    "print(f\"There are a total of {len(exps)} experiments.\")"
   ]
  },
  {
   "cell_type": "code",
   "execution_count": null,
   "metadata": {},
   "outputs": [],
   "source": [
    "l = exp_params2list(exps, 'AUG', str)"
   ]
  },
  {
   "cell_type": "code",
   "execution_count": 20,
   "metadata": {},
   "outputs": [],
   "source": [
    "def get_exps(proj):\n",
    "    return comet_api.query('federated-learning', proj, Parameter('AUG') == 'basic') + \\\n",
    "           comet_api.query('federated-learning', proj, Parameter('AUG') == '24')"
   ]
  },
  {
   "cell_type": "code",
   "execution_count": null,
   "metadata": {},
   "outputs": [],
   "source": [
    "exps = []\n",
    "for p in comet_api.get_projects('federated-learning'):\n",
    "    exps += get_exps(p)"
   ]
  },
  {
   "cell_type": "code",
   "execution_count": 23,
   "metadata": {},
   "outputs": [
    {
     "name": "stdout",
     "output_type": "stream",
     "text": [
      "There are a total of 20 experiments, matching the query.\n"
     ]
    }
   ],
   "source": [
    "print(f\"There are a total of {len(exps)} experiments, matching the query.\")"
   ]
  },
  {
   "cell_type": "code",
   "execution_count": 29,
   "metadata": {},
   "outputs": [],
   "source": [
    "clr = exp_params2list(exps, 'CLIENT_LEARNING_RATE', str)\n",
    "slr = exp_params2list(exps, 'SERVER_LEARNING_RATE', str)\n",
    "copt = exp_params2list(exps, 'CLIENT_OPT', str)\n",
    "sopt = exp_params2list(exps, 'SERVER_OPT', str)"
   ]
  },
  {
   "cell_type": "code",
   "execution_count": 35,
   "metadata": {},
   "outputs": [],
   "source": [
    "df = pd.DataFrame({'SERVER_OPT': sopt, 'CLIENT_OPT': copt, 'SERVER_LEARNING_RATE': slr, 'CLIENT_LEARNING_RATE': clr, 'URL': [exp.url for exp in exps]})"
   ]
  },
  {
   "cell_type": "code",
   "execution_count": 36,
   "metadata": {},
   "outputs": [
    {
     "data": {
      "text/html": [
       "<div>\n",
       "<style scoped>\n",
       "    .dataframe tbody tr th:only-of-type {\n",
       "        vertical-align: middle;\n",
       "    }\n",
       "\n",
       "    .dataframe tbody tr th {\n",
       "        vertical-align: top;\n",
       "    }\n",
       "\n",
       "    .dataframe thead th {\n",
       "        text-align: right;\n",
       "    }\n",
       "</style>\n",
       "<table border=\"1\" class=\"dataframe\">\n",
       "  <thead>\n",
       "    <tr style=\"text-align: right;\">\n",
       "      <th></th>\n",
       "      <th>SERVER_OPT</th>\n",
       "      <th>CLIENT_OPT</th>\n",
       "      <th>SERVER_LEARNING_RATE</th>\n",
       "      <th>CLIENT_LEARNING_RATE</th>\n",
       "      <th>URL</th>\n",
       "    </tr>\n",
       "  </thead>\n",
       "  <tbody>\n",
       "    <tr>\n",
       "      <th>0</th>\n",
       "      <td>Adam</td>\n",
       "      <td>SGD</td>\n",
       "      <td>0.01</td>\n",
       "      <td>0.01</td>\n",
       "      <td>https://www.comet.ml/federated-learning/data-a...</td>\n",
       "    </tr>\n",
       "    <tr>\n",
       "      <th>1</th>\n",
       "      <td>Adam</td>\n",
       "      <td>SGD</td>\n",
       "      <td>0.01</td>\n",
       "      <td>0.01</td>\n",
       "      <td>https://www.comet.ml/federated-learning/data-a...</td>\n",
       "    </tr>\n",
       "    <tr>\n",
       "      <th>2</th>\n",
       "      <td>Adam</td>\n",
       "      <td>SGD</td>\n",
       "      <td>0.01</td>\n",
       "      <td>0.01</td>\n",
       "      <td>https://www.comet.ml/federated-learning/data-a...</td>\n",
       "    </tr>\n",
       "    <tr>\n",
       "      <th>3</th>\n",
       "      <td>Adam</td>\n",
       "      <td>SGD</td>\n",
       "      <td>0.01</td>\n",
       "      <td>0.01</td>\n",
       "      <td>https://www.comet.ml/federated-learning/data-a...</td>\n",
       "    </tr>\n",
       "    <tr>\n",
       "      <th>4</th>\n",
       "      <td>Yogi</td>\n",
       "      <td>SGD</td>\n",
       "      <td>0.0316</td>\n",
       "      <td>0.0316</td>\n",
       "      <td>https://www.comet.ml/federated-learning/server...</td>\n",
       "    </tr>\n",
       "    <tr>\n",
       "      <th>5</th>\n",
       "      <td>Yogi</td>\n",
       "      <td>SGD</td>\n",
       "      <td>0.0316</td>\n",
       "      <td>0.0316</td>\n",
       "      <td>https://www.comet.ml/federated-learning/server...</td>\n",
       "    </tr>\n",
       "    <tr>\n",
       "      <th>6</th>\n",
       "      <td>Adam</td>\n",
       "      <td>SGD</td>\n",
       "      <td>0.0316</td>\n",
       "      <td>0.1</td>\n",
       "      <td>https://www.comet.ml/federated-learning/server...</td>\n",
       "    </tr>\n",
       "    <tr>\n",
       "      <th>7</th>\n",
       "      <td>SGD</td>\n",
       "      <td>SGD</td>\n",
       "      <td>1.0</td>\n",
       "      <td>0.1</td>\n",
       "      <td>https://www.comet.ml/federated-learning/server...</td>\n",
       "    </tr>\n",
       "    <tr>\n",
       "      <th>8</th>\n",
       "      <td>Yogi</td>\n",
       "      <td>SGD</td>\n",
       "      <td>0.0316</td>\n",
       "      <td>0.0316</td>\n",
       "      <td>https://www.comet.ml/federated-learning/server...</td>\n",
       "    </tr>\n",
       "    <tr>\n",
       "      <th>9</th>\n",
       "      <td>Yogi</td>\n",
       "      <td>SGD</td>\n",
       "      <td>0.0316</td>\n",
       "      <td>0.0316</td>\n",
       "      <td>https://www.comet.ml/federated-learning/server...</td>\n",
       "    </tr>\n",
       "    <tr>\n",
       "      <th>10</th>\n",
       "      <td>Yogi</td>\n",
       "      <td>SGD</td>\n",
       "      <td>0.0316</td>\n",
       "      <td>0.0316</td>\n",
       "      <td>https://www.comet.ml/federated-learning/server...</td>\n",
       "    </tr>\n",
       "    <tr>\n",
       "      <th>11</th>\n",
       "      <td>Yogi</td>\n",
       "      <td>SGD</td>\n",
       "      <td>0.0316</td>\n",
       "      <td>0.0316</td>\n",
       "      <td>https://www.comet.ml/federated-learning/server...</td>\n",
       "    </tr>\n",
       "    <tr>\n",
       "      <th>12</th>\n",
       "      <td>Yogi</td>\n",
       "      <td>SGD</td>\n",
       "      <td>0.0316</td>\n",
       "      <td>0.0316</td>\n",
       "      <td>https://www.comet.ml/federated-learning/server...</td>\n",
       "    </tr>\n",
       "    <tr>\n",
       "      <th>13</th>\n",
       "      <td>Yogi</td>\n",
       "      <td>SGD</td>\n",
       "      <td>0.0316</td>\n",
       "      <td>0.0316</td>\n",
       "      <td>https://www.comet.ml/federated-learning/server...</td>\n",
       "    </tr>\n",
       "    <tr>\n",
       "      <th>14</th>\n",
       "      <td>Yogi</td>\n",
       "      <td>SGD</td>\n",
       "      <td>0.0316</td>\n",
       "      <td>0.0316</td>\n",
       "      <td>https://www.comet.ml/federated-learning/server...</td>\n",
       "    </tr>\n",
       "    <tr>\n",
       "      <th>15</th>\n",
       "      <td>Yogi</td>\n",
       "      <td>SGD</td>\n",
       "      <td>0.0316</td>\n",
       "      <td>0.0316</td>\n",
       "      <td>https://www.comet.ml/federated-learning/server...</td>\n",
       "    </tr>\n",
       "    <tr>\n",
       "      <th>16</th>\n",
       "      <td>Yogi</td>\n",
       "      <td>SGD</td>\n",
       "      <td>0.0316</td>\n",
       "      <td>0.0316</td>\n",
       "      <td>https://www.comet.ml/federated-learning/server...</td>\n",
       "    </tr>\n",
       "    <tr>\n",
       "      <th>17</th>\n",
       "      <td>Yogi</td>\n",
       "      <td>SGD</td>\n",
       "      <td>0.0316</td>\n",
       "      <td>0.0316</td>\n",
       "      <td>https://www.comet.ml/federated-learning/server...</td>\n",
       "    </tr>\n",
       "    <tr>\n",
       "      <th>18</th>\n",
       "      <td>Yogi</td>\n",
       "      <td>SGD</td>\n",
       "      <td>0.0316</td>\n",
       "      <td>0.0316</td>\n",
       "      <td>https://www.comet.ml/federated-learning/server...</td>\n",
       "    </tr>\n",
       "    <tr>\n",
       "      <th>19</th>\n",
       "      <td>Yogi</td>\n",
       "      <td>SGD</td>\n",
       "      <td>0.0316</td>\n",
       "      <td>0.0316</td>\n",
       "      <td>https://www.comet.ml/federated-learning/server...</td>\n",
       "    </tr>\n",
       "  </tbody>\n",
       "</table>\n",
       "</div>"
      ],
      "text/plain": [
       "   SERVER_OPT CLIENT_OPT SERVER_LEARNING_RATE CLIENT_LEARNING_RATE  \\\n",
       "0        Adam        SGD                 0.01                 0.01   \n",
       "1        Adam        SGD                 0.01                 0.01   \n",
       "2        Adam        SGD                 0.01                 0.01   \n",
       "3        Adam        SGD                 0.01                 0.01   \n",
       "4        Yogi        SGD               0.0316               0.0316   \n",
       "5        Yogi        SGD               0.0316               0.0316   \n",
       "6        Adam        SGD               0.0316                  0.1   \n",
       "7         SGD        SGD                  1.0                  0.1   \n",
       "8        Yogi        SGD               0.0316               0.0316   \n",
       "9        Yogi        SGD               0.0316               0.0316   \n",
       "10       Yogi        SGD               0.0316               0.0316   \n",
       "11       Yogi        SGD               0.0316               0.0316   \n",
       "12       Yogi        SGD               0.0316               0.0316   \n",
       "13       Yogi        SGD               0.0316               0.0316   \n",
       "14       Yogi        SGD               0.0316               0.0316   \n",
       "15       Yogi        SGD               0.0316               0.0316   \n",
       "16       Yogi        SGD               0.0316               0.0316   \n",
       "17       Yogi        SGD               0.0316               0.0316   \n",
       "18       Yogi        SGD               0.0316               0.0316   \n",
       "19       Yogi        SGD               0.0316               0.0316   \n",
       "\n",
       "                                                  URL  \n",
       "0   https://www.comet.ml/federated-learning/data-a...  \n",
       "1   https://www.comet.ml/federated-learning/data-a...  \n",
       "2   https://www.comet.ml/federated-learning/data-a...  \n",
       "3   https://www.comet.ml/federated-learning/data-a...  \n",
       "4   https://www.comet.ml/federated-learning/server...  \n",
       "5   https://www.comet.ml/federated-learning/server...  \n",
       "6   https://www.comet.ml/federated-learning/server...  \n",
       "7   https://www.comet.ml/federated-learning/server...  \n",
       "8   https://www.comet.ml/federated-learning/server...  \n",
       "9   https://www.comet.ml/federated-learning/server...  \n",
       "10  https://www.comet.ml/federated-learning/server...  \n",
       "11  https://www.comet.ml/federated-learning/server...  \n",
       "12  https://www.comet.ml/federated-learning/server...  \n",
       "13  https://www.comet.ml/federated-learning/server...  \n",
       "14  https://www.comet.ml/federated-learning/server...  \n",
       "15  https://www.comet.ml/federated-learning/server...  \n",
       "16  https://www.comet.ml/federated-learning/server...  \n",
       "17  https://www.comet.ml/federated-learning/server...  \n",
       "18  https://www.comet.ml/federated-learning/server...  \n",
       "19  https://www.comet.ml/federated-learning/server...  "
      ]
     },
     "execution_count": 36,
     "metadata": {},
     "output_type": "execute_result"
    }
   ],
   "source": [
    "df"
   ]
  },
  {
   "cell_type": "code",
   "execution_count": 34,
   "metadata": {},
   "outputs": [
    {
     "data": {
      "text/plain": [
       "'https://www.comet.ml/federated-learning/data-aug-norm/f4268e0a799041f0a538b364bbdfaaba'"
      ]
     },
     "execution_count": 34,
     "metadata": {},
     "output_type": "execute_result"
    }
   ],
   "source": [
    "exps[0].url"
   ]
  }
 ],
 "metadata": {
  "kernelspec": {
   "display_name": "Python 3",
   "language": "python",
   "name": "python3"
  },
  "language_info": {
   "codemirror_mode": {
    "name": "ipython",
    "version": 3
   },
   "file_extension": ".py",
   "mimetype": "text/x-python",
   "name": "python",
   "nbconvert_exporter": "python",
   "pygments_lexer": "ipython3",
   "version": "3.7.6"
  }
 },
 "nbformat": 4,
 "nbformat_minor": 4
}
