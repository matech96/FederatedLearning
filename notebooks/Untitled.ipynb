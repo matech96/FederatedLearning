{
 "cells": [
  {
   "cell_type": "code",
   "execution_count": 1,
   "metadata": {},
   "outputs": [],
   "source": [
    "import os\n",
    "os.chdir('..')\n",
    "\n",
    "from comet_ml import Experiment, OfflineExperiment\n",
    "\n",
    "from typing import Tuple, List\n",
    "import logging\n",
    "\n",
    "import numpy as np\n",
    "import syft as sy\n",
    "import torch as th\n",
    "import torch.nn as nn\n",
    "import torch.nn.functional as F\n",
    "from torchvision import datasets, transforms\n",
    "\n",
    "from syftutils.datasets import get_dataset_items_at\n",
    "\n",
    "from SyftFederatedLearner import SyftFederatedLearner, SyftFederatedLearnerConfig\n",
    "\n",
    "\n",
    "class SyftFederatedLearnerMNISTConfig(SyftFederatedLearnerConfig):\n",
    "    IS_IID_DATA: bool = True  # If true, the data is split random amongs clients. If false, the client have different digits.\n",
    "\n",
    "\n",
    "class SyftFederatedLearnerMNIST(SyftFederatedLearner):\n",
    "    def __init__(\n",
    "        self, experiment: Experiment, config: SyftFederatedLearnerMNISTConfig\n",
    "    ) -> None:\n",
    "        \"\"\"Initialises the training.\n",
    "\n",
    "        Arguments:\n",
    "            experiment {Experiment} -- Comet.ml experiment object for online logging.\n",
    "            config {SyftFederatedLearnerMNISTConfig} -- Training configuration description.\n",
    "        \"\"\"\n",
    "        super().__init__(experiment, config)\n",
    "        self.config = config  # Purly to help intellisense\n",
    "\n",
    "    def load_data(self) -> Tuple[List[th.utils.data.DataLoader], th.utils.data.DataLoader]:\n",
    "        logging.info(\"MNIST data loading ...\")\n",
    "        minist_train_ds, mnist_test_ds = self.__get_mnist()\n",
    "        logging.info(\"MNIST data loaded.\")\n",
    "\n",
    "        logging.info(\"Data distributing ...\")\n",
    "        if self.config.IS_IID_DATA:\n",
    "            federated_train_dataset = minist_train_ds.federate(\n",
    "                self.clients\n",
    "            )  # TODO HARD get list of index samples instead\n",
    "        else:\n",
    "            indices = self.__distribute_data_non_IID(\n",
    "                minist_train_ds\n",
    "            )  # TODO get list of index samples instead\n",
    "\n",
    "        # TODO HARD use list of DataLoader and indices with sampler\n",
    "        train_loader_list = []\n",
    "        for idx in indices:\n",
    "            sampler = th.utils.data.sampler.SubsetRandomSampler(idx)\n",
    "            loader = th.utils.data.DataLoader(\n",
    "                dataset=minist_train_ds,\n",
    "                batch_size=self.config.BATCH_SIZE,\n",
    "                num_workers=self.config.DL_N_WORKER,\n",
    "                sampler=sampler,\n",
    "            )\n",
    "            train_loader_list.append(loader)\n",
    "        # federated_train_loader = sy.FederatedDataLoader(\n",
    "        #     federated_train_dataset,\n",
    "        #     batch_size=self.config.BATCH_SIZE,\n",
    "        #     shuffle=True,\n",
    "        #     num_workers=self.config.DL_N_WORKER,\n",
    "        #     pin_memory=True,\n",
    "        # )\n",
    "        logging.info(\"Data distributed.\")\n",
    "\n",
    "        test_loader = th.utils.data.DataLoader(\n",
    "            mnist_test_ds,\n",
    "            batch_size=64,\n",
    "            shuffle=True,\n",
    "            num_workers=self.config.DL_N_WORKER,\n",
    "        )\n",
    "\n",
    "        return train_loader_list, test_loader\n",
    "\n",
    "    def __get_mnist(self):\n",
    "        minist_train_ds = datasets.MNIST(\n",
    "            \"../data\",\n",
    "            train=True,\n",
    "            download=True,\n",
    "            transform=transforms.Compose(\n",
    "                [transforms.ToTensor(), transforms.Normalize((0.1307,), (0.3081,))]\n",
    "            ),\n",
    "        )\n",
    "        mnist_test_ds = datasets.MNIST(\n",
    "            \"../data\",\n",
    "            train=False,\n",
    "            transform=transforms.Compose(\n",
    "                [transforms.ToTensor(), transforms.Normalize((0.1307,), (0.3081,))]\n",
    "            ),\n",
    "        )\n",
    "        return minist_train_ds, mnist_test_ds\n",
    "\n",
    "    def __distribute_data_non_IID(self, minist_train_ds):\n",
    "        digit_sort_idx = np.concatenate(\n",
    "            [np.where(minist_train_ds.targets == i)[0] for i in range(10)]\n",
    "        )\n",
    "        digit_sort_idx = digit_sort_idx.reshape(2 * self.config.N_CLIENTS, -1)\n",
    "        np.random.shuffle(digit_sort_idx)\n",
    "        indices = [\n",
    "            digit_sort_idx[i : i + 2,].flatten()\n",
    "            for i in range(0, 2 * self.config.N_CLIENTS, 2)\n",
    "        ]\n",
    "        return indices\n",
    "        # TODO return idices and remove the rest\n",
    "        # dss = []\n",
    "        # for idx, c in zip(indices, self.clients):\n",
    "        #     data, target = get_dataset_items_at(minist_train_ds, idx)\n",
    "        #     dss.append(sy.BaseDataset(data.send(c), target.send(c)))\n",
    "\n",
    "        # federated_train_dataset = sy.FederatedDataset(dss)\n",
    "        # return federated_train_dataset\n",
    "\n",
    "    def build_model(self) -> nn.Module:\n",
    "        return Net()\n",
    "\n",
    "\n",
    "class Net(nn.Module):\n",
    "    def __init__(self):\n",
    "        super(Net, self).__init__()\n",
    "        self.conv1 = nn.Conv2d(1, 32, 5, 1)\n",
    "        self.conv2 = nn.Conv2d(32, 64, 5, 1)\n",
    "        self.fc1 = nn.Linear(4 * 4 * 64, 512)\n",
    "        self.fc2 = nn.Linear(512, 10)\n",
    "\n",
    "    def forward(self, x):\n",
    "        x = F.relu(self.conv1(x))\n",
    "        x = F.max_pool2d(x, 2, 2)\n",
    "        x = F.relu(self.conv2(x))\n",
    "        x = F.max_pool2d(x, 2, 2)\n",
    "        x = x.view(-1, 4 * 4 * 64)\n",
    "        x = F.relu(self.fc1(x))\n",
    "        x = self.fc2(x)\n",
    "        return F.log_softmax(x, dim=1)\n"
   ]
  },
  {
   "cell_type": "code",
   "execution_count": 3,
   "metadata": {},
   "outputs": [
    {
     "name": "stderr",
     "output_type": "stream",
     "text": [
      "COMET INFO: ----------------------------\n",
      "COMET INFO: Comet.ml Experiment Summary:\n",
      "COMET INFO:   Data:\n",
      "COMET INFO:     url: [OfflineExperiment will get URL after upload]\n",
      "COMET INFO:   Metrics [count] (min, max):\n",
      "COMET INFO:     sys.cpu.percent.01 [2]       : (18.5, 63.8)\n",
      "COMET INFO:     sys.cpu.percent.02 [2]       : (2.3, 9.7)\n",
      "COMET INFO:     sys.cpu.percent.03 [2]       : (4.9, 68.0)\n",
      "COMET INFO:     sys.cpu.percent.04 [2]       : (3.3, 7.4)\n",
      "COMET INFO:     sys.cpu.percent.avg [2]      : (18.575, 25.900000000000002)\n",
      "COMET INFO:     sys.gpu.0.free_memory [2]    : (4238999552.0, 4238999552.0)\n",
      "COMET INFO:     sys.gpu.0.gpu_utilization [2]: (0.0, 0.0)\n",
      "COMET INFO:     sys.gpu.0.total_memory       : (4238999552.0, 4238999552.0)\n",
      "COMET INFO:     sys.gpu.0.used_memory [2]    : (0.0, 0.0)\n",
      "COMET INFO:     sys.load.avg [2]             : (0.25, 0.41)\n",
      "COMET INFO:     sys.ram.total [2]            : (8326709248.0, 8326709248.0)\n",
      "COMET INFO:     sys.ram.used [2]             : (2624110592.0, 3119579136.0)\n",
      "COMET INFO:   Other [count]:\n",
      "COMET INFO:     offline_experiment: True\n",
      "COMET INFO:   Uploads:\n",
      "COMET INFO:     git-patch: 1\n",
      "COMET INFO: ----------------------------\n",
      "COMET INFO: Starting saving the offline archive\n",
      "COMET INFO: To upload this offline experiment, run:\n",
      "    comet upload ./tmp/e0fb0ff0173b4b0c8850554f623acd86.zip\n",
      "WARNING:root:Torch was already hooked... skipping hooking process\n"
     ]
    }
   ],
   "source": [
    "lr = SyftFederatedLearnerMNIST(OfflineExperiment(offline_directory='./tmp'), SyftFederatedLearnerMNISTConfig(IS_IID_DATA=False))"
   ]
  },
  {
   "cell_type": "code",
   "execution_count": 6,
   "metadata": {},
   "outputs": [],
   "source": [
    "tr, te = lr.load_data()"
   ]
  },
  {
   "cell_type": "code",
   "execution_count": 16,
   "metadata": {},
   "outputs": [
    {
     "name": "stdout",
     "output_type": "stream",
     "text": [
      "tensor(8)\n"
     ]
    },
    {
     "data": {
      "image/png": "[encoded data removed]",
      "text/plain": [
       "<Figure size 432x288 with 1 Axes>"
      ]
     },
     "metadata": {
      "needs_background": "light"
     },
     "output_type": "display_data"
    }
   ],
   "source": [
    "import matplotlib.pyplot as plt\n",
    "data, target = next(iter(tr[1]))\n",
    "plt.imshow(data[0, 0, ])\n",
    "print(target[0])"
   ]
  },
  {
   "cell_type": "code",
   "execution_count": 21,
   "metadata": {},
   "outputs": [
    {
     "data": {
      "text/plain": [
       "469"
      ]
     },
     "execution_count": 21,
     "metadata": {},
     "output_type": "execute_result"
    }
   ],
   "source": [
    "len(tr[1])"
   ]
  },
  {
   "cell_type": "code",
   "execution_count": null,
   "metadata": {},
   "outputs": [],
   "source": []
  }
 ],
 "metadata": {
  "kernelspec": {
   "display_name": "Python 3",
   "language": "python",
   "name": "python3"
  },
  "language_info": {
   "codemirror_mode": {
    "name": "ipython",
    "version": 3
   },
   "file_extension": ".py",
   "mimetype": "text/x-python",
   "name": "python",
   "nbconvert_exporter": "python",
   "pygments_lexer": "ipython3",
   "version": "3.7.6"
  }
 },
 "nbformat": 4,
 "nbformat_minor": 4
}
