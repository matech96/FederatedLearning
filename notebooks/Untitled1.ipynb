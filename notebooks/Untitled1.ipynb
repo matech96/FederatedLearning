{
 "cells": [
  {
   "cell_type": "code",
   "execution_count": 55,
   "metadata": {},
   "outputs": [],
   "source": [
    "import os\n",
    "os.chdir('..')"
   ]
  },
  {
   "cell_type": "code",
   "execution_count": 4,
   "metadata": {},
   "outputs": [],
   "source": [
    "import torchvision.models as models\n",
    "import torch as th"
   ]
  },
  {
   "cell_type": "code",
   "execution_count": 2,
   "metadata": {},
   "outputs": [],
   "source": [
    "m = models.resnet18()"
   ]
  },
  {
   "cell_type": "code",
   "execution_count": 63,
   "metadata": {},
   "outputs": [],
   "source": [
    "o = th.optim.Adam(m.parameters())"
   ]
  },
  {
   "cell_type": "code",
   "execution_count": 73,
   "metadata": {},
   "outputs": [],
   "source": [
    "from mutil.pickle import *"
   ]
  },
  {
   "cell_type": "code",
   "execution_count": 84,
   "metadata": {},
   "outputs": [],
   "source": [
    "th.save(list(o.state_dict()['state'].values()), 'tmp.pt')"
   ]
  },
  {
   "cell_type": "code",
   "execution_count": 83,
   "metadata": {},
   "outputs": [
    {
     "data": {
      "text/plain": [
       "[0.001,\n",
       " (0.9, 0.999),\n",
       " 1e-08,\n",
       " 0,\n",
       " False,\n",
       " [139724354188704,\n",
       "  139724349412288,\n",
       "  139724349412368,\n",
       "  139724349412928,\n",
       "  139724349412848,\n",
       "  139724349413088,\n",
       "  139724349413488,\n",
       "  139724349413408,\n",
       "  139724349413648,\n",
       "  139724349414208,\n",
       "  139724349414448,\n",
       "  139724349414528,\n",
       "  139724349476944,\n",
       "  139724349477184,\n",
       "  139724349477264,\n",
       "  139724349477744,\n",
       "  139724349477584,\n",
       "  139724349477904,\n",
       "  139724349478704,\n",
       "  139724349478624,\n",
       "  139724349478864,\n",
       "  139724349398704,\n",
       "  139724349398784,\n",
       "  139724349398544,\n",
       "  139724349479584,\n",
       "  139724349479504,\n",
       "  139724349479744,\n",
       "  139724349480544,\n",
       "  139724349480784,\n",
       "  139724349480864,\n",
       "  139724349528096,\n",
       "  139724349528336,\n",
       "  139724349528416,\n",
       "  139724349529296,\n",
       "  139724349529536,\n",
       "  139724349529616,\n",
       "  139724349526736,\n",
       "  139724349526976,\n",
       "  139724349527056,\n",
       "  139724345266656,\n",
       "  139724345266896,\n",
       "  139724345266976,\n",
       "  139724345267856,\n",
       "  139724345268096,\n",
       "  139724345268176,\n",
       "  139724345311312,\n",
       "  139724345311552,\n",
       "  139724345311632,\n",
       "  139724345312512,\n",
       "  139724345312752,\n",
       "  139724345312832,\n",
       "  139724345268896,\n",
       "  139724345269136,\n",
       "  139724345269216,\n",
       "  139724345313712,\n",
       "  139724345313952,\n",
       "  139724345314032,\n",
       "  139724345314912,\n",
       "  139724345315152,\n",
       "  139724345315232,\n",
       "  139724345340464,\n",
       "  139724345340544]]"
      ]
     },
     "execution_count": 83,
     "metadata": {},
     "output_type": "execute_result"
    }
   ],
   "source": [
    "list(o.state_dict()['param_groups'][0].values())"
   ]
  },
  {
   "cell_type": "code",
   "execution_count": 42,
   "metadata": {},
   "outputs": [
    {
     "name": "stdout",
     "output_type": "stream",
     "text": [
      "CPU times: user 34.2 ms, sys: 57.2 ms, total: 91.4 ms\n",
      "Wall time: 69 ms\n"
     ]
    },
    {
     "data": {
      "text/plain": [
       "<All keys matched successfully>"
      ]
     },
     "execution_count": 42,
     "metadata": {},
     "output_type": "execute_result"
    }
   ],
   "source": [
    "%%time\n",
    "th.save(m.state_dict(), \"mnist_cnn.pt\")\n",
    "m.load_state_dict(th.load(\"mnist_cnn.pt\"))"
   ]
  },
  {
   "cell_type": "code",
   "execution_count": 43,
   "metadata": {},
   "outputs": [
    {
     "name": "stdout",
     "output_type": "stream",
     "text": [
      "CPU times: user 47.5 ms, sys: 467 ms, total: 514 ms\n",
      "Wall time: 3.76 s\n"
     ]
    }
   ],
   "source": [
    "%%time\n",
    "for i in range(10):\n",
    "    th.save(m.state_dict(), \"mnist_cnn.pt\")"
   ]
  },
  {
   "cell_type": "code",
   "execution_count": 35,
   "metadata": {},
   "outputs": [
    {
     "name": "stdout",
     "output_type": "stream",
     "text": [
      "24.2 ms ± 418 µs per loop (mean ± std. dev. of 7 runs, 10 loops each)\n"
     ]
    }
   ],
   "source": [
    "%%timeit\n",
    "m.load_state_dict(th.load(\"mnist_cnn.pt\"))"
   ]
  },
  {
   "cell_type": "code",
   "execution_count": 52,
   "metadata": {},
   "outputs": [],
   "source": [
    "opt = th.load('../tmp/460_opt.pt')"
   ]
  },
  {
   "cell_type": "code",
   "execution_count": 53,
   "metadata": {},
   "outputs": [
    {
     "name": "stdout",
     "output_type": "stream",
     "text": [
      "[]\n"
     ]
    }
   ],
   "source": [
    "print(opt)"
   ]
  },
  {
   "cell_type": "code",
   "execution_count": 56,
   "metadata": {},
   "outputs": [],
   "source": [
    "from syftutils.multipointer import (\n",
    "    avg_model_state_dicts,\n",
    "    commulative_avg_model_state_dicts,\n",
    ")"
   ]
  },
  {
   "cell_type": "code",
   "execution_count": 61,
   "metadata": {},
   "outputs": [
    {
     "name": "stdout",
     "output_type": "stream",
     "text": [
      "31.6 ms ± 1.09 ms per loop (mean ± std. dev. of 7 runs, 10 loops each)\n"
     ]
    }
   ],
   "source": [
    "%%timeit\n",
    "r = commulative_avg_model_state_dicts(m.state_dict(),m.state_dict(),1)"
   ]
  },
  {
   "cell_type": "code",
   "execution_count": null,
   "metadata": {},
   "outputs": [],
   "source": []
  }
 ],
 "metadata": {
  "kernelspec": {
   "display_name": "Python 3",
   "language": "python",
   "name": "python3"
  },
  "language_info": {
   "codemirror_mode": {
    "name": "ipython",
    "version": 3
   },
   "file_extension": ".py",
   "mimetype": "text/x-python",
   "name": "python",
   "nbconvert_exporter": "python",
   "pygments_lexer": "ipython3",
   "version": "3.7.6"
  }
 },
 "nbformat": 4,
 "nbformat_minor": 4
}
