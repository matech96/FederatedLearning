{
 "cells": [
  {
   "cell_type": "code",
   "execution_count": 1,
   "metadata": {},
   "outputs": [],
   "source": [
    "import os\n",
    "os.chdir('..')"
   ]
  },
  {
   "cell_type": "code",
   "execution_count": 2,
   "metadata": {},
   "outputs": [],
   "source": [
    "import torchvision.models as models\n",
    "import torch as th"
   ]
  },
  {
   "cell_type": "code",
   "execution_count": 27,
   "metadata": {},
   "outputs": [],
   "source": [
    "m = models.resnet18()\n",
    "m2 = models.resnet18()"
   ]
  },
  {
   "cell_type": "code",
   "execution_count": 38,
   "metadata": {},
   "outputs": [],
   "source": [
    "opt = th.optim.SGD(m.parameters(), lr=1)"
   ]
  },
  {
   "cell_type": "code",
   "execution_count": 39,
   "metadata": {},
   "outputs": [
    {
     "data": {
      "text/plain": [
       "tensor([[-0.0188,  0.0291,  0.0100, -0.0325, -0.0388, -0.0210, -0.0065],\n",
       "        [-0.0100,  0.0159, -0.0004, -0.0146, -0.0291,  0.0292, -0.0062],\n",
       "        [-0.0060, -0.0073, -0.0380,  0.0093,  0.0159,  0.0171, -0.0119],\n",
       "        [ 0.0160,  0.0379, -0.0165,  0.0160, -0.0186, -0.0487,  0.0267],\n",
       "        [ 0.0504, -0.0152, -0.0271, -0.0376, -0.0202, -0.0398, -0.0155],\n",
       "        [-0.0145, -0.0527, -0.0061, -0.0263, -0.0129, -0.0211, -0.0416],\n",
       "        [ 0.0306,  0.0424, -0.0471,  0.0049, -0.0421, -0.0093, -0.0077]],\n",
       "       grad_fn=<SelectBackward>)"
      ]
     },
     "execution_count": 39,
     "metadata": {},
     "output_type": "execute_result"
    }
   ],
   "source": [
    "list(m.parameters())[0][0][0]"
   ]
  },
  {
   "cell_type": "code",
   "execution_count": 40,
   "metadata": {},
   "outputs": [
    {
     "data": {
      "text/plain": [
       "tensor([[ 0.0447,  0.0180, -0.0344, -0.0346,  0.0099,  0.0022, -0.0163],\n",
       "        [ 0.0271,  0.0028, -0.0378, -0.0395,  0.0043, -0.0367,  0.0073],\n",
       "        [-0.0593, -0.0153, -0.0022, -0.0178, -0.0323, -0.0434, -0.0314],\n",
       "        [ 0.0187,  0.0035, -0.0311,  0.0156,  0.0121,  0.0029, -0.0180],\n",
       "        [-0.0151,  0.0223, -0.0353, -0.0133, -0.0244,  0.0198,  0.0209],\n",
       "        [-0.0036, -0.0213, -0.0043,  0.0075,  0.0010, -0.0141, -0.0084],\n",
       "        [-0.0101, -0.0242,  0.0194,  0.0128,  0.0276, -0.0256, -0.0410]],\n",
       "       grad_fn=<SelectBackward>)"
      ]
     },
     "execution_count": 40,
     "metadata": {},
     "output_type": "execute_result"
    }
   ],
   "source": [
    "list(m2.parameters())[0][0][0]"
   ]
  },
  {
   "cell_type": "code",
   "execution_count": 41,
   "metadata": {},
   "outputs": [],
   "source": [
    "for p, np in zip(m.parameters(), m2.parameters()):\n",
    "    p.grad = p - np # because we go to the opposite direction of the gradient"
   ]
  },
  {
   "cell_type": "code",
   "execution_count": 42,
   "metadata": {},
   "outputs": [],
   "source": [
    "opt.step()"
   ]
  },
  {
   "cell_type": "code",
   "execution_count": 43,
   "metadata": {},
   "outputs": [
    {
     "data": {
      "text/plain": [
       "tensor([[ 0.0447,  0.0180, -0.0344, -0.0346,  0.0099,  0.0022, -0.0163],\n",
       "        [ 0.0271,  0.0028, -0.0378, -0.0395,  0.0043, -0.0367,  0.0073],\n",
       "        [-0.0593, -0.0153, -0.0022, -0.0178, -0.0323, -0.0434, -0.0314],\n",
       "        [ 0.0187,  0.0035, -0.0311,  0.0156,  0.0121,  0.0029, -0.0180],\n",
       "        [-0.0151,  0.0223, -0.0353, -0.0133, -0.0244,  0.0198,  0.0209],\n",
       "        [-0.0036, -0.0213, -0.0043,  0.0075,  0.0010, -0.0141, -0.0084],\n",
       "        [-0.0101, -0.0242,  0.0194,  0.0128,  0.0276, -0.0256, -0.0410]],\n",
       "       grad_fn=<SelectBackward>)"
      ]
     },
     "execution_count": 43,
     "metadata": {},
     "output_type": "execute_result"
    }
   ],
   "source": [
    "list(m.parameters())[0][0][0]"
   ]
  },
  {
   "cell_type": "code",
   "execution_count": 14,
   "metadata": {},
   "outputs": [
    {
     "data": {
      "text/plain": [
       "(62, 122)"
      ]
     },
     "execution_count": 14,
     "metadata": {},
     "output_type": "execute_result"
    }
   ],
   "source": [
    "len(list(m.parameters())), len(m.state_dict().values())"
   ]
  },
  {
   "cell_type": "code",
   "execution_count": 12,
   "metadata": {},
   "outputs": [
    {
     "name": "stdout",
     "output_type": "stream",
     "text": [
      "torch.Size([64, 3, 7, 7]) torch.Size([64, 3, 7, 7])\n",
      "torch.Size([64]) torch.Size([64])\n",
      "torch.Size([64]) torch.Size([64])\n",
      "torch.Size([64, 64, 3, 3]) torch.Size([64])\n",
      "torch.Size([64]) torch.Size([64])\n",
      "torch.Size([64]) torch.Size([])\n",
      "torch.Size([64, 64, 3, 3]) torch.Size([64, 64, 3, 3])\n",
      "torch.Size([64]) torch.Size([64])\n",
      "torch.Size([64]) torch.Size([64])\n",
      "torch.Size([64, 64, 3, 3]) torch.Size([64])\n",
      "torch.Size([64]) torch.Size([64])\n",
      "torch.Size([64]) torch.Size([])\n",
      "torch.Size([64, 64, 3, 3]) torch.Size([64, 64, 3, 3])\n",
      "torch.Size([64]) torch.Size([64])\n",
      "torch.Size([64]) torch.Size([64])\n",
      "torch.Size([128, 64, 3, 3]) torch.Size([64])\n",
      "torch.Size([128]) torch.Size([64])\n",
      "torch.Size([128]) torch.Size([])\n",
      "torch.Size([128, 128, 3, 3]) torch.Size([64, 64, 3, 3])\n",
      "torch.Size([128]) torch.Size([64])\n",
      "torch.Size([128]) torch.Size([64])\n",
      "torch.Size([128, 64, 1, 1]) torch.Size([64])\n",
      "torch.Size([128]) torch.Size([64])\n",
      "torch.Size([128]) torch.Size([])\n",
      "torch.Size([128, 128, 3, 3]) torch.Size([64, 64, 3, 3])\n",
      "torch.Size([128]) torch.Size([64])\n",
      "torch.Size([128]) torch.Size([64])\n",
      "torch.Size([128, 128, 3, 3]) torch.Size([64])\n",
      "torch.Size([128]) torch.Size([64])\n",
      "torch.Size([128]) torch.Size([])\n",
      "torch.Size([256, 128, 3, 3]) torch.Size([128, 64, 3, 3])\n",
      "torch.Size([256]) torch.Size([128])\n",
      "torch.Size([256]) torch.Size([128])\n",
      "torch.Size([256, 256, 3, 3]) torch.Size([128])\n",
      "torch.Size([256]) torch.Size([128])\n",
      "torch.Size([256]) torch.Size([])\n",
      "torch.Size([256, 128, 1, 1]) torch.Size([128, 128, 3, 3])\n",
      "torch.Size([256]) torch.Size([128])\n",
      "torch.Size([256]) torch.Size([128])\n",
      "torch.Size([256, 256, 3, 3]) torch.Size([128])\n",
      "torch.Size([256]) torch.Size([128])\n",
      "torch.Size([256]) torch.Size([])\n",
      "torch.Size([256, 256, 3, 3]) torch.Size([128, 64, 1, 1])\n",
      "torch.Size([256]) torch.Size([128])\n",
      "torch.Size([256]) torch.Size([128])\n",
      "torch.Size([512, 256, 3, 3]) torch.Size([128])\n",
      "torch.Size([512]) torch.Size([128])\n",
      "torch.Size([512]) torch.Size([])\n",
      "torch.Size([512, 512, 3, 3]) torch.Size([128, 128, 3, 3])\n",
      "torch.Size([512]) torch.Size([128])\n",
      "torch.Size([512]) torch.Size([128])\n",
      "torch.Size([512, 256, 1, 1]) torch.Size([128])\n",
      "torch.Size([512]) torch.Size([128])\n",
      "torch.Size([512]) torch.Size([])\n",
      "torch.Size([512, 512, 3, 3]) torch.Size([128, 128, 3, 3])\n",
      "torch.Size([512]) torch.Size([128])\n",
      "torch.Size([512]) torch.Size([128])\n",
      "torch.Size([512, 512, 3, 3]) torch.Size([128])\n",
      "torch.Size([512]) torch.Size([128])\n",
      "torch.Size([512]) torch.Size([])\n",
      "torch.Size([1000, 512]) torch.Size([256, 128, 3, 3])\n",
      "torch.Size([1000]) torch.Size([256])\n"
     ]
    }
   ],
   "source": [
    "for p, s in zip(m.parameters(), m.state_dict().values()):\n",
    "    print(p.shape, s.shape)"
   ]
  },
  {
   "cell_type": "code",
   "execution_count": 63,
   "metadata": {},
   "outputs": [],
   "source": [
    "o = th.optim.Adam(m.parameters())"
   ]
  },
  {
   "cell_type": "code",
   "execution_count": 73,
   "metadata": {},
   "outputs": [],
   "source": [
    "from mutil.pickle import *"
   ]
  },
  {
   "cell_type": "code",
   "execution_count": 84,
   "metadata": {},
   "outputs": [],
   "source": [
    "th.save(list(o.state_dict()['state'].values()), 'tmp.pt')"
   ]
  },
  {
   "cell_type": "code",
   "execution_count": 83,
   "metadata": {},
   "outputs": [
    {
     "data": {
      "text/plain": [
       "[0.001,\n",
       " (0.9, 0.999),\n",
       " 1e-08,\n",
       " 0,\n",
       " False,\n",
       " [139724354188704,\n",
       "  139724349412288,\n",
       "  139724349412368,\n",
       "  139724349412928,\n",
       "  139724349412848,\n",
       "  139724349413088,\n",
       "  139724349413488,\n",
       "  139724349413408,\n",
       "  139724349413648,\n",
       "  139724349414208,\n",
       "  139724349414448,\n",
       "  139724349414528,\n",
       "  139724349476944,\n",
       "  139724349477184,\n",
       "  139724349477264,\n",
       "  139724349477744,\n",
       "  139724349477584,\n",
       "  139724349477904,\n",
       "  139724349478704,\n",
       "  139724349478624,\n",
       "  139724349478864,\n",
       "  139724349398704,\n",
       "  139724349398784,\n",
       "  139724349398544,\n",
       "  139724349479584,\n",
       "  139724349479504,\n",
       "  139724349479744,\n",
       "  139724349480544,\n",
       "  139724349480784,\n",
       "  139724349480864,\n",
       "  139724349528096,\n",
       "  139724349528336,\n",
       "  139724349528416,\n",
       "  139724349529296,\n",
       "  139724349529536,\n",
       "  139724349529616,\n",
       "  139724349526736,\n",
       "  139724349526976,\n",
       "  139724349527056,\n",
       "  139724345266656,\n",
       "  139724345266896,\n",
       "  139724345266976,\n",
       "  139724345267856,\n",
       "  139724345268096,\n",
       "  139724345268176,\n",
       "  139724345311312,\n",
       "  139724345311552,\n",
       "  139724345311632,\n",
       "  139724345312512,\n",
       "  139724345312752,\n",
       "  139724345312832,\n",
       "  139724345268896,\n",
       "  139724345269136,\n",
       "  139724345269216,\n",
       "  139724345313712,\n",
       "  139724345313952,\n",
       "  139724345314032,\n",
       "  139724345314912,\n",
       "  139724345315152,\n",
       "  139724345315232,\n",
       "  139724345340464,\n",
       "  139724345340544]]"
      ]
     },
     "execution_count": 83,
     "metadata": {},
     "output_type": "execute_result"
    }
   ],
   "source": [
    "list(o.state_dict()['param_groups'][0].values())"
   ]
  },
  {
   "cell_type": "code",
   "execution_count": 42,
   "metadata": {},
   "outputs": [
    {
     "name": "stdout",
     "output_type": "stream",
     "text": [
      "CPU times: user 34.2 ms, sys: 57.2 ms, total: 91.4 ms\n",
      "Wall time: 69 ms\n"
     ]
    },
    {
     "data": {
      "text/plain": [
       "<All keys matched successfully>"
      ]
     },
     "execution_count": 42,
     "metadata": {},
     "output_type": "execute_result"
    }
   ],
   "source": [
    "%%time\n",
    "th.save(m.state_dict(), \"mnist_cnn.pt\")\n",
    "m.load_state_dict(th.load(\"mnist_cnn.pt\"))"
   ]
  },
  {
   "cell_type": "code",
   "execution_count": 43,
   "metadata": {},
   "outputs": [
    {
     "name": "stdout",
     "output_type": "stream",
     "text": [
      "CPU times: user 47.5 ms, sys: 467 ms, total: 514 ms\n",
      "Wall time: 3.76 s\n"
     ]
    }
   ],
   "source": [
    "%%time\n",
    "for i in range(10):\n",
    "    th.save(m.state_dict(), \"mnist_cnn.pt\")"
   ]
  },
  {
   "cell_type": "code",
   "execution_count": 35,
   "metadata": {},
   "outputs": [
    {
     "name": "stdout",
     "output_type": "stream",
     "text": [
      "24.2 ms ± 418 µs per loop (mean ± std. dev. of 7 runs, 10 loops each)\n"
     ]
    }
   ],
   "source": [
    "%%timeit\n",
    "m.load_state_dict(th.load(\"mnist_cnn.pt\"))"
   ]
  },
  {
   "cell_type": "code",
   "execution_count": 52,
   "metadata": {},
   "outputs": [],
   "source": [
    "opt = th.load('../tmp/460_opt.pt')"
   ]
  },
  {
   "cell_type": "code",
   "execution_count": 53,
   "metadata": {},
   "outputs": [
    {
     "name": "stdout",
     "output_type": "stream",
     "text": [
      "[]\n"
     ]
    }
   ],
   "source": [
    "print(opt)"
   ]
  },
  {
   "cell_type": "code",
   "execution_count": 56,
   "metadata": {},
   "outputs": [],
   "source": [
    "from syftutils.multipointer import (\n",
    "    avg_model_state_dicts,\n",
    "    commulative_avg_model_state_dicts,\n",
    ")"
   ]
  },
  {
   "cell_type": "code",
   "execution_count": 61,
   "metadata": {},
   "outputs": [
    {
     "name": "stdout",
     "output_type": "stream",
     "text": [
      "31.6 ms ± 1.09 ms per loop (mean ± std. dev. of 7 runs, 10 loops each)\n"
     ]
    }
   ],
   "source": [
    "%%timeit\n",
    "r = commulative_avg_model_state_dicts(m.state_dict(),m.state_dict(),1)"
   ]
  },
  {
   "cell_type": "code",
   "execution_count": null,
   "metadata": {},
   "outputs": [],
   "source": []
  }
 ],
 "metadata": {
  "kernelspec": {
   "display_name": "Python 3",
   "language": "python",
   "name": "python3"
  },
  "language_info": {
   "codemirror_mode": {
    "name": "ipython",
    "version": 3
   },
   "file_extension": ".py",
   "mimetype": "text/x-python",
   "name": "python",
   "nbconvert_exporter": "python",
   "pygments_lexer": "ipython3",
   "version": "3.7.6"
  }
 },
 "nbformat": 4,
 "nbformat_minor": 4
}
