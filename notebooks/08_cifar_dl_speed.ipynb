{
 "cells": [
  {
   "cell_type": "code",
   "execution_count": 1,
   "metadata": {},
   "outputs": [],
   "source": [
    "import os\n",
    "os.chdir('..')"
   ]
  },
  {
   "cell_type": "code",
   "execution_count": 6,
   "metadata": {},
   "outputs": [],
   "source": [
    "import logging\n",
    "import os\n",
    "import h5py\n",
    "import numpy as np\n",
    "from pathlib import Path\n",
    "from typing import Union, List, Callable\n",
    "\n",
    "import tensorflow as tf\n",
    "import torch as th\n",
    "from torch.utils.data import Dataset\n",
    "\n",
    "\n",
    "class TorchCIFAR100Fed(Dataset):\n",
    "    N_ELEMENTS_PER_CLIENT = 100\n",
    "\n",
    "    def __init__(self, split: Union[str, List[str]], transform: Callable = None):\n",
    "        download_all_data()\n",
    "        self.images, self.labels = get_data(split)\n",
    "        self.transform = transform\n",
    "\n",
    "        if self.transform is not None:\n",
    "            self.images = th.tensor(\n",
    "                np.stack(\n",
    "                    [\n",
    "                        self.transform(self.images[i,])\n",
    "                        for i in range(self.images.shape[0])\n",
    "                    ]\n",
    "                )\n",
    "            )\n",
    "\n",
    "        self.images.cuda()\n",
    "\n",
    "    def __len__(self):\n",
    "        return self.images.shape[0]\n",
    "\n",
    "    def __getitem__(self, idx):\n",
    "        return self.images[idx, ], self.labels[idx, ]\n",
    "\n",
    "\n",
    "def download_all_data():\n",
    "    data_dir = Path(\"data/cifar100fed\")\n",
    "    is_extract = not data_dir.exists()\n",
    "    if not is_extract:\n",
    "        return\n",
    "\n",
    "    logging.info(f\"Data extration: {is_extract} ...\")\n",
    "\n",
    "    path = tf.keras.utils.get_file(\n",
    "        \"fed_cifar100.tar.bz2\",\n",
    "        origin=\"https://storage.googleapis.com/tff-datasets-public/fed_cifar100.tar.bz2\",\n",
    "        file_hash=\"e8575e22c038ecef1ce6c7d492d7abee7da13b1e1ba9b70a7fc18531ba7590de\",\n",
    "        hash_algorithm=\"sha256\",\n",
    "        extract=True,\n",
    "        archive_format=\"tar\",\n",
    "    )\n",
    "    logging.info(f\"Data extrated\")\n",
    "    \n",
    "    dir_path = os.path.dirname(path)\n",
    "\n",
    "    def download_split(data_set):\n",
    "        split_dir = data_dir / data_set\n",
    "        try:\n",
    "            os.makedirs(split_dir)\n",
    "        except FileExistsError:\n",
    "            return\n",
    "        h5 = h5py.File(os.path.join(dir_path, f\"fed_cifar100_{data_set}.h5\"), \"r\")[\n",
    "            \"examples\"\n",
    "        ]\n",
    "\n",
    "        for client_id in h5.keys():\n",
    "            images = []\n",
    "            labels = []\n",
    "            for item_id in range(100):\n",
    "                images.append(h5[client_id][\"image\"][item_id])\n",
    "                labels.append(h5[client_id][\"label\"][item_id])\n",
    "            images = np.stack(images, axis=0)\n",
    "            labels = np.stack(labels, axis=0)\n",
    "            np.save(split_dir / f\"{client_id}_img\", images)\n",
    "            np.save(split_dir / f\"{client_id}_label\", labels)\n",
    "\n",
    "    download_split(\"train\")\n",
    "    download_split(\"test\")\n",
    "\n",
    "\n",
    "def get_data(split):\n",
    "    if isinstance(split, str) and split == \"test\":\n",
    "        data_set = \"test\"\n",
    "        client_ids = [str(i) for i in range(100)]\n",
    "    else:\n",
    "        data_set = \"train\"\n",
    "        client_ids = split\n",
    "\n",
    "    images = []\n",
    "    labels = []\n",
    "    for c in client_ids:\n",
    "        i, l = get_client_data(data_set, c)\n",
    "        images.append(i)\n",
    "        labels.append(l)\n",
    "\n",
    "    return np.concatenate(images), np.concatenate(labels)\n",
    "\n",
    "\n",
    "def get_client_data(data_set, client_id):\n",
    "    data_dir = Path(\"data/cifar100fed\")\n",
    "    split_dir = data_dir / data_set\n",
    "\n",
    "    images = np.load(split_dir / f\"{client_id}_img.npy\")\n",
    "    labels = np.load(split_dir / f\"{client_id}_label.npy\")\n",
    "    return images, labels\n"
   ]
  },
  {
   "cell_type": "code",
   "execution_count": 7,
   "metadata": {},
   "outputs": [],
   "source": [
    "from torchvision import transforms\n",
    "transform = transforms.Compose(\n",
    "    [\n",
    "        transforms.ToTensor(),\n",
    "        transforms.Normalize((0.5, 0.5, 0.5), (0.5, 0.5, 0.5)),\n",
    "    ]\n",
    ")\n",
    "ds = TorchCIFAR100Fed([\"2\"], transform)"
   ]
  },
  {
   "cell_type": "code",
   "execution_count": 11,
   "metadata": {},
   "outputs": [
    {
     "data": {
      "text/plain": [
       "<matplotlib.image.AxesImage at 0x7f23d1b06390>"
      ]
     },
     "execution_count": 11,
     "metadata": {},
     "output_type": "execute_result"
    },
    {
     "data": {
      "image/png": "[encoded data removed]",
      "text/plain": [
       "<Figure size 432x288 with 1 Axes>"
      ]
     },
     "metadata": {
      "needs_background": "light"
     },
     "output_type": "display_data"
    }
   ],
   "source": [
    "import matplotlib.pyplot as plt\n",
    "plt.imshow(ds[0][0][0,])"
   ]
  },
  {
   "cell_type": "code",
   "execution_count": null,
   "metadata": {},
   "outputs": [],
   "source": []
  }
 ],
 "metadata": {
  "kernelspec": {
   "display_name": "Python 3",
   "language": "python",
   "name": "python3"
  },
  "language_info": {
   "codemirror_mode": {
    "name": "ipython",
    "version": 3
   },
   "file_extension": ".py",
   "mimetype": "text/x-python",
   "name": "python",
   "nbconvert_exporter": "python",
   "pygments_lexer": "ipython3",
   "version": "3.7.6"
  }
 },
 "nbformat": 4,
 "nbformat_minor": 4
}
