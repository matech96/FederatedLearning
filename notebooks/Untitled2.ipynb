{
 "cells": [
  {
   "cell_type": "code",
   "execution_count": 1,
   "metadata": {},
   "outputs": [],
   "source": [
    "import os\n",
    "os.chdir('..')"
   ]
  },
  {
   "cell_type": "code",
   "execution_count": 2,
   "metadata": {},
   "outputs": [],
   "source": [
    "# import torch_optimizer as optim\n",
    "\n",
    "from FLF.TorchOptRepo import TorchOptRepo"
   ]
  },
  {
   "cell_type": "code",
   "execution_count": 3,
   "metadata": {},
   "outputs": [
    {
     "data": {
      "text/plain": [
       "['Adadelta',\n",
       " 'Adagrad',\n",
       " 'Adam',\n",
       " 'AdamW',\n",
       " 'Adamax',\n",
       " 'ASGD',\n",
       " 'SGD',\n",
       " 'Rprop',\n",
       " 'RMSprop',\n",
       " 'Ranger',\n",
       " 'RangerVA',\n",
       " 'RangerQH',\n",
       " 'AccSGD',\n",
       " 'AdaBound',\n",
       " 'AdaMod',\n",
       " 'AdamP',\n",
       " 'AggMo',\n",
       " 'DiffGrad',\n",
       " 'Lamb',\n",
       " 'Lookahead',\n",
       " 'NovoGrad',\n",
       " 'PID',\n",
       " 'QHAdam',\n",
       " 'QHM',\n",
       " 'RAdam',\n",
       " 'SGDP',\n",
       " 'SGDW',\n",
       " 'Shampoo',\n",
       " 'Yogi']"
      ]
     },
     "execution_count": 3,
     "metadata": {},
     "output_type": "execute_result"
    }
   ],
   "source": [
    "TorchOptRepo.get_opt_names()"
   ]
  },
  {
   "cell_type": "code",
   "execution_count": null,
   "metadata": {},
   "outputs": [],
   "source": []
  }
 ],
 "metadata": {
  "kernelspec": {
   "display_name": "Python 3",
   "language": "python",
   "name": "python3"
  },
  "language_info": {
   "codemirror_mode": {
    "name": "ipython",
    "version": 3
   },
   "file_extension": ".py",
   "mimetype": "text/x-python",
   "name": "python",
   "nbconvert_exporter": "python",
   "pygments_lexer": "ipython3",
   "version": "3.7.6"
  }
 },
 "nbformat": 4,
 "nbformat_minor": 4
}
