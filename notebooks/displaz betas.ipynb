{
 "cells": [
  {
   "cell_type": "code",
   "execution_count": 1,
   "metadata": {},
   "outputs": [],
   "source": [
    "import os\n",
    "os.chdir('..')"
   ]
  },
  {
   "cell_type": "code",
   "execution_count": 31,
   "metadata": {},
   "outputs": [],
   "source": [
    "from comet_ml import Experiment\n",
    "import logging\n",
    "from FLF.TorchFederatedLearnerCIFAR100 import (\n",
    "    TorchFederatedLearnerCIFAR100,\n",
    "    TorchFederatedLearnerCIFAR100Config,\n",
    ")\n",
    "\n",
    "logging.basicConfig(\n",
    "    format=\"%(asctime)s %(levelname)-8s %(message)s\",\n",
    "    level=logging.INFO,\n",
    "    datefmt=\"%Y-%m-%d %H:%M:%S\",\n",
    ")\n",
    "\n",
    "project_name = \"server-side-opt-long\"\n",
    "\n",
    "max_rounds = 1500\n",
    "C = 10 / 500\n",
    "NC = 500\n",
    "E = 1\n",
    "B = 20\n",
    "is_iid = False\n",
    "server_opt = \"Adam\"\n",
    "client_opt = \"SGD\"\n",
    "client_opt_strategy = \"reinit\"\n",
    "configs = []\n",
    "\n",
    "for server_lr, client_lr in [\n",
    "    (0.001, 0.001),\n",
    "]:\n",
    "    # TODO a paraméterek helytelen nevére nem adott hibát\n",
    "    config = TorchFederatedLearnerCIFAR100Config(\n",
    "        CLIENT_LEARNING_RATE=client_lr,\n",
    "        CLIENT_OPT=client_opt,\n",
    "        CLIENT_OPT_STRATEGY=client_opt_strategy,\n",
    "        SERVER_OPT=server_opt,\n",
    "        SERVER_OPT_ARGS={\"betas\": (0.0, 0.999)},\n",
    "        SERVER_LEARNING_RATE=server_lr,\n",
    "        IS_IID_DATA=is_iid,\n",
    "        BATCH_SIZE=B,\n",
    "        CLIENT_FRACTION=C,\n",
    "        N_CLIENTS=NC,\n",
    "        N_EPOCH_PER_CLIENT=E,\n",
    "        MAX_ROUNDS=max_rounds,\n",
    "        DL_N_WORKER=0,\n",
    "    )\n",
    "    configs.append(config)"
   ]
  },
  {
   "cell_type": "code",
   "execution_count": 56,
   "metadata": {},
   "outputs": [],
   "source": [
    "from copy import copy\n",
    "config = configs[0]\n",
    "res = copy(config.__dict__)\n",
    "to_flatten = [k for k in res.keys() if k.endswith('_ARGS')]"
   ]
  },
  {
   "cell_type": "code",
   "execution_count": 57,
   "metadata": {},
   "outputs": [],
   "source": [
    "for k in to_flatten:\n",
    "    poped = res.pop(k)\n",
    "    for pk, pv in poped.items():\n",
    "        new_key = f'{k[:-5]}_{pk}'.upper()\n",
    "        if len(pv) == 0:\n",
    "            res[new_key] = pv\n",
    "        else:\n",
    "            for i, pvi in enumerate(pv):\n",
    "                res[f'{new_key}_{i}'] = pvi"
   ]
  },
  {
   "cell_type": "code",
   "execution_count": 58,
   "metadata": {},
   "outputs": [
    {
     "data": {
      "text/plain": [
       "{'TARGET_ACC': 0.99,\n",
       " 'MAX_ROUNDS': 1500,\n",
       " 'N_CLIENTS': 500,\n",
       " 'CLIENT_FRACTION': 0.02,\n",
       " 'N_EPOCH_PER_CLIENT': 1,\n",
       " 'BATCH_SIZE': 20,\n",
       " 'CLIENT_LEARNING_RATE': 0.001,\n",
       " 'SERVER_LEARNING_RATE': 0.001,\n",
       " 'DL_N_WORKER': 0,\n",
       " 'SEED': None,\n",
       " 'CLIENT_OPT': 'SGD',\n",
       " 'CLIENT_OPT_STRATEGY': 'reinit',\n",
       " 'SERVER_OPT': 'Adam',\n",
       " 'IS_IID_DATA': False,\n",
       " 'SERVER_OPT_BETAS_0': 0.0,\n",
       " 'SERVER_OPT_BETAS_1': 0.999}"
      ]
     },
     "execution_count": 58,
     "metadata": {},
     "output_type": "execute_result"
    }
   ],
   "source": [
    "res"
   ]
  },
  {
   "cell_type": "code",
   "execution_count": null,
   "metadata": {},
   "outputs": [],
   "source": []
  }
 ],
 "metadata": {
  "kernelspec": {
   "display_name": "Python 3",
   "language": "python",
   "name": "python3"
  },
  "language_info": {
   "codemirror_mode": {
    "name": "ipython",
    "version": 3
   },
   "file_extension": ".py",
   "mimetype": "text/x-python",
   "name": "python",
   "nbconvert_exporter": "python",
   "pygments_lexer": "ipython3",
   "version": "3.7.6"
  }
 },
 "nbformat": 4,
 "nbformat_minor": 4
}
