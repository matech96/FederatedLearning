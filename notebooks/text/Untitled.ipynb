{
 "cells": [
  {
   "cell_type": "code",
   "execution_count": 1,
   "metadata": {
    "ExecuteTime": {
     "end_time": "2021-02-02T09:50:37.181124Z",
     "start_time": "2021-02-02T09:50:37.179060Z"
    }
   },
   "outputs": [],
   "source": [
    "import os\n",
    "os.chdir('../..')"
   ]
  },
  {
   "cell_type": "code",
   "execution_count": 3,
   "metadata": {
    "ExecuteTime": {
     "end_time": "2021-02-02T09:51:34.207790Z",
     "start_time": "2021-02-02T09:51:32.781312Z"
    }
   },
   "outputs": [],
   "source": [
    "import torch as th\n",
    "import tensorflow as tf"
   ]
  },
  {
   "cell_type": "code",
   "execution_count": null,
   "metadata": {
    "ExecuteTime": {
     "start_time": "2021-02-02T09:52:42.951Z"
    }
   },
   "outputs": [
    {
     "name": "stdout",
     "output_type": "stream",
     "text": [
      "Downloading data from https://storage.googleapis.com/tff-datasets-public/stackoverflow.tar.bz2\n",
      "9076670464/9076663578 [==============================] - 307s 0us/step\n"
     ]
    }
   ],
   "source": [
    "path = tf.keras.utils.get_file(\n",
    "  'stackoverflow.tar.bz2',\n",
    "  origin='https://storage.googleapis.com/tff-datasets-public/stackoverflow.tar.bz2',\n",
    "  file_hash='99eca2f8b8327a09e5fc123979df2d237acbc5e52322f6d86bf523ee47b961a2',\n",
    "  hash_algorithm='sha256',\n",
    "  extract=True,\n",
    "  archive_format='tar')\n",
    "\n",
    "dir_path = os.path.dirname(path)\n",
    "train_client_data = hdf5_client_data.HDF5ClientData(\n",
    "  os.path.join(dir_path, 'stackoverflow_train.h5'))\n",
    "held_out_client_data = hdf5_client_data.HDF5ClientData(\n",
    "  os.path.join(dir_path, 'stackoverflow_held_out.h5'))\n",
    "test_client_data = hdf5_client_data.HDF5ClientData(\n",
    "  os.path.join(dir_path, 'stackoverflow_test.h5'))"
   ]
  },
  {
   "cell_type": "code",
   "execution_count": null,
   "metadata": {},
   "outputs": [],
   "source": []
  }
 ],
 "metadata": {
  "kernelspec": {
   "display_name": "Python 3",
   "language": "python",
   "name": "python3"
  },
  "language_info": {
   "codemirror_mode": {
    "name": "ipython",
    "version": 3
   },
   "file_extension": ".py",
   "mimetype": "text/x-python",
   "name": "python",
   "nbconvert_exporter": "python",
   "pygments_lexer": "ipython3",
   "version": "3.7.6"
  },
  "toc": {
   "base_numbering": 1,
   "nav_menu": {},
   "number_sections": false,
   "sideBar": true,
   "skip_h1_title": false,
   "title_cell": "Table of Contents",
   "title_sidebar": "Contents",
   "toc_cell": false,
   "toc_position": {},
   "toc_section_display": true,
   "toc_window_display": false
  }
 },
 "nbformat": 4,
 "nbformat_minor": 4
}
