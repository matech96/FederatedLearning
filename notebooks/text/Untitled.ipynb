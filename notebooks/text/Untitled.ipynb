{
 "cells": [
  {
   "cell_type": "code",
   "execution_count": 1,
   "metadata": {
    "ExecuteTime": {
     "end_time": "2021-02-02T09:50:37.181124Z",
     "start_time": "2021-02-02T09:50:37.179060Z"
    }
   },
   "outputs": [],
   "source": [
    "import os\n",
    "os.chdir('../..')"
   ]
  },
  {
   "cell_type": "code",
   "execution_count": 9,
   "metadata": {
    "ExecuteTime": {
     "end_time": "2021-02-02T09:51:34.207790Z",
     "start_time": "2021-02-02T09:51:32.781312Z"
    }
   },
   "outputs": [],
   "source": [
    "import h5py\n",
    "\n",
    "import torch as th\n",
    "import tensorflow as tf\n",
    "\n",
    "from tensorflow_federated.python.simulation import hdf5_client_data"
   ]
  },
  {
   "cell_type": "code",
   "execution_count": 5,
   "metadata": {
    "ExecuteTime": {
     "start_time": "2021-02-02T09:52:42.951Z"
    }
   },
   "outputs": [
    {
     "name": "stdout",
     "output_type": "stream",
     "text": [
      "Downloading data from https://storage.googleapis.com/tff-datasets-public/stackoverflow.tar.bz2\n",
      "9076670464/9076663578 [==============================] - 263s 0us/step\n"
     ]
    },
    {
     "name": "stderr",
     "output_type": "stream",
     "text": [
      "/opt/conda/lib/python3.7/site-packages/h5py/_hl/dataset.py:313: H5pyDeprecationWarning: dataset.value has been deprecated. Use dataset[()] instead.\n",
      "  \"Use dataset[()] instead.\", H5pyDeprecationWarning)\n"
     ]
    }
   ],
   "source": [
    "path = tf.keras.utils.get_file(\n",
    "  'stackoverflow.tar.bz2',\n",
    "  origin='https://storage.googleapis.com/tff-datasets-public/stackoverflow.tar.bz2',\n",
    "  file_hash='99eca2f8b8327a09e5fc123979df2d237acbc5e52322f6d86bf523ee47b961a2',\n",
    "  hash_algorithm='sha256',\n",
    "  extract=True,\n",
    "  archive_format='tar')\n",
    "\n",
    "# dir_path = os.path.dirname(path)\n",
    "# train_client_data = hdf5_client_data.HDF5ClientData(\n",
    "#   os.path.join(dir_path, 'stackoverflow_train.h5'))\n",
    "# held_out_client_data = hdf5_client_data.HDF5ClientData(\n",
    "#   os.path.join(dir_path, 'stackoverflow_held_out.h5'))\n",
    "# test_client_data = hdf5_client_data.HDF5ClientData(\n",
    "#   os.path.join(dir_path, 'stackoverflow_test.h5'))"
   ]
  },
  {
   "cell_type": "code",
   "execution_count": 15,
   "metadata": {},
   "outputs": [],
   "source": [
    "dir_path = os.path.dirname(path)\n",
    "data_set = 'train'\n",
    "h5 = h5py.File(os.path.join(dir_path, f\"stackoverflow_{data_set}.h5\"), \"r\")[\"examples\"]\n",
    "\n",
    "#     for client_id in h5.keys():\n",
    "#         images = np.expand_dims(h5[client_id][\"pixels\"], axis=1)\n",
    "#         labels = np.array(h5[client_id][\"label\"])\n",
    "#         np.save(split_dir / f\"{client_id}_img\", images)\n",
    "#         np.save(split_dir / f\"{client_id}_label\", labels)"
   ]
  },
  {
   "cell_type": "code",
   "execution_count": 32,
   "metadata": {},
   "outputs": [
    {
     "data": {
      "text/plain": [
       "342477"
      ]
     },
     "execution_count": 32,
     "metadata": {},
     "output_type": "execute_result"
    }
   ],
   "source": [
    "len(h5.keys())"
   ]
  },
  {
   "cell_type": "code",
   "execution_count": 21,
   "metadata": {},
   "outputs": [],
   "source": [
    "client_id = list(h5.keys())[0]"
   ]
  },
  {
   "cell_type": "code",
   "execution_count": 26,
   "metadata": {},
   "outputs": [
    {
     "data": {
      "text/plain": [
       "<KeysViewHDF5 ['creation_date', 'score', 'tags', 'title', 'tokens', 'type']>"
      ]
     },
     "execution_count": 26,
     "metadata": {},
     "output_type": "execute_result"
    }
   ],
   "source": [
    "h5[client_id].keys()"
   ]
  },
  {
   "cell_type": "code",
   "execution_count": 28,
   "metadata": {},
   "outputs": [
    {
     "data": {
      "text/plain": [
       "h5py._hl.dataset.Dataset"
      ]
     },
     "execution_count": 28,
     "metadata": {},
     "output_type": "execute_result"
    }
   ],
   "source": [
    "type(h5[client_id]['type'])"
   ]
  },
  {
   "cell_type": "code",
   "execution_count": 38,
   "metadata": {},
   "outputs": [
    {
     "data": {
      "text/plain": [
       "numpy.bytes_"
      ]
     },
     "execution_count": 38,
     "metadata": {},
     "output_type": "execute_result"
    }
   ],
   "source": [
    "type(np.array(h5[client_id]['tags'])[0])"
   ]
  }
 ],
 "metadata": {
  "kernelspec": {
   "display_name": "Python 3",
   "language": "python",
   "name": "python3"
  },
  "language_info": {
   "codemirror_mode": {
    "name": "ipython",
    "version": 3
   },
   "file_extension": ".py",
   "mimetype": "text/x-python",
   "name": "python",
   "nbconvert_exporter": "python",
   "pygments_lexer": "ipython3",
   "version": "3.7.6"
  },
  "toc": {
   "base_numbering": 1,
   "nav_menu": {},
   "number_sections": false,
   "sideBar": true,
   "skip_h1_title": false,
   "title_cell": "Table of Contents",
   "title_sidebar": "Contents",
   "toc_cell": false,
   "toc_position": {},
   "toc_section_display": true,
   "toc_window_display": false
  }
 },
 "nbformat": 4,
 "nbformat_minor": 4
}
