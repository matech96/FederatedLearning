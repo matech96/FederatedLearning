{
 "cells": [
  {
   "cell_type": "code",
   "execution_count": 2,
   "metadata": {},
   "outputs": [],
   "source": [
    "import os\n",
    "os.chdir('..')"
   ]
  },
  {
   "cell_type": "code",
   "execution_count": null,
   "metadata": {},
   "outputs": [],
   "source": [
    "import torch as th"
   ]
  },
  {
   "cell_type": "code",
   "execution_count": null,
   "metadata": {},
   "outputs": [],
   "source": [
    "len(th.optim.Optimizer.__subclasses__())"
   ]
  },
  {
   "cell_type": "code",
   "execution_count": null,
   "metadata": {},
   "outputs": [],
   "source": [
    "def all_subclasses(cls):\n",
    "    return set(cls.__subclasses__()).union(\n",
    "        [s for c in cls.__subclasses__() for s in all_subclasses(c)])"
   ]
  },
  {
   "cell_type": "code",
   "execution_count": null,
   "metadata": {},
   "outputs": [],
   "source": [
    "len(all_subclasses(th.optim.Optimizer))"
   ]
  },
  {
   "cell_type": "code",
   "execution_count": null,
   "metadata": {},
   "outputs": [],
   "source": [
    "from FLF.TorchOptRepo import TorchOptRepo"
   ]
  },
  {
   "cell_type": "code",
   "execution_count": null,
   "metadata": {},
   "outputs": [],
   "source": [
    "{opt: TorchOptRepo.supported_parameters(opt) for opt in TorchOptRepo.get_opt_names()}"
   ]
  },
  {
   "cell_type": "code",
   "execution_count": null,
   "metadata": {},
   "outputs": [],
   "source": [
    "from FLF.TorchFederatedLearnerMNIST import Net"
   ]
  },
  {
   "cell_type": "code",
   "execution_count": null,
   "metadata": {},
   "outputs": [],
   "source": [
    "model = Net()"
   ]
  },
  {
   "cell_type": "code",
   "execution_count": null,
   "metadata": {},
   "outputs": [],
   "source": [
    "opt = TorchOptRepo.name2cls('Adam')(model.parameters())"
   ]
  },
  {
   "cell_type": "code",
   "execution_count": null,
   "metadata": {},
   "outputs": [],
   "source": [
    "dir(opt)"
   ]
  },
  {
   "cell_type": "code",
   "execution_count": null,
   "metadata": {},
   "outputs": [],
   "source": [
    "from comet_ml import Experiment\n",
    "import logging\n",
    "from FLF.TorchFederatedLearnerMNIST import (\n",
    "    TorchFederatedLearnerMNIST,\n",
    "    TorchFederatedLearnerMNISTConfig,\n",
    ")\n",
    "from FLF.TorchOptRepo import TorchOptRepo\n",
    "\n",
    "logging.basicConfig(\n",
    "    format=\"%(asctime)s %(levelname)-8s %(message)s\",\n",
    "    level=logging.INFO,\n",
    "    datefmt=\"%Y-%m-%d %H:%M:%S\",\n",
    ")\n",
    "\n",
    "\n",
    "def train_fakes(opt):\n",
    "    C = 1\n",
    "    NC = 2\n",
    "    E = 1\n",
    "    B = 50\n",
    "    is_iid = False\n",
    "    lr = 0.000001\n",
    "    name = f\"fake\"\n",
    "\n",
    "    logging.info(name)\n",
    "    experiment = Experiment(workspace=\"federated-learning\", project_name=\"2C_opt\")\n",
    "    experiment.set_name(name)\n",
    "    experiment.log_parameter(\"opt_srategy\", \"reinit\")\n",
    "    # TODO a paraméterek helytelen nevére nem adott hibát\n",
    "    config = TorchFederatedLearnerMNISTConfig(\n",
    "        LEARNING_RATE=lr,\n",
    "        OPT=opt,\n",
    "        IS_IID_DATA=is_iid,\n",
    "        BATCH_SIZE=B,\n",
    "        CLIENT_FRACTION=C,\n",
    "        N_CLIENTS=NC,\n",
    "        N_EPOCH_PER_CLIENT=E,\n",
    "        MAX_ROUNDS=1,\n",
    "    )\n",
    "    learner = TorchFederatedLearnerMNIST(experiment, config)\n",
    "    learner.train()\n",
    "    return learner\n",
    "\n",
    "learners = {opt: train_fakes(opt) for opt in TorchOptRepo.get_opt_names()}"
   ]
  },
  {
   "cell_type": "code",
   "execution_count": null,
   "metadata": {},
   "outputs": [],
   "source": [
    "learner.clients[0].opt.state_dict()['state']"
   ]
  },
  {
   "cell_type": "code",
   "execution_count": 99,
   "metadata": {},
   "outputs": [
    {
     "data": {
      "text/plain": [
       "{'Adadelta': dict_keys([140520088536160, 140520088536000, 140520091289872, 140520088538400, 140522572013072, 140520088134832, 140520088555024, 140520088555264]),\n",
       " 'Adagrad': dict_keys([140520087621296, 140520087617936, 140520087738640, 140520088029296, 140520088029856, 140520088030976, 140520088028656, 140520088030816]),\n",
       " 'Adam': dict_keys([140520058870272, 140520058870832, 140520058867872, 140520058870352, 140520058868592, 140520058871312, 140521900644224, 140520058828832]),\n",
       " 'AdamW': dict_keys([140520059851472, 140520059853952, 140520059853232, 140520086758576, 140520058892768, 140520086758656, 140520086758176, 140520086757616]),\n",
       " 'Adamax': dict_keys([140520058819040, 140520058822560, 140520058820080, 140520058820400, 140520058820880, 140520058941680, 140520088252000, 140520088248800]),\n",
       " 'ASGD': dict_keys([140520058016384, 140520058017184, 140520058016784, 140520058016304, 140520058017344, 140520058017264, 140520059203904, 140520058469424]),\n",
       " 'SGD': dict_keys([]),\n",
       " 'Rprop': dict_keys([140520058128176, 140520058140864, 140520058142144, 140520058140944, 140520087762256, 140520087761456, 140520058311216, 140519453836224]),\n",
       " 'RMSprop': dict_keys([140520058056784, 140520058142384, 140520058140784, 140520058141424, 140520058037344, 140520058077264, 140520058019584, 140520058018304])}"
      ]
     },
     "execution_count": 99,
     "metadata": {},
     "output_type": "execute_result"
    }
   ],
   "source": [
    "{opt: learner.clients[0].opt.state_dict()['state'].keys() for opt, learner in learners.items()}#, learners['SGD'].clients[1].opt.state_dict()"
   ]
  },
  {
   "cell_type": "code",
   "execution_count": null,
   "metadata": {},
   "outputs": [],
   "source": []
  },
  {
   "cell_type": "code",
   "execution_count": 98,
   "metadata": {},
   "outputs": [
    {
     "data": {
      "text/plain": [
       "{'Adadelta': [{'lr': 1e-06,\n",
       "   'rho': 0.9,\n",
       "   'eps': 1e-06,\n",
       "   'weight_decay': 0,\n",
       "   'params': [140520088536160,\n",
       "    140520088536000,\n",
       "    140520091289872,\n",
       "    140520088538400,\n",
       "    140522572013072,\n",
       "    140520088134832,\n",
       "    140520088555024,\n",
       "    140520088555264]}],\n",
       " 'Adagrad': [{'lr': 1e-06,\n",
       "   'lr_decay': 0,\n",
       "   'eps': 1e-10,\n",
       "   'weight_decay': 0,\n",
       "   'initial_accumulator_value': 0,\n",
       "   'params': [140520087621296,\n",
       "    140520087617936,\n",
       "    140520087738640,\n",
       "    140520088029296,\n",
       "    140520088029856,\n",
       "    140520088030976,\n",
       "    140520088028656,\n",
       "    140520088030816]}],\n",
       " 'Adam': [{'lr': 1e-06,\n",
       "   'betas': (0.9, 0.999),\n",
       "   'eps': 1e-08,\n",
       "   'weight_decay': 0,\n",
       "   'amsgrad': False,\n",
       "   'params': [140520058870272,\n",
       "    140520058870832,\n",
       "    140520058867872,\n",
       "    140520058870352,\n",
       "    140520058868592,\n",
       "    140520058871312,\n",
       "    140521900644224,\n",
       "    140520058828832]}],\n",
       " 'AdamW': [{'lr': 1e-06,\n",
       "   'betas': (0.9, 0.999),\n",
       "   'eps': 1e-08,\n",
       "   'weight_decay': 0.01,\n",
       "   'amsgrad': False,\n",
       "   'params': [140520059851472,\n",
       "    140520059853952,\n",
       "    140520059853232,\n",
       "    140520086758576,\n",
       "    140520058892768,\n",
       "    140520086758656,\n",
       "    140520086758176,\n",
       "    140520086757616]}],\n",
       " 'Adamax': [{'lr': 1e-06,\n",
       "   'betas': (0.9, 0.999),\n",
       "   'eps': 1e-08,\n",
       "   'weight_decay': 0,\n",
       "   'params': [140520058819040,\n",
       "    140520058822560,\n",
       "    140520058820080,\n",
       "    140520058820400,\n",
       "    140520058820880,\n",
       "    140520058941680,\n",
       "    140520088252000,\n",
       "    140520088248800]}],\n",
       " 'ASGD': [{'lr': 1e-06,\n",
       "   'lambd': 0.0001,\n",
       "   'alpha': 0.75,\n",
       "   't0': 1000000.0,\n",
       "   'weight_decay': 0,\n",
       "   'params': [140520058016384,\n",
       "    140520058017184,\n",
       "    140520058016784,\n",
       "    140520058016304,\n",
       "    140520058017344,\n",
       "    140520058017264,\n",
       "    140520059203904,\n",
       "    140520058469424]}],\n",
       " 'SGD': [{'lr': 1e-06,\n",
       "   'momentum': 0,\n",
       "   'dampening': 0,\n",
       "   'weight_decay': 0,\n",
       "   'nesterov': False,\n",
       "   'params': [140520058402608,\n",
       "    140520058388560,\n",
       "    140520058392240,\n",
       "    140520058391840,\n",
       "    140520058390160,\n",
       "    140520058389600,\n",
       "    140520058724752,\n",
       "    140520058725232]}],\n",
       " 'Rprop': [{'lr': 1e-06,\n",
       "   'etas': (0.5, 1.2),\n",
       "   'step_sizes': (1e-06, 50),\n",
       "   'params': [140520058128176,\n",
       "    140520058140864,\n",
       "    140520058142144,\n",
       "    140520058140944,\n",
       "    140520087762256,\n",
       "    140520087761456,\n",
       "    140520058311216,\n",
       "    140519453836224]}],\n",
       " 'RMSprop': [{'lr': 1e-06,\n",
       "   'momentum': 0,\n",
       "   'alpha': 0.99,\n",
       "   'eps': 1e-08,\n",
       "   'centered': False,\n",
       "   'weight_decay': 0,\n",
       "   'params': [140520058056784,\n",
       "    140520058142384,\n",
       "    140520058140784,\n",
       "    140520058141424,\n",
       "    140520058037344,\n",
       "    140520058077264,\n",
       "    140520058019584,\n",
       "    140520058018304]}]}"
      ]
     },
     "execution_count": 98,
     "metadata": {},
     "output_type": "execute_result"
    }
   ],
   "source": [
    "{opt: learner.clients[0].opt.state_dict()['param_groups'] for opt, learner in learners.items()}#, learners['SGD'].clients[1].opt.state_dict()"
   ]
  },
  {
   "cell_type": "code",
   "execution_count": 81,
   "metadata": {},
   "outputs": [
    {
     "data": {
      "text/plain": [
       "([140520058870272,\n",
       "  140520058870832,\n",
       "  140520058867872,\n",
       "  140520058870352,\n",
       "  140520058868592,\n",
       "  140520058871312,\n",
       "  140521900644224,\n",
       "  140520058828832],\n",
       " [140520087972752,\n",
       "  140520089115616,\n",
       "  140520089115216,\n",
       "  140520464606944,\n",
       "  140520087751888,\n",
       "  140520087748688,\n",
       "  140520087751408,\n",
       "  140520087749328])"
      ]
     },
     "execution_count": 81,
     "metadata": {},
     "output_type": "execute_result"
    }
   ],
   "source": [
    "[id(x) for x in learners['Adam'].clients[0].model.parameters()]#, [id(x) for x in learners['Adam'].clients[1].model.parameters()]"
   ]
  },
  {
   "cell_type": "code",
   "execution_count": 80,
   "metadata": {},
   "outputs": [
    {
     "data": {
      "text/plain": [
       "([torch.Size([32, 1, 5, 5]),\n",
       "  torch.Size([32]),\n",
       "  torch.Size([64, 32, 5, 5]),\n",
       "  torch.Size([64]),\n",
       "  torch.Size([512, 1024]),\n",
       "  torch.Size([512]),\n",
       "  torch.Size([10, 512]),\n",
       "  torch.Size([10])],\n",
       " [torch.Size([32, 1, 5, 5]),\n",
       "  torch.Size([32]),\n",
       "  torch.Size([64, 32, 5, 5]),\n",
       "  torch.Size([64]),\n",
       "  torch.Size([512, 1024]),\n",
       "  torch.Size([512]),\n",
       "  torch.Size([10, 512]),\n",
       "  torch.Size([10])])"
      ]
     },
     "execution_count": 80,
     "metadata": {},
     "output_type": "execute_result"
    }
   ],
   "source": [
    "[x.shape for x in learners['Adam'].clients[0].model.state_dict().values()], [x.shape for x in learners['Adam'].clients[1].model.state_dict().values()]"
   ]
  }
 ],
 "metadata": {
  "kernelspec": {
   "display_name": "Python 3",
   "language": "python",
   "name": "python3"
  },
  "language_info": {
   "codemirror_mode": {
    "name": "ipython",
    "version": 3
   },
   "file_extension": ".py",
   "mimetype": "text/x-python",
   "name": "python",
   "nbconvert_exporter": "python",
   "pygments_lexer": "ipython3",
   "version": "3.7.6"
  }
 },
 "nbformat": 4,
 "nbformat_minor": 4
}
