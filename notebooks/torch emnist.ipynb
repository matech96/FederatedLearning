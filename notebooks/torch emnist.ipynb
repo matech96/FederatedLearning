{
 "cells": [
  {
   "cell_type": "code",
   "execution_count": null,
   "metadata": {},
   "outputs": [],
   "source": [
    "import os\n",
    "os.chdir('..')"
   ]
  },
  {
   "cell_type": "code",
   "execution_count": null,
   "metadata": {},
   "outputs": [],
   "source": [
    "from torchvision.datasets import EMNIST"
   ]
  },
  {
   "cell_type": "code",
   "execution_count": null,
   "metadata": {},
   "outputs": [],
   "source": [
    "digits_train_ds = EMNIST(root=\"../data\", split='byclass', train=True, download=True)"
   ]
  },
  {
   "cell_type": "code",
   "execution_count": null,
   "metadata": {},
   "outputs": [],
   "source": []
  },
  {
   "cell_type": "code",
   "execution_count": null,
   "metadata": {},
   "outputs": [],
   "source": [
    "digits_train_ds, next(next(iter(digits_train_ds)))"
   ]
  },
  {
   "cell_type": "code",
   "execution_count": null,
   "metadata": {},
   "outputs": [],
   "source": [
    "digits_train_ds.class_to_idx"
   ]
  },
  {
   "cell_type": "code",
   "execution_count": null,
   "metadata": {},
   "outputs": [],
   "source": [
    "import tensorflow_federated as tff\n",
    "from pathlib import Path\n",
    "import numpy as np\n",
    "from tqdm import tqdm\n",
    "import matplotlib.pyplot as plt"
   ]
  },
  {
   "cell_type": "code",
   "execution_count": null,
   "metadata": {},
   "outputs": [],
   "source": []
  },
  {
   "cell_type": "code",
   "execution_count": null,
   "metadata": {},
   "outputs": [],
   "source": [
    "tf_ds = emnist_train.create_tf_dataset_for_client(emnist_train.client_ids[0])"
   ]
  },
  {
   "cell_type": "code",
   "execution_count": null,
   "metadata": {},
   "outputs": [],
   "source": [
    "lens = [len(list(emnist_train.create_tf_dataset_for_client(client_id).as_numpy_iterator())) for client_id in emnist_train.client_ids]"
   ]
  },
  {
   "cell_type": "code",
   "execution_count": null,
   "metadata": {},
   "outputs": [],
   "source": [
    "sum(lens)"
   ]
  },
  {
   "cell_type": "code",
   "execution_count": null,
   "metadata": {},
   "outputs": [],
   "source": [
    "lens_test = [len(list(emnist_test.create_tf_dataset_for_client(client_id).as_numpy_iterator())) for client_id in emnist_test.client_ids]"
   ]
  },
  {
   "cell_type": "code",
   "execution_count": null,
   "metadata": {},
   "outputs": [],
   "source": [
    "sum(lens_test)"
   ]
  },
  {
   "cell_type": "code",
   "execution_count": null,
   "metadata": {},
   "outputs": [],
   "source": [
    "def process_emnist_tff_set(emnist, base_dir):\n",
    "    try:\n",
    "        os.makedirs(base_dir)\n",
    "    except OSError:\n",
    "        return\n",
    "    \n",
    "    for client_id in tqdm(emnist.client_ids):\n",
    "        tf_ds = emnist.create_tf_dataset_for_client(client_id)\n",
    "        x = [np.expand_dims(x['pixels'], axis=0) for x in tf_ds.as_numpy_iterator()]\n",
    "        x = np.stack(x)\n",
    "        y = [np.expand_dims(x['label'], axis=0) for x in tf_ds.as_numpy_iterator()]\n",
    "        y = np.stack(y)\n",
    "        np.save(base_dir / client_id, {'x': x, 'y': y})"
   ]
  },
  {
   "cell_type": "code",
   "execution_count": null,
   "metadata": {},
   "outputs": [],
   "source": [
    "base_dir = Path('data')\n",
    "emnist_train, emnist_test = tff.simulation.datasets.emnist.load_data()\n",
    "process_emnist_tff_set(emnist_train, base_dir / 'train')\n",
    "process_emnist_tff_set(emnist_test, base_dir / 'test')"
   ]
  },
  {
   "cell_type": "code",
   "execution_count": null,
   "metadata": {},
   "outputs": [],
   "source": [
    "try:\n",
    "    os.makedirs(base_dir / 'train', exist_ok=False)\n",
    "except OSError:\n",
    "    print('it is here')"
   ]
  },
  {
   "cell_type": "code",
   "execution_count": null,
   "metadata": {},
   "outputs": [],
   "source": []
  },
  {
   "cell_type": "code",
   "execution_count": null,
   "metadata": {},
   "outputs": [],
   "source": []
  },
  {
   "cell_type": "code",
   "execution_count": null,
   "metadata": {},
   "outputs": [],
   "source": []
  },
  {
   "cell_type": "code",
   "execution_count": null,
   "metadata": {},
   "outputs": [],
   "source": [
    "import torch as th"
   ]
  },
  {
   "cell_type": "code",
   "execution_count": null,
   "metadata": {},
   "outputs": [],
   "source": [
    "len(th.optim.Optimizer.__subclasses__())"
   ]
  },
  {
   "cell_type": "code",
   "execution_count": null,
   "metadata": {},
   "outputs": [],
   "source": [
    "def all_subclasses(cls):\n",
    "    return set(cls.__subclasses__()).union(\n",
    "        [s for c in cls.__subclasses__() for s in all_subclasses(c)])"
   ]
  },
  {
   "cell_type": "code",
   "execution_count": null,
   "metadata": {},
   "outputs": [],
   "source": [
    "len(all_subclasses(th.optim.Optimizer))"
   ]
  },
  {
   "cell_type": "code",
   "execution_count": null,
   "metadata": {},
   "outputs": [],
   "source": [
    "list(map(lambda x: x.__name__, th.optim.Optimizer.__subclasses__()))"
   ]
  },
  {
   "cell_type": "code",
   "execution_count": null,
   "metadata": {},
   "outputs": [],
   "source": [
    "repo = {x.__name__: x for x in th.optim.Optimizer.__subclasses__()}\n",
    "list(repo.keys())"
   ]
  },
  {
   "cell_type": "code",
   "execution_count": null,
   "metadata": {},
   "outputs": [],
   "source": [
    "l = list(th.optim.Adam.__init__.__code__.co_varnames)\n",
    "l.remove('defaults')\n",
    "l.remove('self')\n",
    "l"
   ]
  },
  {
   "cell_type": "code",
   "execution_count": 1,
   "metadata": {},
   "outputs": [],
   "source": [
    "import os\n",
    "os.chdir('..')\n",
    "from FLF.TorchOptRepo import TorchOptRepo"
   ]
  },
  {
   "cell_type": "code",
   "execution_count": 2,
   "metadata": {},
   "outputs": [
    {
     "data": {
      "text/plain": [
       "{'Adadelta': ['lr', 'rho', 'eps', 'weight_decay'],\n",
       " 'Adagrad': ['lr',\n",
       "  'lr_decay',\n",
       "  'weight_decay',\n",
       "  'initial_accumulator_value',\n",
       "  'eps',\n",
       "  'group',\n",
       "  'p',\n",
       "  'state'],\n",
       " 'Adam': ['lr', 'betas', 'eps', 'weight_decay', 'amsgrad'],\n",
       " 'AdamW': ['lr', 'betas', 'eps', 'weight_decay', 'amsgrad'],\n",
       " 'SparseAdam': ['lr', 'betas', 'eps'],\n",
       " 'Adamax': ['lr', 'betas', 'eps', 'weight_decay'],\n",
       " 'ASGD': ['lr', 'lambd', 'alpha', 't0', 'weight_decay'],\n",
       " 'SGD': ['lr', 'momentum', 'dampening', 'weight_decay', 'nesterov'],\n",
       " 'Rprop': ['lr', 'etas', 'step_sizes'],\n",
       " 'RMSprop': ['lr', 'alpha', 'eps', 'weight_decay', 'momentum', 'centered'],\n",
       " 'LBFGS': ['lr',\n",
       "  'max_iter',\n",
       "  'max_eval',\n",
       "  'tolerance_grad',\n",
       "  'tolerance_change',\n",
       "  'history_size',\n",
       "  'line_search_fn']}"
      ]
     },
     "execution_count": 2,
     "metadata": {},
     "output_type": "execute_result"
    }
   ],
   "source": [
    "{opt: TorchOptRepo.supported_parameters(opt) for opt in TorchOptRepo.get_opt_names()}"
   ]
  },
  {
   "cell_type": "code",
   "execution_count": null,
   "metadata": {},
   "outputs": [],
   "source": []
  }
 ],
 "metadata": {
  "kernelspec": {
   "display_name": "Python 3",
   "language": "python",
   "name": "python3"
  },
  "language_info": {
   "codemirror_mode": {
    "name": "ipython",
    "version": 3
   },
   "file_extension": ".py",
   "mimetype": "text/x-python",
   "name": "python",
   "nbconvert_exporter": "python",
   "pygments_lexer": "ipython3",
   "version": "3.7.6"
  }
 },
 "nbformat": 4,
 "nbformat_minor": 4
}
