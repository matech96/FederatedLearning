{
 "cells": [
  {
   "cell_type": "code",
   "execution_count": 9,
   "metadata": {},
   "outputs": [],
   "source": [
    "import comet_ml\n",
    "import plotly.graph_objects as go\n",
    "import plotly.express as px\n",
    "import numpy as np\n",
    "import pandas as pd\n",
    "import os\n",
    "\n",
    "comet_api = comet_ml.api.API()"
   ]
  },
  {
   "cell_type": "code",
   "execution_count": 3,
   "metadata": {},
   "outputs": [],
   "source": [
    "exps = comet_api.get('federated-learning/500c-opt-cifar-new-long')"
   ]
  },
  {
   "cell_type": "code",
   "execution_count": 4,
   "metadata": {},
   "outputs": [],
   "source": [
    "opt = [exp.get_parameters_summary('OPT')['valueMax'] for exp in exps]\n",
    "opt_strat = [exp.get_parameters_summary('OPT_STRATEGY')['valueMax'] for exp in exps]\n",
    "name = [exp.name for exp in exps]\n",
    "key = [exp.id for exp in exps]\n",
    "df_parameters = pd.DataFrame({'name': name, 'key': key, 'opt_strat': opt_strat, 'opt': opt})"
   ]
  },
  {
   "cell_type": "code",
   "execution_count": 5,
   "metadata": {},
   "outputs": [],
   "source": [
    "def get_acc(exp):\n",
    "    acc_dict = exp.get_metrics(\"test_acc\")\n",
    "    acc = [float(acc_d['metricValue']) for acc_d in acc_dict]\n",
    "    step = [int(acc_d['step']) for acc_d in acc_dict]\n",
    "    return step, acc"
   ]
  },
  {
   "cell_type": "code",
   "execution_count": 6,
   "metadata": {},
   "outputs": [],
   "source": [
    "df_metrics = None\n",
    "for exp in exps:\n",
    "    step, acc = get_acc(exp)\n",
    "    df = pd.DataFrame({'acc': acc, 'step': step, 'key': exp.id})\n",
    "    if df_metrics is None:\n",
    "        df_metrics = df\n",
    "    else:\n",
    "        df_metrics = df_metrics.append(df)"
   ]
  },
  {
   "cell_type": "code",
   "execution_count": 7,
   "metadata": {},
   "outputs": [],
   "source": [
    "# df = df_parameters.set_index('key').join(df_metrics.set_index('key'))\n",
    "df = df_parameters.join(df_metrics.set_index('key'), on='key')"
   ]
  },
  {
   "cell_type": "code",
   "execution_count": 12,
   "metadata": {},
   "outputs": [],
   "source": [
    "fig = px.line(df[(df['opt']=='Adadelta')|(df['opt']=='SGD')].sort_values(['key', 'step']), x=\"step\", y=\"acc\", hover_name='key', line_group='key',  color='name') #  &((df['opt']=='Adagrad')|(df['opt']=='SGD'))\n",
    "# fig.show()\n",
    "fig.write_image('figure.png')"
   ]
  },
  {
   "cell_type": "code",
   "execution_count": null,
   "metadata": {},
   "outputs": [],
   "source": [
    "def plot(fig, opt_, opt_strat_, color):\n",
    "    accs = []\n",
    "    for exp in exps:\n",
    "        opt = exp.get_parameters_summary('OPT')['valueMax']\n",
    "        opt_strat = exp.get_parameters_summary('OPT_STRATEGY')['valueMax']\n",
    "        if (opt == opt_) and (opt_strat == opt_strat_):\n",
    "            step, acc = get_acc(exp)\n",
    "            accs.append(acc)\n",
    "#     accs = np.array(accs)\n",
    "            fig.add_trace(go.Scatter(y=acc, name=f\"{opt_}_{opt_strat_}\", line=dict(color=color))) #, color=color))\n",
    "\n",
    "fig = go.Figure()\n",
    "plot(fig, 'Adadelta', 'avg', 'red')\n",
    "plot(fig, 'Adadelta', 'reinit', 'green')\n",
    "plot(fig, 'SGD', 'reinit', 'blue')\n",
    "fig.show()\n"
   ]
  }
 ],
 "metadata": {
  "kernelspec": {
   "display_name": "Python 3",
   "language": "python",
   "name": "python3"
  },
  "language_info": {
   "codemirror_mode": {
    "name": "ipython",
    "version": 3
   },
   "file_extension": ".py",
   "mimetype": "text/x-python",
   "name": "python",
   "nbconvert_exporter": "python",
   "pygments_lexer": "ipython3",
   "version": "3.7.6"
  }
 },
 "nbformat": 4,
 "nbformat_minor": 4
}
