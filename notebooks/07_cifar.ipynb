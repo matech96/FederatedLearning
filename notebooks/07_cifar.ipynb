{
 "cells": [
  {
   "cell_type": "code",
   "execution_count": 1,
   "metadata": {},
   "outputs": [],
   "source": [
    "import os\n",
    "os.chdir('..')"
   ]
  },
  {
   "cell_type": "code",
   "execution_count": null,
   "metadata": {},
   "outputs": [],
   "source": [
    "from torchvision import datasets, transforms"
   ]
  },
  {
   "cell_type": "code",
   "execution_count": null,
   "metadata": {},
   "outputs": [],
   "source": [
    "train_ds = datasets.CIFAR10('data/cifar10', download=True) \n",
    "#             transform=transforms.Compose(\n",
    "#     [transforms.ToTensor(),\n",
    "#      transforms.Normalize((0.5, 0.5, 0.5), (0.5, 0.5, 0.5))]))"
   ]
  },
  {
   "cell_type": "code",
   "execution_count": null,
   "metadata": {},
   "outputs": [],
   "source": [
    "type(train_ds[1][1])"
   ]
  },
  {
   "cell_type": "code",
   "execution_count": 12,
   "metadata": {},
   "outputs": [],
   "source": []
  },
  {
   "cell_type": "code",
   "execution_count": null,
   "metadata": {},
   "outputs": [],
   "source": [
    "help(tf.keras.utils.get_file)"
   ]
  },
  {
   "cell_type": "code",
   "execution_count": 3,
   "metadata": {},
   "outputs": [],
   "source": []
  },
  {
   "cell_type": "code",
   "execution_count": 4,
   "metadata": {},
   "outputs": [],
   "source": []
  },
  {
   "cell_type": "code",
   "execution_count": 5,
   "metadata": {},
   "outputs": [],
   "source": []
  },
  {
   "cell_type": "code",
   "execution_count": 21,
   "metadata": {},
   "outputs": [],
   "source": [
    "import numpy as np\n",
    "import tensorflow as tf\n",
    "import h5py\n",
    "from pathlib import Path\n",
    "import os\n",
    "\n",
    "def download_all_data():\n",
    "    data_dir = Path('data/cifar100fed')\n",
    "\n",
    "    path = tf.keras.utils.get_file(\n",
    "          'fed_cifar100.tar.bz2',\n",
    "          origin='https://storage.googleapis.com/tff-datasets-public/fed_cifar100.tar.bz2',\n",
    "          file_hash='e8575e22c038ecef1ce6c7d492d7abee7da13b1e1ba9b70a7fc18531ba7590de',\n",
    "          hash_algorithm='sha256',\n",
    "          extract=True,\n",
    "          archive_format='tar')\n",
    "    dir_path = os.path.dirname(path)\n",
    "\n",
    "    def download_split(data_set):\n",
    "        split_dir = data_dir / data_set\n",
    "        try:\n",
    "            os.makedirs(split_dir)\n",
    "        except FileExistsError:\n",
    "            return\n",
    "        h5 = h5py.File(os.path.join(dir_path, f'fed_cifar100_{data_set}.h5'), \"r\")[\"examples\"]\n",
    "\n",
    "        for client_id in h5.keys():\n",
    "            images = []\n",
    "            labels = []\n",
    "            for item_id in range(100):\n",
    "                images.append(h5[client_id][\"image\"][item_id])\n",
    "                labels.append(h5[client_id][\"label\"][item_id])\n",
    "            images = np.stack(images, axis=0)\n",
    "            labels = np.stack(labels, axis=0)\n",
    "            np.save(split_dir / f\"{client_id}_img\", images)\n",
    "            np.save(split_dir / f\"{client_id}_label\", labels)\n",
    "        \n",
    "    download_split(\"train\")\n",
    "    download_split(\"test\")"
   ]
  },
  {
   "cell_type": "code",
   "execution_count": 22,
   "metadata": {},
   "outputs": [],
   "source": [
    "download_all_data()"
   ]
  },
  {
   "cell_type": "code",
   "execution_count": 35,
   "metadata": {},
   "outputs": [],
   "source": [
    "import numpy as np\n",
    "import tensorflow as tf\n",
    "import h5py\n",
    "from pathlib import Path\n",
    "import os\n",
    "\n",
    "def get_data(split):\n",
    "    if isinstance(split, str) and split == \"test\":\n",
    "        data_set = \"test\"\n",
    "        client_ids = [str(i) for i in range(100)]\n",
    "    else:\n",
    "        data_set = \"train\"\n",
    "        client_ids = split\n",
    "        \n",
    "    images = []\n",
    "    labels = []\n",
    "    for c in client_ids:\n",
    "        i, l = get_client_data(data_set, c) \n",
    "        images.append(i)\n",
    "        labels.append(l)\n",
    "        \n",
    "    return np.concatenate(images), np.concatenate(labels)\n",
    "\n",
    "def get_client_data(data_set, client_id):\n",
    "    data_dir = Path('data/cifar100fed')\n",
    "    split_dir = data_dir / data_set\n",
    "\n",
    "    images = np.load(split_dir / f\"{client_id}_img.npy\")\n",
    "    labels = np.load(split_dir / f\"{client_id}_label.npy\")\n",
    "    return images, labels"
   ]
  },
  {
   "cell_type": "code",
   "execution_count": 36,
   "metadata": {},
   "outputs": [],
   "source": [
    "i, l = get_data([\"2\", \"3\"])"
   ]
  },
  {
   "cell_type": "code",
   "execution_count": 38,
   "metadata": {},
   "outputs": [
    {
     "data": {
      "text/plain": [
       "(200,)"
      ]
     },
     "execution_count": 38,
     "metadata": {},
     "output_type": "execute_result"
    }
   ],
   "source": [
    "l.shape"
   ]
  },
  {
   "cell_type": "code",
   "execution_count": null,
   "metadata": {},
   "outputs": [],
   "source": [
    "def get_cifar100fed_h5(split):\n",
    "    dir_path = os.path.dirname(get_cifar100fed_h5.path)\n",
    "    return h5py.File(os.path.join(dir_path, f'fed_cifar100_{split}.h5'), \"r\")[\"examples\"]\n",
    "\n",
    "get_cifar100fed_h5.path = tf.keras.utils.get_file(\n",
    "      'fed_cifar100.tar.bz2',\n",
    "      origin='https://storage.googleapis.com/tff-datasets-public/fed_cifar100.tar.bz2',\n",
    "      file_hash='e8575e22c038ecef1ce6c7d492d7abee7da13b1e1ba9b70a7fc18531ba7590de',\n",
    "      hash_algorithm='sha256',\n",
    "      extract=True,\n",
    "      archive_format='tar')"
   ]
  },
  {
   "cell_type": "code",
   "execution_count": null,
   "metadata": {},
   "outputs": [],
   "source": [
    "from torch.utils.data import Dataset\n",
    "\n",
    "class CIFAR10Fed(Dataset):\n",
    "    N_ELEMENTS_PER_CLIENT = 100\n",
    "    def __init__(self, split, transform=None):\n",
    "        if isinstance(split, str) and split == \"test\":\n",
    "            self.h5 = get_cifar100fed_h5('test')\n",
    "            self.clients = list(self.h5.keys())\n",
    "        else:\n",
    "            self.h5 = get_cifar100fed_h5('train')\n",
    "            self.clients = split\n",
    "        \n",
    "        self.transform = transform\n",
    "        \n",
    "    def __len__(self):\n",
    "        return len(self.clients) * self.N_ELEMENTS_PER_CLIENT\n",
    "    \n",
    "    def __getitem__(self, idx):\n",
    "        client_id = idx // self.N_ELEMENTS_PER_CLIENT\n",
    "        item_id = idx % self.N_ELEMENTS_PER_CLIENT\n",
    "        \n",
    "        client = self.h5[self.clients[client_id]]\n",
    "        img = client[\"image\"][item_id]\n",
    "        label = client[\"label\"][item_id]\n",
    "        \n",
    "        if self.transform is not None:\n",
    "            img = self.transform(img)\n",
    "\n",
    "        return img, label"
   ]
  },
  {
   "cell_type": "code",
   "execution_count": null,
   "metadata": {},
   "outputs": [],
   "source": [
    "ds = CIFAR10Fed('test', transform=transforms.Compose([transforms.ToTensor(), transforms.Normalize((0.5, 0.5, 0.5), (0.5, 0.5, 0.5))]))"
   ]
  },
  {
   "cell_type": "code",
   "execution_count": null,
   "metadata": {},
   "outputs": [],
   "source": [
    "ds[0]"
   ]
  },
  {
   "cell_type": "code",
   "execution_count": null,
   "metadata": {},
   "outputs": [],
   "source": [
    "for k in h5.keys():\n",
    "    assert len(h5[\"0\"][\"label\"]) == 100"
   ]
  },
  {
   "cell_type": "code",
   "execution_count": null,
   "metadata": {},
   "outputs": [],
   "source": [
    "import numpy as np\n",
    "np.array_split(np.array(list(h5.keys())), 7)"
   ]
  },
  {
   "cell_type": "code",
   "execution_count": null,
   "metadata": {},
   "outputs": [],
   "source": [
    "[str(x) for x in np.arange(500)]"
   ]
  },
  {
   "cell_type": "code",
   "execution_count": null,
   "metadata": {},
   "outputs": [],
   "source": [
    "np.array(list(h5.keys()))"
   ]
  },
  {
   "cell_type": "code",
   "execution_count": null,
   "metadata": {},
   "outputs": [],
   "source": [
    "for k, v in h5[\"examples\"][\"1\"].items():\n",
    "    print(k)"
   ]
  },
  {
   "cell_type": "code",
   "execution_count": null,
   "metadata": {},
   "outputs": [],
   "source": [
    "h5[\"1\"][\"image\"][0]"
   ]
  }
 ],
 "metadata": {
  "kernelspec": {
   "display_name": "Python 3",
   "language": "python",
   "name": "python3"
  },
  "language_info": {
   "codemirror_mode": {
    "name": "ipython",
    "version": 3
   },
   "file_extension": ".py",
   "mimetype": "text/x-python",
   "name": "python",
   "nbconvert_exporter": "python",
   "pygments_lexer": "ipython3",
   "version": "3.7.6"
  }
 },
 "nbformat": 4,
 "nbformat_minor": 4
}
