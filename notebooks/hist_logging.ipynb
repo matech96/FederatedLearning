{
 "cells": [
  {
   "cell_type": "code",
   "execution_count": 1,
   "metadata": {
    "ExecuteTime": {
     "end_time": "2020-08-31T10:38:09.963294Z",
     "start_time": "2020-08-31T10:38:09.001952Z"
    }
   },
   "outputs": [],
   "source": [
    "from comet_ml import Experiment\n",
    "import torchvision.models as models\n",
    "import torch as th\n",
    "import numpy as np"
   ]
  },
  {
   "cell_type": "code",
   "execution_count": 2,
   "metadata": {
    "ExecuteTime": {
     "end_time": "2020-08-31T10:38:10.148473Z",
     "start_time": "2020-08-31T10:38:09.965299Z"
    }
   },
   "outputs": [],
   "source": [
    "m = models.resnet18()"
   ]
  },
  {
   "cell_type": "code",
   "execution_count": 3,
   "metadata": {
    "ExecuteTime": {
     "end_time": "2020-08-31T10:38:15.319547Z",
     "start_time": "2020-08-31T10:38:10.150804Z"
    }
   },
   "outputs": [
    {
     "name": "stderr",
     "output_type": "stream",
     "text": [
      "COMET INFO: old comet version (3.1.13) detected. current: 3.2.0 please update your comet lib with command: `pip install --no-cache-dir --upgrade comet_ml`\n",
      "COMET INFO: Experiment is live on comet.ml https://www.comet.ml/federated-learning/server-side-opt-long/3fcd9c7368c64fb7871782d454066c6c\n",
      "\n"
     ]
    }
   ],
   "source": [
    "project_name = \"server-side-opt-long\"\n",
    "experiment = Experiment(workspace=\"federated-learning\", project_name=project_name, api_key='cgss7piePhyFPXRw1J2uUEjkQ', auto_output_logging=None)"
   ]
  },
  {
   "cell_type": "code",
   "execution_count": 4,
   "metadata": {
    "ExecuteTime": {
     "end_time": "2020-08-31T10:38:15.325885Z",
     "start_time": "2020-08-31T10:38:15.322686Z"
    }
   },
   "outputs": [],
   "source": [
    "# # ss = [50, 100, 500, 1000, 3000]\n",
    "# # for i, s in enumerate(reversed(ss)):\n",
    "# s = 5000\n",
    "# i = 6\n",
    "# for k, v in m.state_dict().items():\n",
    "#     if th.numel(v) > s:\n",
    "#         v = np.random.choice(v.flatten(), s)\n",
    "#     experiment.log_histogram_3d(v, f\"red_{k}\", step=i)"
   ]
  },
  {
   "cell_type": "code",
   "execution_count": 5,
   "metadata": {
    "ExecuteTime": {
     "end_time": "2020-08-31T10:38:15.334241Z",
     "start_time": "2020-08-31T10:38:15.328460Z"
    }
   },
   "outputs": [],
   "source": [
    "def log_hist(m, experiment):\n",
    "    print('hali')\n",
    "    s = 5000\n",
    "    i = 1\n",
    "    for k, v in m.state_dict().items():\n",
    "        if th.numel(v) > s:\n",
    "            v = np.random.choice(v.flatten(), s)\n",
    "        experiment.log_histogram_3d(v, f\"red_{k}\", step=i)\n",
    "#         print(k)\n",
    "    print('end')"
   ]
  },
  {
   "cell_type": "code",
   "execution_count": 6,
   "metadata": {
    "ExecuteTime": {
     "end_time": "2020-08-31T10:38:15.339520Z",
     "start_time": "2020-08-31T10:38:15.336621Z"
    }
   },
   "outputs": [],
   "source": [
    "# log_hist(m, experiment)"
   ]
  },
  {
   "cell_type": "code",
   "execution_count": 7,
   "metadata": {
    "ExecuteTime": {
     "end_time": "2020-08-31T10:38:15.345306Z",
     "start_time": "2020-08-31T10:38:15.341924Z"
    }
   },
   "outputs": [],
   "source": [
    "from multiprocessing import Pool\n",
    "from multiprocessing import Process\n",
    "from threading import Thread\n",
    "# pool = Pool(processes=1)"
   ]
  },
  {
   "cell_type": "code",
   "execution_count": 8,
   "metadata": {
    "ExecuteTime": {
     "end_time": "2020-08-31T10:38:16.536750Z",
     "start_time": "2020-08-31T10:38:15.348274Z"
    }
   },
   "outputs": [
    {
     "name": "stdout",
     "output_type": "stream",
     "text": [
      "hali\n",
      "end\n"
     ]
    }
   ],
   "source": [
    "p = Process(target=log_hist, args=(m, experiment,))\n",
    "p.start()\n",
    "p.join()"
   ]
  },
  {
   "cell_type": "code",
   "execution_count": 9,
   "metadata": {
    "ExecuteTime": {
     "end_time": "2020-08-31T10:38:16.543850Z",
     "start_time": "2020-08-31T10:38:16.540480Z"
    }
   },
   "outputs": [],
   "source": [
    "# for i, (k, v) in enumerate(m.state_dict().items()):\n",
    "# #     if ('conv' in k) or ('fc' in k):\n",
    "#     print(k, v.flatten().shape)\n",
    "#     print(np.random.choice(v.flatten(), 3000).shape)"
   ]
  }
 ],
 "metadata": {
  "kernelspec": {
   "display_name": "Python 3",
   "language": "python",
   "name": "python3"
  },
  "language_info": {
   "codemirror_mode": {
    "name": "ipython",
    "version": 3
   },
   "file_extension": ".py",
   "mimetype": "text/x-python",
   "name": "python",
   "nbconvert_exporter": "python",
   "pygments_lexer": "ipython3",
   "version": "3.7.6"
  },
  "toc": {
   "base_numbering": 1,
   "nav_menu": {},
   "number_sections": false,
   "sideBar": true,
   "skip_h1_title": false,
   "title_cell": "Table of Contents",
   "title_sidebar": "Contents",
   "toc_cell": false,
   "toc_position": {},
   "toc_section_display": true,
   "toc_window_display": false
  }
 },
 "nbformat": 4,
 "nbformat_minor": 2
}
