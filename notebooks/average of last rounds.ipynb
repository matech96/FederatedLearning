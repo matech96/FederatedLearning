{
 "cells": [
  {
   "cell_type": "code",
   "execution_count": 4,
   "metadata": {},
   "outputs": [],
   "source": [
    "import comet_ml\n",
    "from statistics import mean"
   ]
  },
  {
   "cell_type": "code",
   "execution_count": 5,
   "metadata": {},
   "outputs": [],
   "source": [
    "comet_api = comet_ml.api.API()"
   ]
  },
  {
   "cell_type": "code",
   "execution_count": 22,
   "metadata": {},
   "outputs": [],
   "source": [
    "# exp = comet_api.get('federated-learning/reproduce-fedavg-cifar100/8fd8bfa7201b4f468cc68d7e3054b54a')\n",
    "# exp = comet_api.get('federated-learning/server-side-opt-long/8d43b23f425447f9a0de0cb985b1caa5')\n",
    "# exp = comet_api.get('federated-learning/server-side-opt-long/c2312cf08a4c4af1b69675f921adeffa') # FedAdam\n",
    "# exp = comet_api.get('federated-learning/server-side-opt-long/b674427d82754cd9ada371e3f76b9538') # FedAdam noB1\n",
    "# exp = comet_api.get('federated-learning/server-side-opt-long/8183e55372fd43329af7fbc38cf46dd9') # FedAvgM\n",
    "exp = comet_api.get('federated-learning/server-side-opt-long/97f75d111ac145488e780d634b62688b')\n"
   ]
  },
  {
   "cell_type": "code",
   "execution_count": 23,
   "metadata": {},
   "outputs": [],
   "source": [
    "dict_acc = exp.get_metrics('test_acc')"
   ]
  },
  {
   "cell_type": "code",
   "execution_count": 24,
   "metadata": {},
   "outputs": [],
   "source": [
    "value = [float(record['metricValue']) for record in dict_acc]\n",
    "step = [int(record['step']) for record in dict_acc]"
   ]
  },
  {
   "cell_type": "code",
   "execution_count": 25,
   "metadata": {},
   "outputs": [
    {
     "name": "stdout",
     "output_type": "stream",
     "text": [
      "The accuracy for the best FedAvg client learning rate in the last 100 rounds is 27.3601\n"
     ]
    }
   ],
   "source": [
    "print(f'The accuracy for the best FedAvg client learning rate in the last 100 rounds is {mean(value[-100:])}')"
   ]
  },
  {
   "cell_type": "code",
   "execution_count": null,
   "metadata": {},
   "outputs": [],
   "source": []
  }
 ],
 "metadata": {
  "kernelspec": {
   "display_name": "Python 3",
   "language": "python",
   "name": "python3"
  },
  "language_info": {
   "codemirror_mode": {
    "name": "ipython",
    "version": 3
   },
   "file_extension": ".py",
   "mimetype": "text/x-python",
   "name": "python",
   "nbconvert_exporter": "python",
   "pygments_lexer": "ipython3",
   "version": "3.7.6"
  }
 },
 "nbformat": 4,
 "nbformat_minor": 4
}
