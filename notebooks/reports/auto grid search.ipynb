{
 "cells": [
  {
   "cell_type": "code",
   "execution_count": null,
   "metadata": {},
   "outputs": [],
   "source": [
    "import comet_ml\n",
    "from comet_ml.query import Parameter\n",
    "import pandas as pd\n",
    "import numpy as np\n",
    "\n",
    "comet_api = comet_ml.api.API()\n",
    "\n",
    "def get_exps(strat):\n",
    "    query = (Parameter('SERVER_OPT') == 'Adam') & (Parameter('CLIENT_OPT') == 'Adam') & (Parameter('CLIENT_OPT_STRATEGY') == strat)\n",
    "    return comet_api.query('federated-learning', 'both-side-opt', query)\n",
    "\n",
    "def get_df(exps):\n",
    "    def get_list(t, c):\n",
    "        res = []\n",
    "        for exp in exps:\n",
    "            response = c(exp)\n",
    "            if isinstance(response, list):\n",
    "                res.append(None)\n",
    "            else:\n",
    "                res.append(t(response['valueMax']))\n",
    "        return res\n",
    "    def get_params(t, n):\n",
    "        return get_list(t, lambda exp: exp.get_parameters_summary(n))\n",
    "    def get_metrics(t, n):\n",
    "        return get_list(t, lambda exp: exp.get_metrics_summary(n))\n",
    "\n",
    "    ids = [exp.id for exp in exps]\n",
    "\n",
    "    c_lr = get_params(float, 'CLIENT_LEARNING_RATE')\n",
    "    s_lr = get_params(float, 'SERVER_LEARNING_RATE')\n",
    "\n",
    "    last100_avg_acc = get_metrics(float, 'last100_avg_acc')\n",
    "    teas = get_metrics(float, 'test_acc')\n",
    "    return pd.DataFrame({'id': ids, \n",
    "                         'test_acc': teas, \n",
    "                         'last100_avg_acc': last100_avg_acc, \n",
    "                         'c_lr': c_lr, \n",
    "                         's_lr': s_lr,\n",
    "                            })\n",
    "exps = get_exps('nothing')\n",
    "df = get_df(exps)"
   ]
  },
  {
   "cell_type": "code",
   "execution_count": null,
   "metadata": {},
   "outputs": [],
   "source": []
  }
 ],
 "metadata": {
  "kernelspec": {
   "display_name": "Python 3",
   "language": "python",
   "name": "python3"
  },
  "language_info": {
   "codemirror_mode": {
    "name": "ipython",
    "version": 3
   },
   "file_extension": ".py",
   "mimetype": "text/x-python",
   "name": "python",
   "nbconvert_exporter": "python",
   "pygments_lexer": "ipython3",
   "version": "3.7.6"
  }
 },
 "nbformat": 4,
 "nbformat_minor": 4
}
