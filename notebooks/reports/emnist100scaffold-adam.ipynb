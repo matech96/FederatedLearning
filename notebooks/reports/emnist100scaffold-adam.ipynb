{
 "cells": [
  {
   "cell_type": "code",
   "execution_count": 1,
   "metadata": {},
   "outputs": [],
   "source": [
    "import os\n",
    "os.chdir('../..')"
   ]
  },
  {
   "cell_type": "code",
   "execution_count": 2,
   "metadata": {},
   "outputs": [],
   "source": [
    "import comet_ml\n",
    "from comet_ml.exceptions import NotFound\n",
    "from comet_ml.query import Parameter\n",
    "import pandas as pd\n",
    "import numpy as np\n",
    "import matplotlib.pyplot as plt\n",
    "import holoviews as hv\n",
    "\n",
    "from mutil.cometml.apiquery import exp_metrics2list, exp_params2list"
   ]
  },
  {
   "cell_type": "code",
   "execution_count": null,
   "metadata": {},
   "outputs": [],
   "source": [
    "comet_api = comet_ml.api.API()"
   ]
  },
  {
   "cell_type": "code",
   "execution_count": null,
   "metadata": {},
   "outputs": [],
   "source": [
    "hv.extension('matplotlib')\n",
    "def generate_plot(SOPT, STR=\"r\", COPT=\"sgd\", E = 1):\n",
    "    plots = {}\n",
    "    exps = comet_api.get(f'federated-learning-emnist-s/cnn3400c{E}e100r10f-{SOPT}-{STR}-{COPT}-scf')\n",
    "    slr = exp_params2list(exps, 'SERVER_LEARNING_RATE', float)\n",
    "    clr = exp_params2list(exps, 'CLIENT_LEARNING_RATE', float)\n",
    "    acc = exp_metrics2list(exps, 'last_avg_acc', float)\n",
    "    df = pd.DataFrame({'slr': np.log10(slr), 'clr': np.log10(clr), 'acc': acc})\n",
    "    i = df['acc'].idxmax()\n",
    "    m = df.iloc[i]\n",
    "    plots[E] = (hv.HeatMap(df, kdims=['clr', 'slr']).opts(colorbar=True, cmap='viridis') * hv.Ellipse(m['clr'],m['slr'],0.5)).opts(fig_inches=10)\n",
    "    return hv.HoloMap(plots, kdims='E').opts(title=f\"{SOPT}-{STR}-{COPT}\")"
   ]
  },
  {
   "cell_type": "code",
   "execution_count": null,
   "metadata": {},
   "outputs": [],
   "source": [
    "generate_plot(\"adam\")"
   ]
  },
  {
   "cell_type": "code",
   "execution_count": null,
   "metadata": {},
   "outputs": [],
   "source": [
    "generate_plot(\"adam\", E=5)"
   ]
  },
  {
   "cell_type": "code",
   "execution_count": null,
   "metadata": {},
   "outputs": [],
   "source": []
  }
 ],
 "metadata": {
  "kernelspec": {
   "display_name": "Python 3",
   "language": "python",
   "name": "python3"
  },
  "language_info": {
   "codemirror_mode": {
    "name": "ipython",
    "version": 3
   },
   "file_extension": ".py",
   "mimetype": "text/x-python",
   "name": "python",
   "nbconvert_exporter": "python",
   "pygments_lexer": "ipython3",
   "version": "3.7.6"
  }
 },
 "nbformat": 4,
 "nbformat_minor": 4
}
