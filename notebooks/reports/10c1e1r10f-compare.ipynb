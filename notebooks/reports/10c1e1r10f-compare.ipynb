{
 "cells": [
  {
   "cell_type": "code",
   "execution_count": 1,
   "metadata": {},
   "outputs": [],
   "source": [
    "import os\n",
    "os.chdir('../..')"
   ]
  },
  {
   "cell_type": "code",
   "execution_count": 2,
   "metadata": {},
   "outputs": [],
   "source": [
    "import comet_ml\n",
    "from comet_ml.query import Parameter\n",
    "import pandas as pd\n",
    "import numpy as np\n",
    "import matplotlib.pyplot as plt\n",
    "\n",
    "from mutil.cometml.apiquery import exp_metrics2list, exp_params2list"
   ]
  },
  {
   "cell_type": "code",
   "execution_count": 3,
   "metadata": {},
   "outputs": [],
   "source": [
    "comet_api = comet_ml.api.API()"
   ]
  },
  {
   "cell_type": "code",
   "execution_count": 19,
   "metadata": {},
   "outputs": [],
   "source": [
    "def get_exps(s_opt, strat, c_opt):\n",
    "    query = (Parameter('CLIENT_FRACTION') == 1) & (Parameter('SERVER_OPT') == s_opt) & (Parameter('CLIENT_OPT') == c_opt) & (Parameter('CLIENT_OPT_STRATEGY') == strat)\n",
    "    return comet_api.query('federated-learning', '10c2-compare', query)"
   ]
  },
  {
   "cell_type": "code",
   "execution_count": 22,
   "metadata": {},
   "outputs": [],
   "source": [
    "opts = [(\"SGD\", \"nothing\", \"SGD\"),\n",
    "        (\"Yogi\", \"nothing\", \"SGD\"),\n",
    "        (\"Yogi\", \"avg\", \"Yogi\"),\n",
    "        (\"Yogi\", \"nothing\", \"Yogi\"),\n",
    "        (\"Yogi\", \"reinit\", \"Yogi\")]\n",
    "res = {}\n",
    "for s_opt, strat, c_opt in opts:\n",
    "    exps = get_exps(s_opt, strat, c_opt)\n",
    "    res[(s_opt, strat, c_opt)] = exp_metrics2list(exps, \"test_acc\", float)"
   ]
  },
  {
   "cell_type": "code",
   "execution_count": 31,
   "metadata": {},
   "outputs": [
    {
     "data": {
      "image/png": "[encoded data removed]",
      "text/plain": [
       "<Figure size 1440x720 with 1 Axes>"
      ]
     },
     "metadata": {
      "needs_background": "light"
     },
     "output_type": "display_data"
    }
   ],
   "source": [
    "plt.figure(figsize=(20,10))\n",
    "plt.boxplot(res.values(), labels=res.keys())\n",
    "plt.show()"
   ]
  },
  {
   "cell_type": "code",
   "execution_count": 9,
   "metadata": {},
   "outputs": [],
   "source": [
    "def get_df(exps):\n",
    "#     s_opt = exp_params2list(exps, \"SERVER_OPT\", str)\n",
    "#     c_opt = exp_params2list(exps, \"CLIENT_OPT_STRATEGY\", str)\n",
    "#     strat = exp_params2list(exps, \"CLIENT_OPT\", str)\n",
    "    teas = exp_metrics2list(exps, \"test_acc\", float)\n",
    "#     return pd.DataFrame({\"acc\": teas, \"s_opt\": s_opt, \"strat\": strat, \"c_opt\": c_opt})\n",
    "    return pd.DataFrame({\"acc\": teas, \"s_opt\": s_opt, \"strat\": strat, \"c_opt\": c_opt})"
   ]
  },
  {
   "cell_type": "code",
   "execution_count": 10,
   "metadata": {},
   "outputs": [],
   "source": [
    "df = get_df(exps)"
   ]
  },
  {
   "cell_type": "code",
   "execution_count": 12,
   "metadata": {},
   "outputs": [],
   "source": [
    "go = df.groupby([\"s_opt\", \"strat\", \"c_opt\"])"
   ]
  },
  {
   "cell_type": "code",
   "execution_count": 14,
   "metadata": {},
   "outputs": [
    {
     "data": {
      "text/html": [
       "<div>\n",
       "<style scoped>\n",
       "    .dataframe tbody tr th:only-of-type {\n",
       "        vertical-align: middle;\n",
       "    }\n",
       "\n",
       "    .dataframe tbody tr th {\n",
       "        vertical-align: top;\n",
       "    }\n",
       "\n",
       "    .dataframe thead th {\n",
       "        text-align: right;\n",
       "    }\n",
       "</style>\n",
       "<table border=\"1\" class=\"dataframe\">\n",
       "  <thead>\n",
       "    <tr style=\"text-align: right;\">\n",
       "      <th></th>\n",
       "      <th></th>\n",
       "      <th></th>\n",
       "      <th>acc</th>\n",
       "    </tr>\n",
       "    <tr>\n",
       "      <th>s_opt</th>\n",
       "      <th>strat</th>\n",
       "      <th>c_opt</th>\n",
       "      <th></th>\n",
       "    </tr>\n",
       "  </thead>\n",
       "  <tbody>\n",
       "    <tr>\n",
       "      <th>SGD</th>\n",
       "      <th>SGD</th>\n",
       "      <th>nothing</th>\n",
       "      <td>0.175190</td>\n",
       "    </tr>\n",
       "    <tr>\n",
       "      <th rowspan=\"4\" valign=\"top\">Yogi</th>\n",
       "      <th>SGD</th>\n",
       "      <th>nothing</th>\n",
       "      <td>0.309341</td>\n",
       "    </tr>\n",
       "    <tr>\n",
       "      <th rowspan=\"3\" valign=\"top\">Yogi</th>\n",
       "      <th>avg</th>\n",
       "      <td>0.710117</td>\n",
       "    </tr>\n",
       "    <tr>\n",
       "      <th>nothing</th>\n",
       "      <td>0.804627</td>\n",
       "    </tr>\n",
       "    <tr>\n",
       "      <th>reinit</th>\n",
       "      <td>0.629464</td>\n",
       "    </tr>\n",
       "  </tbody>\n",
       "</table>\n",
       "</div>"
      ],
      "text/plain": [
       "                          acc\n",
       "s_opt strat c_opt            \n",
       "SGD   SGD   nothing  0.175190\n",
       "Yogi  SGD   nothing  0.309341\n",
       "      Yogi  avg      0.710117\n",
       "            nothing  0.804627\n",
       "            reinit   0.629464"
      ]
     },
     "execution_count": 14,
     "metadata": {},
     "output_type": "execute_result"
    }
   ],
   "source": [
    "go.std()"
   ]
  }
 ],
 "metadata": {
  "kernelspec": {
   "display_name": "Python 3",
   "language": "python",
   "name": "python3"
  },
  "language_info": {
   "codemirror_mode": {
    "name": "ipython",
    "version": 3
   },
   "file_extension": ".py",
   "mimetype": "text/x-python",
   "name": "python",
   "nbconvert_exporter": "python",
   "pygments_lexer": "ipython3",
   "version": "3.7.6"
  }
 },
 "nbformat": 4,
 "nbformat_minor": 4
}
