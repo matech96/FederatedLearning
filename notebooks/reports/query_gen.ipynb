{
 "cells": [
  {
   "cell_type": "code",
   "execution_count": 1,
   "metadata": {},
   "outputs": [],
   "source": [
    "import os\n",
    "os.chdir('../..')"
   ]
  },
  {
   "cell_type": "code",
   "execution_count": 2,
   "metadata": {},
   "outputs": [],
   "source": [
    "from FLF.TorchFederatedLearnerCIFAR100 import TorchFederatedLearnerCIFAR100Config"
   ]
  },
  {
   "cell_type": "code",
   "execution_count": 3,
   "metadata": {},
   "outputs": [],
   "source": [
    "conf = TorchFederatedLearnerCIFAR100Config()"
   ]
  },
  {
   "cell_type": "code",
   "execution_count": 6,
   "metadata": {},
   "outputs": [],
   "source": [
    "project_name = \"10-clients\"\n",
    "\n",
    "server_lr = 0.01\n",
    "client_lr = 0.01\n",
    "server_opt = \"Adam\"\n",
    "client_opt = \"SGD\"\n",
    "client_opt_strategy = \"reinit\"\n",
    "\n",
    "# image_norm = \"tflike\"\n",
    "max_rounds = 30\n",
    "C = 1\n",
    "NC = 10\n",
    "E = 1\n",
    "B = 20\n",
    "is_iid = False\n",
    "\n",
    "def get_args(opt):\n",
    "    if opt == \"Adam\":\n",
    "        return {\"betas\": (0.0, 0.99), \"eps\": 0.01}\n",
    "    elif opt == \"SGD\":\n",
    "        return {\"momentum\": 0.9}\n",
    "    else:\n",
    "        return {}\n",
    "    \n",
    "config = TorchFederatedLearnerCIFAR100Config(\n",
    "    BREAK_ROUND=300,\n",
    "    CLIENT_LEARNING_RATE=client_lr,\n",
    "    CLIENT_OPT=client_opt,\n",
    "    # CLIENT_OPT_L2=1e-4,\n",
    "    CLIENT_OPT_STRATEGY=client_opt_strategy,\n",
    "    SERVER_OPT=server_opt,\n",
    "    SERVER_OPT_ARGS=get_args(server_opt),\n",
    "    SERVER_LEARNING_RATE=server_lr,\n",
    "    IS_IID_DATA=is_iid,\n",
    "    BATCH_SIZE=B,\n",
    "    CLIENT_FRACTION=C,\n",
    "    N_CLIENTS=NC,\n",
    "    N_EPOCH_PER_CLIENT=E,\n",
    "    MAX_ROUNDS=max_rounds,\n",
    "    DL_N_WORKER=0,\n",
    "    NORM=\"group\",\n",
    "    # IMAGE_NORM=image_norm,\n",
    "    INIT=\"keras\",\n",
    ")"
   ]
  },
  {
   "cell_type": "code",
   "execution_count": 8,
   "metadata": {},
   "outputs": [
    {
     "data": {
      "text/plain": [
       "{'TARGET_ACC': None,\n",
       " 'BREAK_ROUND': 300,\n",
       " 'MAX_ROUNDS': 30,\n",
       " 'N_CLIENTS': 10,\n",
       " 'CLIENT_FRACTION': 1.0,\n",
       " 'N_EPOCH_PER_CLIENT': 1,\n",
       " 'BATCH_SIZE': 20,\n",
       " 'CLIENT_LEARNING_RATE': 0.01,\n",
       " 'SERVER_LEARNING_RATE': 0.01,\n",
       " 'DL_N_WORKER': 0,\n",
       " 'SEED': None,\n",
       " 'CLIENT_OPT': 'SGD',\n",
       " 'CLIENT_OPT_L2': 0,\n",
       " 'CLIENT_OPT_STRATEGY': 'reinit',\n",
       " 'SERVER_OPT': 'Adam',\n",
       " 'IS_IID_DATA': False,\n",
       " 'IMAGE_NORM': 'thlike',\n",
       " 'NORM': 'group',\n",
       " 'INIT': 'keras',\n",
       " 'SERVER_OPT_BETAS_0': 0.0,\n",
       " 'SERVER_OPT_BETAS_1': 0.99,\n",
       " 'SERVER_OPT_EPS': 0.01}"
      ]
     },
     "execution_count": 8,
     "metadata": {},
     "output_type": "execute_result"
    }
   ],
   "source": []
  },
  {
   "cell_type": "code",
   "execution_count": 38,
   "metadata": {},
   "outputs": [],
   "source": [
    "import comet_ml\n",
    "from comet_ml.query import Parameter\n",
    "import functools\n",
    "import operator\n",
    "\n",
    "comet_api = comet_ml.api.API()\n",
    "exps = comet_api.query('federated-learning', project_name, functools.reduce(operator.and_, [Parameter(k) == v if not isinstance(v, bool) else Parameter(k) == str(v) for k, v in config.flatten().items() if not k.endswith('LEARNING_RATE')]))"
   ]
  },
  {
   "cell_type": "code",
   "execution_count": 43,
   "metadata": {},
   "outputs": [],
   "source": [
    "def get_df(exps):\n",
    "    def get_list(t, c):\n",
    "        res = []\n",
    "        for exp in exps:\n",
    "            response = c(exp)\n",
    "            if isinstance(response, list):\n",
    "                res.append(None)\n",
    "            else:\n",
    "                res.append(t(response['valueMax']))\n",
    "        return res\n",
    "    def get_params(t, n):\n",
    "        return get_list(t, lambda exp: exp.get_parameters_summary(n))\n",
    "    def get_metrics(t, n):\n",
    "        return get_list(t, lambda exp: exp.get_metrics_summary(n))\n",
    "\n",
    "    ids = [exp.id for exp in exps]\n",
    "\n",
    "    c_lr = get_params(float, 'CLIENT_LEARNING_RATE')\n",
    "    s_lr = get_params(float, 'SERVER_LEARNING_RATE')\n",
    "\n",
    "    teas = get_metrics(float, 'test_acc')\n",
    "    return pd.DataFrame({'acc': teas, \n",
    "                         'c_lr': c_lr, \n",
    "                         's_lr': s_lr,\n",
    "                            })"
   ]
  },
  {
   "cell_type": "code",
   "execution_count": 44,
   "metadata": {},
   "outputs": [
    {
     "data": {
      "text/html": [
       "<div>\n",
       "<style scoped>\n",
       "    .dataframe tbody tr th:only-of-type {\n",
       "        vertical-align: middle;\n",
       "    }\n",
       "\n",
       "    .dataframe tbody tr th {\n",
       "        vertical-align: top;\n",
       "    }\n",
       "\n",
       "    .dataframe thead th {\n",
       "        text-align: right;\n",
       "    }\n",
       "</style>\n",
       "<table border=\"1\" class=\"dataframe\">\n",
       "  <thead>\n",
       "    <tr style=\"text-align: right;\">\n",
       "      <th></th>\n",
       "      <th>acc</th>\n",
       "      <th>c_lr</th>\n",
       "      <th>s_lr</th>\n",
       "    </tr>\n",
       "  </thead>\n",
       "  <tbody>\n",
       "    <tr>\n",
       "      <th>0</th>\n",
       "      <td>None</td>\n",
       "      <td>False</td>\n",
       "      <td>False</td>\n",
       "    </tr>\n",
       "    <tr>\n",
       "      <th>1</th>\n",
       "      <td>False</td>\n",
       "      <td>False</td>\n",
       "      <td>False</td>\n",
       "    </tr>\n",
       "    <tr>\n",
       "      <th>2</th>\n",
       "      <td>False</td>\n",
       "      <td>False</td>\n",
       "      <td>False</td>\n",
       "    </tr>\n",
       "    <tr>\n",
       "      <th>3</th>\n",
       "      <td>False</td>\n",
       "      <td>False</td>\n",
       "      <td>False</td>\n",
       "    </tr>\n",
       "    <tr>\n",
       "      <th>4</th>\n",
       "      <td>False</td>\n",
       "      <td>False</td>\n",
       "      <td>False</td>\n",
       "    </tr>\n",
       "    <tr>\n",
       "      <th>5</th>\n",
       "      <td>False</td>\n",
       "      <td>False</td>\n",
       "      <td>False</td>\n",
       "    </tr>\n",
       "    <tr>\n",
       "      <th>6</th>\n",
       "      <td>False</td>\n",
       "      <td>False</td>\n",
       "      <td>False</td>\n",
       "    </tr>\n",
       "    <tr>\n",
       "      <th>7</th>\n",
       "      <td>False</td>\n",
       "      <td>False</td>\n",
       "      <td>False</td>\n",
       "    </tr>\n",
       "    <tr>\n",
       "      <th>8</th>\n",
       "      <td>False</td>\n",
       "      <td>False</td>\n",
       "      <td>False</td>\n",
       "    </tr>\n",
       "    <tr>\n",
       "      <th>9</th>\n",
       "      <td>False</td>\n",
       "      <td>False</td>\n",
       "      <td>False</td>\n",
       "    </tr>\n",
       "  </tbody>\n",
       "</table>\n",
       "</div>"
      ],
      "text/plain": [
       "     acc   c_lr   s_lr\n",
       "0   None  False  False\n",
       "1  False  False  False\n",
       "2  False  False  False\n",
       "3  False  False  False\n",
       "4  False  False  False\n",
       "5  False  False  False\n",
       "6  False  False  False\n",
       "7  False  False  False\n",
       "8  False  False  False\n",
       "9  False  False  False"
      ]
     },
     "execution_count": 44,
     "metadata": {},
     "output_type": "execute_result"
    }
   ],
   "source": [
    "get_df(exps)"
   ]
  },
  {
   "cell_type": "code",
   "execution_count": 46,
   "metadata": {},
   "outputs": [
    {
     "data": {
      "text/plain": [
       "0.001"
      ]
     },
     "execution_count": 46,
     "metadata": {},
     "output_type": "execute_result"
    }
   ],
   "source": [
    "float('0.001')"
   ]
  },
  {
   "cell_type": "code",
   "execution_count": null,
   "metadata": {},
   "outputs": [],
   "source": []
  },
  {
   "cell_type": "code",
   "execution_count": null,
   "metadata": {},
   "outputs": [],
   "source": []
  },
  {
   "cell_type": "code",
   "execution_count": null,
   "metadata": {},
   "outputs": [],
   "source": []
  },
  {
   "cell_type": "code",
   "execution_count": null,
   "metadata": {},
   "outputs": [],
   "source": []
  },
  {
   "cell_type": "code",
   "execution_count": null,
   "metadata": {},
   "outputs": [],
   "source": []
  },
  {
   "cell_type": "code",
   "execution_count": null,
   "metadata": {},
   "outputs": [],
   "source": []
  },
  {
   "cell_type": "code",
   "execution_count": 36,
   "metadata": {},
   "outputs": [
    {
     "name": "stdout",
     "output_type": "stream",
     "text": [
      "TARGET_ACC\n",
      "BREAK_ROUND\n",
      "MAX_ROUNDS\n",
      "N_CLIENTS\n",
      "CLIENT_FRACTION\n",
      "N_EPOCH_PER_CLIENT\n",
      "BATCH_SIZE\n",
      "DL_N_WORKER\n",
      "SEED\n",
      "CLIENT_OPT\n",
      "CLIENT_OPT_L2\n",
      "CLIENT_OPT_STRATEGY\n",
      "SERVER_OPT\n",
      "IS_IID_DATA\n",
      "IMAGE_NORM\n",
      "NORM\n",
      "INIT\n",
      "SERVER_OPT_BETAS_0\n",
      "SERVER_OPT_BETAS_1\n",
      "SERVER_OPT_EPS\n"
     ]
    },
    {
     "data": {
      "text/plain": [
       "[<APIExperiment 'federated-learning/10-clients/a3bae498b9824f8686dbea2d37269667'>,\n",
       " <APIExperiment 'federated-learning/10-clients/c7ca4cfc2c7a4933989c89775096d8ff'>,\n",
       " <APIExperiment 'federated-learning/10-clients/a50eb01bf50c4297ae9fff3f418311f9'>,\n",
       " <APIExperiment 'federated-learning/10-clients/36e9ef20765048ce9e09a49efe31a903'>,\n",
       " <APIExperiment 'federated-learning/10-clients/663208f204e04d6990bcd510896a88d1'>,\n",
       " <APIExperiment 'federated-learning/10-clients/c014ad2581214fdd8ea682f3e12605f4'>,\n",
       " <APIExperiment 'federated-learning/10-clients/fed75ed0a12b447ea38b727820295972'>,\n",
       " <APIExperiment 'federated-learning/10-clients/50cdf5ba652f4520a5484d3abe1e06ee'>,\n",
       " <APIExperiment 'federated-learning/10-clients/f40fb7919eba4c298bedf6a5664e6b42'>,\n",
       " <APIExperiment 'federated-learning/10-clients/61c3940921504649a6404bc8d14d5bdd'>]"
      ]
     },
     "execution_count": 36,
     "metadata": {},
     "output_type": "execute_result"
    }
   ],
   "source": [
    "query = []\n",
    "for i, (k, v) in enumerate(config.flatten().items()):\n",
    "#     if i > 14:\n",
    "#         break\n",
    "    if not k.endswith('LEARNING_RATE'):\n",
    "        print(k)\n",
    "        query.append(Parameter(k) == v if not isinstance(v, bool) else Parameter(k) == str(v))\n",
    "exps = comet_api.query('federated-learning', project_name, functools.reduce(operator.and_, query))\n",
    "exps"
   ]
  },
  {
   "cell_type": "code",
   "execution_count": 33,
   "metadata": {},
   "outputs": [
    {
     "data": {
      "text/plain": [
       "'False'"
      ]
     },
     "execution_count": 33,
     "metadata": {},
     "output_type": "execute_result"
    }
   ],
   "source": [
    "str(False)"
   ]
  },
  {
   "cell_type": "code",
   "execution_count": 48,
   "metadata": {},
   "outputs": [
    {
     "data": {
      "text/plain": [
       "{'name': 'CLIENT_LEARNING_RATE',\n",
       " 'valueMax': '0.01',\n",
       " 'valueMin': '0.01',\n",
       " 'valueCurrent': '0.01',\n",
       " 'timestampMax': 1597570807093,\n",
       " 'timestampMin': 1597570807093,\n",
       " 'timestampCurrent': 1597570807093,\n",
       " 'editable': False}"
      ]
     },
     "execution_count": 48,
     "metadata": {},
     "output_type": "execute_result"
    }
   ],
   "source": [
    "exps[0].get_parameters_summary('CLIENT_LEARNING_RATE')"
   ]
  }
 ],
 "metadata": {
  "kernelspec": {
   "display_name": "Python 3",
   "language": "python",
   "name": "python3"
  },
  "language_info": {
   "codemirror_mode": {
    "name": "ipython",
    "version": 3
   },
   "file_extension": ".py",
   "mimetype": "text/x-python",
   "name": "python",
   "nbconvert_exporter": "python",
   "pygments_lexer": "ipython3",
   "version": "3.7.6"
  }
 },
 "nbformat": 4,
 "nbformat_minor": 4
}
