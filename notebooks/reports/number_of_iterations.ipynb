{
 "cells": [
  {
   "cell_type": "code",
   "execution_count": 1,
   "metadata": {},
   "outputs": [],
   "source": [
    "import os\n",
    "os.chdir('../..')"
   ]
  },
  {
   "cell_type": "code",
   "execution_count": 2,
   "metadata": {},
   "outputs": [],
   "source": [
    "from FLF.TorchFederatedLearner import (\n",
    "    TorchFederatedLearnerTechnicalConfig,\n",
    "    ToLargeLearningRateExcpetion,\n",
    ")\n",
    "from FLF.TorchFederatedLearnerEMNIST import TorchFederatedLearnerEMNIST, TorchFederatedLearnerEMNISTConfig\n",
    "import common\n",
    "from mutil.Empty import Empty"
   ]
  },
  {
   "cell_type": "code",
   "execution_count": 29,
   "metadata": {},
   "outputs": [],
   "source": [
    "server_opt = \"Yogi\"\n",
    "client_opt = \"Yogi\"\n",
    "client_opt_strategy = \"avg\"\n",
    "\n",
    "max_rounds = 30\n",
    "n_clients_per_round = 170\n",
    "NC = 10\n",
    "C = 1\n",
    "B = 20\n",
    "is_iid = False\n",
    "model = \"CNN\"\n",
    "E = 1\n",
    "\n",
    "client_lr = 0.1\n",
    "server_lr = 0.1\n",
    "\n",
    "config = TorchFederatedLearnerEMNISTConfig(\n",
    "    CLIENT_LEARNING_RATE=client_lr,\n",
    "    CLIENT_OPT=common.get_name(client_opt),\n",
    "    CLIENT_OPT_ARGS=common.get_args(client_opt),\n",
    "    # CLIENT_OPT_L2=1e-4,\n",
    "    CLIENT_OPT_STRATEGY=client_opt_strategy,\n",
    "    SERVER_OPT=common.get_name(server_opt),\n",
    "    SERVER_OPT_ARGS=common.get_args(server_opt),\n",
    "    SERVER_LEARNING_RATE=server_lr,\n",
    "    IS_IID_DATA=is_iid,\n",
    "    BATCH_SIZE=B,\n",
    "    CLIENT_FRACTION=C,\n",
    "    N_CLIENTS=NC,\n",
    "    N_EPOCH_PER_CLIENT=E,\n",
    "    MAX_ROUNDS=max_rounds,\n",
    "    MODEL=model,\n",
    ")\n",
    "config_technical = TorchFederatedLearnerTechnicalConfig(\n",
    "    BREAK_ROUND=300,\n",
    "    EVAL_ROUND=1,\n",
    "    TEST_LAST=1,\n",
    "    STORE_OPT_ON_DISK=False,\n",
    "    STORE_MODEL_IN_RAM=False,\n",
    ")"
   ]
  },
  {
   "cell_type": "code",
   "execution_count": 30,
   "metadata": {},
   "outputs": [],
   "source": [
    "lr = TorchFederatedLearnerEMNIST(Empty(), config, config_technical)"
   ]
  },
  {
   "cell_type": "code",
   "execution_count": 31,
   "metadata": {},
   "outputs": [
    {
     "data": {
      "text/plain": [
       "3358.4"
      ]
     },
     "execution_count": 31,
     "metadata": {},
     "output_type": "execute_result"
    }
   ],
   "source": [
    "import numpy as np\n",
    "np.mean([len(c.dataloader) for c in lr.clients])"
   ]
  },
  {
   "cell_type": "code",
   "execution_count": null,
   "metadata": {},
   "outputs": [],
   "source": []
  }
 ],
 "metadata": {
  "kernelspec": {
   "display_name": "Python 3",
   "language": "python",
   "name": "python3"
  },
  "language_info": {
   "codemirror_mode": {
    "name": "ipython",
    "version": 3
   },
   "file_extension": ".py",
   "mimetype": "text/x-python",
   "name": "python",
   "nbconvert_exporter": "python",
   "pygments_lexer": "ipython3",
   "version": "3.7.6"
  }
 },
 "nbformat": 4,
 "nbformat_minor": 4
}
