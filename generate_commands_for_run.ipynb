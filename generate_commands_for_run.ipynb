{
 "cells": [
  {
   "cell_type": "code",
   "execution_count": 1,
   "metadata": {},
   "outputs": [],
   "source": [
    "import pandas as pd\n",
    "\n",
    "import common\n",
    "import viz"
   ]
  },
  {
   "cell_type": "code",
   "execution_count": 22,
   "metadata": {},
   "outputs": [],
   "source": [
    "def get_command(project, sopt, copt, avg, scf):\n",
    "    params = {\"emnist-s\": (3400, 10, 100), \n",
    "              \"emnist-m\": (340, 170, 10),\n",
    "              \"emnist-l\": (10, 10, 10)}\n",
    "    n_clients, n_clients_per_round, n_rounds = params[project]\n",
    "    strat = \"a\" if avg else \"r\"\n",
    "    all_lrs = common.get_besr_lrs_from_exps(project, sopt.lower(), strat, copt.lower(), False, n_clients, n_rounds, n_clients_per_round)\n",
    "    server_opt = sopt\n",
    "    client_opt = copt\n",
    "    \n",
    "    res = {}\n",
    "    for epoch in all_lrs.E:\n",
    "        lrs = all_lrs[all_lrs.E == epoch]\n",
    "        server_lr = lrs.slr.iloc[0]\n",
    "        client_lr = lrs.clr.iloc[0]\n",
    "        n_epochs = epoch\n",
    "        \n",
    "        res[epoch] = [f\"{'--avg ' if avg else ''}{'--eval_last_20 ' if project == 'emnist-s' else ''}{'--scaffold ' if scf else ''}{server_lr} {client_lr} {server_opt} {client_opt} {n_clients} {n_clients_per_round} {n_epochs} {n_rounds}\"]\n",
    "    return pd.DataFrame(res, index=[viz.get_label(server_opt, strat, client_opt, scf)])"
   ]
  },
  {
   "cell_type": "code",
   "execution_count": 8,
   "metadata": {},
   "outputs": [
    {
     "name": "stdout",
     "output_type": "stream",
     "text": [
      "SGD SGD False\n",
      "Yogi SGD False\n",
      "SGD SGDM True\n",
      "SGD Yogi True\n",
      "Yogi Yogi True\n"
     ]
    }
   ],
   "source": [
    "project = 'emnist-s'\n",
    "types = (\n",
    "    (\"SGD\", \"SGD\", False),\n",
    "    (\"Yogi\", \"SGD\", False),\n",
    "    (\"SGD\", \"SGDM\", True),\n",
    "    (\"SGD\", \"Yogi\", True),\n",
    "    (\"Yogi\", \"Yogi\", True)\n",
    ")\n",
    "\n",
    "df_all = pd.DataFrame()\n",
    "for sopt, copt, avg in types:\n",
    "    print(sopt, copt, avg)\n",
    "    df = get_command(project, sopt, copt, avg, False)\n",
    "    df_all = pd.concat([df_all, df])"
   ]
  },
  {
   "cell_type": "code",
   "execution_count": 15,
   "metadata": {},
   "outputs": [],
   "source": [
    "df_all.to_csv('s.csv')"
   ]
  },
  {
   "cell_type": "code",
   "execution_count": 23,
   "metadata": {},
   "outputs": [
    {
     "name": "stdout",
     "output_type": "stream",
     "text": [
      "SGD SGD False\n",
      "SGD SGD False\n",
      "Yogi SGD False\n",
      "SGD Yogi True\n",
      "Yogi Yogi True\n",
      "SGD Yogi False\n"
     ]
    }
   ],
   "source": [
    "project = 'emnist-m'\n",
    "types = (\n",
    "    (\"SGD\", \"SGD\", False, False),\n",
    "    (\"SGD\", \"SGD\", False, True),\n",
    "    (\"Yogi\", \"SGD\", False, False),\n",
    "    (\"SGD\", \"Yogi\", True, False),\n",
    "    (\"Yogi\", \"Yogi\", True, False),\n",
    "    (\"SGD\", \"Yogi\", False, False),\n",
    ")\n",
    "\n",
    "df_m = pd.DataFrame()\n",
    "for sopt, copt, avg, scf in types:\n",
    "    print(sopt, copt, avg)\n",
    "    df = get_command(project, sopt, copt, avg, scf)\n",
    "    df_m = pd.concat([df_m, df])"
   ]
  },
  {
   "cell_type": "code",
   "execution_count": 24,
   "metadata": {},
   "outputs": [],
   "source": [
    "df_m.to_csv('m.csv')"
   ]
  },
  {
   "cell_type": "code",
   "execution_count": 25,
   "metadata": {},
   "outputs": [
    {
     "name": "stdout",
     "output_type": "stream",
     "text": [
      "SGD SGD False\n",
      "SGD SGD False\n",
      "Yogi SGD False\n",
      "SGD Yogi True\n",
      "Yogi Yogi True\n",
      "SGD Yogi False\n"
     ]
    }
   ],
   "source": [
    "project = 'emnist-l'\n",
    "types = (\n",
    "    (\"SGD\", \"SGD\", False, False),\n",
    "    (\"SGD\", \"SGD\", False, True),\n",
    "    (\"Yogi\", \"SGD\", False, False),\n",
    "    (\"SGD\", \"Yogi\", True, False),\n",
    "    (\"Yogi\", \"Yogi\", True, False),\n",
    "    (\"SGD\", \"Yogi\", False, False),\n",
    ")\n",
    "\n",
    "df_l = pd.DataFrame()\n",
    "for sopt, copt, avg, scf in types:\n",
    "    print(sopt, copt, avg)\n",
    "    df = get_command(project, sopt, copt, avg, scf)\n",
    "    df_l = pd.concat([df_l, df])"
   ]
  },
  {
   "cell_type": "code",
   "execution_count": 26,
   "metadata": {},
   "outputs": [],
   "source": [
    "df_l.to_csv('l.csv')"
   ]
  }
 ],
 "metadata": {
  "kernelspec": {
   "display_name": "Python 3",
   "language": "python",
   "name": "python3"
  },
  "language_info": {
   "codemirror_mode": {
    "name": "ipython",
    "version": 3
   },
   "file_extension": ".py",
   "mimetype": "text/x-python",
   "name": "python",
   "nbconvert_exporter": "python",
   "pygments_lexer": "ipython3",
   "version": "3.7.6"
  }
 },
 "nbformat": 4,
 "nbformat_minor": 4
}
